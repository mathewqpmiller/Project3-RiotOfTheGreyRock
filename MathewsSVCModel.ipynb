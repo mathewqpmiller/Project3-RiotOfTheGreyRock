{
 "cells": [
  {
   "cell_type": "markdown",
   "metadata": {},
   "source": [
    "## Mathews notebook for Machine Learning SVC modeling"
   ]
  },
  {
   "cell_type": "markdown",
   "metadata": {},
   "source": [
    "### Load All Necessary Model Modules"
   ]
  },
  {
   "cell_type": "code",
   "execution_count": 1,
   "metadata": {},
   "outputs": [],
   "source": [
    "# Load Starter Modules\n",
    "\n",
    "# Python package for dataframe creation and manipulation\n",
    "import pandas as pd\n",
    "# Python package for low level math functions\n",
    "import numpy as np\n",
    "import os"
   ]
  },
  {
   "cell_type": "code",
   "execution_count": 2,
   "metadata": {},
   "outputs": [],
   "source": [
    "# Load RandomForest Modules\n",
    "\n",
    "# Python package for statistical modeling: RandomForests with Grid Search\n",
    "from sklearn.datasets import make_classification\n",
    "from sklearn.experimental import enable_halving_search_cv\n",
    "from sklearn.model_selection import HalvingGridSearchCV\n",
    "from sklearn.ensemble import RandomForestClassifier"
   ]
  },
  {
   "cell_type": "code",
   "execution_count": 3,
   "metadata": {},
   "outputs": [],
   "source": [
    "# Load SVC Modules\n",
    "\n",
    "# Python package for statistical modeling: support vector classifier\n",
    "from sklearn.svm import SVC \n",
    "# Python package for statistical modeling: Scale dataset\n",
    "from sklearn.preprocessing import StandardScaler\n",
    "# Python package for statistical modeling: split dataset\n",
    "from sklearn.model_selection import train_test_split\n",
    "# Python package for statistical modeling: print report\n",
    "from sklearn.metrics import classification_report"
   ]
  },
  {
   "cell_type": "markdown",
   "metadata": {},
   "source": [
    "### Create Dataset"
   ]
  },
  {
   "cell_type": "code",
   "execution_count": 4,
   "metadata": {},
   "outputs": [
    {
     "data": {
      "text/html": [
       "<div>\n",
       "<style scoped>\n",
       "    .dataframe tbody tr th:only-of-type {\n",
       "        vertical-align: middle;\n",
       "    }\n",
       "\n",
       "    .dataframe tbody tr th {\n",
       "        vertical-align: top;\n",
       "    }\n",
       "\n",
       "    .dataframe thead th {\n",
       "        text-align: right;\n",
       "    }\n",
       "</style>\n",
       "<table border=\"1\" class=\"dataframe\">\n",
       "  <thead>\n",
       "    <tr style=\"text-align: right;\">\n",
       "      <th></th>\n",
       "      <th>ColonyCount</th>\n",
       "      <th>TotalProduction</th>\n",
       "      <th>YieldPerColony</th>\n",
       "      <th>PricePerLB</th>\n",
       "      <th>ProductionValue</th>\n",
       "      <th>Stocks</th>\n",
       "      <th>Clothianidin</th>\n",
       "      <th>Imidacloprid</th>\n",
       "      <th>Thiamethoxam</th>\n",
       "      <th>Acetamiprid</th>\n",
       "      <th>Thiacloprid</th>\n",
       "      <th>CombinedNeonic</th>\n",
       "      <th>GrowthOutcome</th>\n",
       "    </tr>\n",
       "  </thead>\n",
       "  <tbody>\n",
       "    <tr>\n",
       "      <th>0</th>\n",
       "      <td>16000.0</td>\n",
       "      <td>928000.0</td>\n",
       "      <td>58</td>\n",
       "      <td>0.69</td>\n",
       "      <td>640000.0</td>\n",
       "      <td>28000.0</td>\n",
       "      <td>0.0</td>\n",
       "      <td>716.5</td>\n",
       "      <td>0.0</td>\n",
       "      <td>0.0</td>\n",
       "      <td>0.0</td>\n",
       "      <td>716.5</td>\n",
       "      <td>0</td>\n",
       "    </tr>\n",
       "    <tr>\n",
       "      <th>1</th>\n",
       "      <td>15000.0</td>\n",
       "      <td>960000.0</td>\n",
       "      <td>64</td>\n",
       "      <td>0.87</td>\n",
       "      <td>835000.0</td>\n",
       "      <td>96000.0</td>\n",
       "      <td>0.0</td>\n",
       "      <td>371.6</td>\n",
       "      <td>0.0</td>\n",
       "      <td>0.0</td>\n",
       "      <td>0.0</td>\n",
       "      <td>371.6</td>\n",
       "      <td>0</td>\n",
       "    </tr>\n",
       "    <tr>\n",
       "      <th>2</th>\n",
       "      <td>14000.0</td>\n",
       "      <td>924000.0</td>\n",
       "      <td>66</td>\n",
       "      <td>0.81</td>\n",
       "      <td>748000.0</td>\n",
       "      <td>92000.0</td>\n",
       "      <td>0.0</td>\n",
       "      <td>6704.8</td>\n",
       "      <td>0.0</td>\n",
       "      <td>0.0</td>\n",
       "      <td>0.0</td>\n",
       "      <td>6704.8</td>\n",
       "      <td>0</td>\n",
       "    </tr>\n",
       "    <tr>\n",
       "      <th>3</th>\n",
       "      <td>16000.0</td>\n",
       "      <td>1136000.0</td>\n",
       "      <td>71</td>\n",
       "      <td>0.72</td>\n",
       "      <td>818000.0</td>\n",
       "      <td>159000.0</td>\n",
       "      <td>0.0</td>\n",
       "      <td>1836.3</td>\n",
       "      <td>0.0</td>\n",
       "      <td>0.0</td>\n",
       "      <td>0.0</td>\n",
       "      <td>1836.3</td>\n",
       "      <td>1</td>\n",
       "    </tr>\n",
       "    <tr>\n",
       "      <th>4</th>\n",
       "      <td>17000.0</td>\n",
       "      <td>1156000.0</td>\n",
       "      <td>68</td>\n",
       "      <td>0.56</td>\n",
       "      <td>647000.0</td>\n",
       "      <td>185000.0</td>\n",
       "      <td>0.0</td>\n",
       "      <td>1251.2</td>\n",
       "      <td>0.0</td>\n",
       "      <td>0.0</td>\n",
       "      <td>0.0</td>\n",
       "      <td>1251.2</td>\n",
       "      <td>1</td>\n",
       "    </tr>\n",
       "  </tbody>\n",
       "</table>\n",
       "</div>"
      ],
      "text/plain": [
       "   ColonyCount  TotalProduction  YieldPerColony  PricePerLB  ProductionValue  \\\n",
       "0      16000.0         928000.0              58        0.69         640000.0   \n",
       "1      15000.0         960000.0              64        0.87         835000.0   \n",
       "2      14000.0         924000.0              66        0.81         748000.0   \n",
       "3      16000.0        1136000.0              71        0.72         818000.0   \n",
       "4      17000.0        1156000.0              68        0.56         647000.0   \n",
       "\n",
       "     Stocks  Clothianidin  Imidacloprid  Thiamethoxam  Acetamiprid  \\\n",
       "0   28000.0           0.0         716.5           0.0          0.0   \n",
       "1   96000.0           0.0         371.6           0.0          0.0   \n",
       "2   92000.0           0.0        6704.8           0.0          0.0   \n",
       "3  159000.0           0.0        1836.3           0.0          0.0   \n",
       "4  185000.0           0.0        1251.2           0.0          0.0   \n",
       "\n",
       "   Thiacloprid  CombinedNeonic  GrowthOutcome  \n",
       "0          0.0           716.5              0  \n",
       "1          0.0           371.6              0  \n",
       "2          0.0          6704.8              0  \n",
       "3          0.0          1836.3              1  \n",
       "4          0.0          1251.2              1  "
      ]
     },
     "execution_count": 4,
     "metadata": {},
     "output_type": "execute_result"
    }
   ],
   "source": [
    "# Read File\n",
    "\n",
    "honeybee_csv = pd.read_csv(os.path.join('Resources', 'Data', 'growth_designation.csv'))\n",
    "honeybee_csv.head()"
   ]
  },
  {
   "cell_type": "code",
   "execution_count": 5,
   "metadata": {},
   "outputs": [],
   "source": [
    "# Target Outcome Column\n",
    "\n",
    "target = honeybee_csv['GrowthOutcome']\n",
    "target_names = ['Growth', 'No-Growth']"
   ]
  },
  {
   "cell_type": "code",
   "execution_count": 6,
   "metadata": {},
   "outputs": [
    {
     "data": {
      "text/html": [
       "<div>\n",
       "<style scoped>\n",
       "    .dataframe tbody tr th:only-of-type {\n",
       "        vertical-align: middle;\n",
       "    }\n",
       "\n",
       "    .dataframe tbody tr th {\n",
       "        vertical-align: top;\n",
       "    }\n",
       "\n",
       "    .dataframe thead th {\n",
       "        text-align: right;\n",
       "    }\n",
       "</style>\n",
       "<table border=\"1\" class=\"dataframe\">\n",
       "  <thead>\n",
       "    <tr style=\"text-align: right;\">\n",
       "      <th></th>\n",
       "      <th>ColonyCount</th>\n",
       "      <th>TotalProduction</th>\n",
       "      <th>YieldPerColony</th>\n",
       "      <th>PricePerLB</th>\n",
       "      <th>ProductionValue</th>\n",
       "      <th>Stocks</th>\n",
       "      <th>Clothianidin</th>\n",
       "      <th>Imidacloprid</th>\n",
       "      <th>Thiamethoxam</th>\n",
       "      <th>Acetamiprid</th>\n",
       "      <th>Thiacloprid</th>\n",
       "      <th>CombinedNeonic</th>\n",
       "    </tr>\n",
       "  </thead>\n",
       "  <tbody>\n",
       "    <tr>\n",
       "      <th>0</th>\n",
       "      <td>16000.0</td>\n",
       "      <td>928000.0</td>\n",
       "      <td>58</td>\n",
       "      <td>0.69</td>\n",
       "      <td>640000.0</td>\n",
       "      <td>28000.0</td>\n",
       "      <td>0.0</td>\n",
       "      <td>716.5</td>\n",
       "      <td>0.0</td>\n",
       "      <td>0.0</td>\n",
       "      <td>0.0</td>\n",
       "      <td>716.5</td>\n",
       "    </tr>\n",
       "    <tr>\n",
       "      <th>1</th>\n",
       "      <td>15000.0</td>\n",
       "      <td>960000.0</td>\n",
       "      <td>64</td>\n",
       "      <td>0.87</td>\n",
       "      <td>835000.0</td>\n",
       "      <td>96000.0</td>\n",
       "      <td>0.0</td>\n",
       "      <td>371.6</td>\n",
       "      <td>0.0</td>\n",
       "      <td>0.0</td>\n",
       "      <td>0.0</td>\n",
       "      <td>371.6</td>\n",
       "    </tr>\n",
       "    <tr>\n",
       "      <th>2</th>\n",
       "      <td>14000.0</td>\n",
       "      <td>924000.0</td>\n",
       "      <td>66</td>\n",
       "      <td>0.81</td>\n",
       "      <td>748000.0</td>\n",
       "      <td>92000.0</td>\n",
       "      <td>0.0</td>\n",
       "      <td>6704.8</td>\n",
       "      <td>0.0</td>\n",
       "      <td>0.0</td>\n",
       "      <td>0.0</td>\n",
       "      <td>6704.8</td>\n",
       "    </tr>\n",
       "    <tr>\n",
       "      <th>3</th>\n",
       "      <td>16000.0</td>\n",
       "      <td>1136000.0</td>\n",
       "      <td>71</td>\n",
       "      <td>0.72</td>\n",
       "      <td>818000.0</td>\n",
       "      <td>159000.0</td>\n",
       "      <td>0.0</td>\n",
       "      <td>1836.3</td>\n",
       "      <td>0.0</td>\n",
       "      <td>0.0</td>\n",
       "      <td>0.0</td>\n",
       "      <td>1836.3</td>\n",
       "    </tr>\n",
       "    <tr>\n",
       "      <th>4</th>\n",
       "      <td>17000.0</td>\n",
       "      <td>1156000.0</td>\n",
       "      <td>68</td>\n",
       "      <td>0.56</td>\n",
       "      <td>647000.0</td>\n",
       "      <td>185000.0</td>\n",
       "      <td>0.0</td>\n",
       "      <td>1251.2</td>\n",
       "      <td>0.0</td>\n",
       "      <td>0.0</td>\n",
       "      <td>0.0</td>\n",
       "      <td>1251.2</td>\n",
       "    </tr>\n",
       "  </tbody>\n",
       "</table>\n",
       "</div>"
      ],
      "text/plain": [
       "   ColonyCount  TotalProduction  YieldPerColony  PricePerLB  ProductionValue  \\\n",
       "0      16000.0         928000.0              58        0.69         640000.0   \n",
       "1      15000.0         960000.0              64        0.87         835000.0   \n",
       "2      14000.0         924000.0              66        0.81         748000.0   \n",
       "3      16000.0        1136000.0              71        0.72         818000.0   \n",
       "4      17000.0        1156000.0              68        0.56         647000.0   \n",
       "\n",
       "     Stocks  Clothianidin  Imidacloprid  Thiamethoxam  Acetamiprid  \\\n",
       "0   28000.0           0.0         716.5           0.0          0.0   \n",
       "1   96000.0           0.0         371.6           0.0          0.0   \n",
       "2   92000.0           0.0        6704.8           0.0          0.0   \n",
       "3  159000.0           0.0        1836.3           0.0          0.0   \n",
       "4  185000.0           0.0        1251.2           0.0          0.0   \n",
       "\n",
       "   Thiacloprid  CombinedNeonic  \n",
       "0          0.0           716.5  \n",
       "1          0.0           371.6  \n",
       "2          0.0          6704.8  \n",
       "3          0.0          1836.3  \n",
       "4          0.0          1251.2  "
      ]
     },
     "execution_count": 6,
     "metadata": {},
     "output_type": "execute_result"
    }
   ],
   "source": [
    "# Drop Column\n",
    "\n",
    "honeybee_data = honeybee_csv.drop(['GrowthOutcome'], axis=1)\n",
    "honeybee_names = honeybee_data.columns\n",
    "honeybee_data.head()"
   ]
  },
  {
   "cell_type": "code",
   "execution_count": 7,
   "metadata": {},
   "outputs": [],
   "source": [
    "# Split Data\n",
    "\n",
    "x_train, x_test, y_train, y_test = train_test_split(honeybee_data, target, random_state=42)"
   ]
  },
  {
   "cell_type": "markdown",
   "metadata": {},
   "source": [
    "### Perform Grid Search"
   ]
  },
  {
   "cell_type": "code",
   "execution_count": 8,
   "metadata": {},
   "outputs": [
    {
     "data": {
      "text/plain": [
       "RandomForestClassifier(max_depth=5, n_estimators=800, random_state=0)"
      ]
     },
     "execution_count": 8,
     "metadata": {},
     "output_type": "execute_result"
    }
   ],
   "source": [
    "# Create Grid Search\n",
    "\n",
    "param_grid = {'max_depth': [3, 5, 10],\n",
    "              'min_samples_split': [2, 5, 10]}\n",
    "base_estimator = RandomForestClassifier(random_state=0)\n",
    "x, y = make_classification(n_samples=1000, random_state=0)\n",
    "sh = HalvingGridSearchCV(base_estimator, param_grid, cv=5,\n",
    "                         factor=2, resource='n_estimators',\n",
    "                        max_resources=30).fit(x, y)\n",
    "sh.best_estimator_\n",
    "RandomForestClassifier(max_depth=5, n_estimators=800, random_state=0)"
   ]
  },
  {
   "cell_type": "markdown",
   "metadata": {},
   "source": [
    "### Create Random Forest"
   ]
  },
  {
   "cell_type": "code",
   "execution_count": 9,
   "metadata": {},
   "outputs": [
    {
     "name": "stdout",
     "output_type": "stream",
     "text": [
      "0.6428571428571429\n"
     ]
    },
    {
     "data": {
      "text/plain": [
       "[(0.1303758133915868, 'TotalProduction'),\n",
       " (0.12387689836702231, 'ProductionValue'),\n",
       " (0.11319546561805559, 'ColonyCount'),\n",
       " (0.11176609905722622, 'Thiamethoxam'),\n",
       " (0.11066149855042025, 'PricePerLB'),\n",
       " (0.09408924009400775, 'Imidacloprid'),\n",
       " (0.09179574678692493, 'Stocks'),\n",
       " (0.09062767512653663, 'YieldPerColony'),\n",
       " (0.06142337023373653, 'CombinedNeonic'),\n",
       " (0.026612863064090154, 'Clothianidin'),\n",
       " (0.02452014957498339, 'Acetamiprid'),\n",
       " (0.021055180135409506, 'Thiacloprid')]"
      ]
     },
     "execution_count": 9,
     "metadata": {},
     "output_type": "execute_result"
    }
   ],
   "source": [
    "# Create RandomForest Classifier\n",
    "\n",
    "kepler_186f_RFClassifier = RandomForestClassifier(max_depth=5, n_estimators=24, random_state=0)\n",
    "# Fit the RandomForestClassifier to train data\n",
    "kepler_186f_RFClassifier = kepler_186f_RFClassifier.fit(x_train, y_train)\n",
    "# Score the RandomForestClassifier with test data\n",
    "print(kepler_186f_RFClassifier.score(x_test, y_test))\n",
    "sorted(zip(kepler_186f_RFClassifier.feature_importances_, honeybee_names), reverse=True)"
   ]
  },
  {
   "cell_type": "markdown",
   "metadata": {},
   "source": [
    "### SVC Model 1 Build"
   ]
  },
  {
   "cell_type": "code",
   "execution_count": 10,
   "metadata": {},
   "outputs": [],
   "source": [
    "# Create SVC Classifier\n",
    "\n",
    "honeybee_svc_model = SVC(kernel='rbf', cache_size=5000)\n",
    "#.fit(x_train, y_train)"
   ]
  },
  {
   "cell_type": "code",
   "execution_count": 11,
   "metadata": {},
   "outputs": [
    {
     "data": {
      "text/plain": [
       "SVC(cache_size=5000)"
      ]
     },
     "execution_count": 11,
     "metadata": {},
     "output_type": "execute_result"
    }
   ],
   "source": [
    "# Fit Model\n",
    "\n",
    "honeybee_svc_model.fit(x_train, y_train)"
   ]
  },
  {
   "cell_type": "code",
   "execution_count": 12,
   "metadata": {},
   "outputs": [],
   "source": [
    "# Scale Data\n",
    "\n",
    "scaler = StandardScaler().fit(x_train)\n",
    "x_train_scaled = scaler.transform(x_train)\n",
    "x_test_scaled = scaler.transform(x_test)"
   ]
  },
  {
   "cell_type": "code",
   "execution_count": 13,
   "metadata": {},
   "outputs": [
    {
     "name": "stdout",
     "output_type": "stream",
     "text": [
      "Test accuracy: 0.671\n",
      "Actual accuracy: 0.661\n"
     ]
    }
   ],
   "source": [
    "# SVC Model Accuracy\n",
    "\n",
    "print(f'Test accuracy: %.3f' % honeybee_svc_model.score(x_train, y_train))\n",
    "print(f'Actual accuracy: %.3f' % honeybee_svc_model.score(x_test, y_test))"
   ]
  },
  {
   "cell_type": "code",
   "execution_count": 14,
   "metadata": {},
   "outputs": [
    {
     "name": "stdout",
     "output_type": "stream",
     "text": [
      "              precision    recall  f1-score   support\n",
      "\n",
      "      Growth       0.68      0.92      0.78       149\n",
      "   No-Growth       0.48      0.15      0.22        75\n",
      "\n",
      "    accuracy                           0.66       224\n",
      "   macro avg       0.58      0.53      0.50       224\n",
      "weighted avg       0.61      0.66      0.60       224\n",
      "\n"
     ]
    }
   ],
   "source": [
    "# Calculate Report\n",
    "\n",
    "honeybee_prediction = honeybee_svc_model.predict(x_test)\n",
    "print(classification_report(y_test, honeybee_prediction,\n",
    "                            target_names = target_names))"
   ]
  },
  {
   "cell_type": "code",
   "execution_count": 15,
   "metadata": {},
   "outputs": [
    {
     "name": "stdout",
     "output_type": "stream",
     "text": [
      "First 10 Predictions:   [0 1 0 0 0 0 0 0 0 0]\n",
      "First 10 Actual labels: [0, 1, 0, 1, 0, 0, 0, 0, 1, 0]\n"
     ]
    }
   ],
   "source": [
    "predictions = honeybee_svc_model.predict(x_test)\n",
    "print(f\"First 10 Predictions:   {predictions[:10]}\")\n",
    "print(f\"First 10 Actual labels: {y_test[:10].tolist()}\")"
   ]
  },
  {
   "cell_type": "code",
   "execution_count": 16,
   "metadata": {},
   "outputs": [
    {
     "data": {
      "text/html": [
       "<div>\n",
       "<style scoped>\n",
       "    .dataframe tbody tr th:only-of-type {\n",
       "        vertical-align: middle;\n",
       "    }\n",
       "\n",
       "    .dataframe tbody tr th {\n",
       "        vertical-align: top;\n",
       "    }\n",
       "\n",
       "    .dataframe thead th {\n",
       "        text-align: right;\n",
       "    }\n",
       "</style>\n",
       "<table border=\"1\" class=\"dataframe\">\n",
       "  <thead>\n",
       "    <tr style=\"text-align: right;\">\n",
       "      <th></th>\n",
       "      <th>PredictedGrowth</th>\n",
       "      <th>ActualGrowth</th>\n",
       "    </tr>\n",
       "  </thead>\n",
       "  <tbody>\n",
       "    <tr>\n",
       "      <th>0</th>\n",
       "      <td>0</td>\n",
       "      <td>0</td>\n",
       "    </tr>\n",
       "    <tr>\n",
       "      <th>1</th>\n",
       "      <td>1</td>\n",
       "      <td>1</td>\n",
       "    </tr>\n",
       "    <tr>\n",
       "      <th>2</th>\n",
       "      <td>0</td>\n",
       "      <td>0</td>\n",
       "    </tr>\n",
       "    <tr>\n",
       "      <th>3</th>\n",
       "      <td>0</td>\n",
       "      <td>1</td>\n",
       "    </tr>\n",
       "    <tr>\n",
       "      <th>4</th>\n",
       "      <td>0</td>\n",
       "      <td>0</td>\n",
       "    </tr>\n",
       "    <tr>\n",
       "      <th>...</th>\n",
       "      <td>...</td>\n",
       "      <td>...</td>\n",
       "    </tr>\n",
       "    <tr>\n",
       "      <th>219</th>\n",
       "      <td>0</td>\n",
       "      <td>1</td>\n",
       "    </tr>\n",
       "    <tr>\n",
       "      <th>220</th>\n",
       "      <td>0</td>\n",
       "      <td>1</td>\n",
       "    </tr>\n",
       "    <tr>\n",
       "      <th>221</th>\n",
       "      <td>0</td>\n",
       "      <td>0</td>\n",
       "    </tr>\n",
       "    <tr>\n",
       "      <th>222</th>\n",
       "      <td>0</td>\n",
       "      <td>0</td>\n",
       "    </tr>\n",
       "    <tr>\n",
       "      <th>223</th>\n",
       "      <td>0</td>\n",
       "      <td>1</td>\n",
       "    </tr>\n",
       "  </tbody>\n",
       "</table>\n",
       "<p>224 rows × 2 columns</p>\n",
       "</div>"
      ],
      "text/plain": [
       "     PredictedGrowth  ActualGrowth\n",
       "0                  0             0\n",
       "1                  1             1\n",
       "2                  0             0\n",
       "3                  0             1\n",
       "4                  0             0\n",
       "..               ...           ...\n",
       "219                0             1\n",
       "220                0             1\n",
       "221                0             0\n",
       "222                0             0\n",
       "223                0             1\n",
       "\n",
       "[224 rows x 2 columns]"
      ]
     },
     "execution_count": 16,
     "metadata": {},
     "output_type": "execute_result"
    }
   ],
   "source": [
    "pd.DataFrame({\"PredictedGrowth\": predictions, \"ActualGrowth\": y_test}).reset_index(drop=True)"
   ]
  },
  {
   "cell_type": "markdown",
   "metadata": {},
   "source": [
    "### SVC Model 2 Build "
   ]
  },
  {
   "cell_type": "code",
   "execution_count": 17,
   "metadata": {},
   "outputs": [
    {
     "data": {
      "text/html": [
       "<div>\n",
       "<style scoped>\n",
       "    .dataframe tbody tr th:only-of-type {\n",
       "        vertical-align: middle;\n",
       "    }\n",
       "\n",
       "    .dataframe tbody tr th {\n",
       "        vertical-align: top;\n",
       "    }\n",
       "\n",
       "    .dataframe thead th {\n",
       "        text-align: right;\n",
       "    }\n",
       "</style>\n",
       "<table border=\"1\" class=\"dataframe\">\n",
       "  <thead>\n",
       "    <tr style=\"text-align: right;\">\n",
       "      <th></th>\n",
       "      <th>TotalProduction</th>\n",
       "      <th>ProductionValue</th>\n",
       "      <th>ColonyCount</th>\n",
       "      <th>Thiamethoxam</th>\n",
       "      <th>PricePerLB</th>\n",
       "    </tr>\n",
       "  </thead>\n",
       "  <tbody>\n",
       "    <tr>\n",
       "      <th>0</th>\n",
       "      <td>928000.0</td>\n",
       "      <td>640000.0</td>\n",
       "      <td>16000.0</td>\n",
       "      <td>0.0</td>\n",
       "      <td>0.69</td>\n",
       "    </tr>\n",
       "    <tr>\n",
       "      <th>1</th>\n",
       "      <td>960000.0</td>\n",
       "      <td>835000.0</td>\n",
       "      <td>15000.0</td>\n",
       "      <td>0.0</td>\n",
       "      <td>0.87</td>\n",
       "    </tr>\n",
       "    <tr>\n",
       "      <th>2</th>\n",
       "      <td>924000.0</td>\n",
       "      <td>748000.0</td>\n",
       "      <td>14000.0</td>\n",
       "      <td>0.0</td>\n",
       "      <td>0.81</td>\n",
       "    </tr>\n",
       "    <tr>\n",
       "      <th>3</th>\n",
       "      <td>1136000.0</td>\n",
       "      <td>818000.0</td>\n",
       "      <td>16000.0</td>\n",
       "      <td>0.0</td>\n",
       "      <td>0.72</td>\n",
       "    </tr>\n",
       "    <tr>\n",
       "      <th>4</th>\n",
       "      <td>1156000.0</td>\n",
       "      <td>647000.0</td>\n",
       "      <td>17000.0</td>\n",
       "      <td>0.0</td>\n",
       "      <td>0.56</td>\n",
       "    </tr>\n",
       "  </tbody>\n",
       "</table>\n",
       "</div>"
      ],
      "text/plain": [
       "   TotalProduction  ProductionValue  ColonyCount  Thiamethoxam  PricePerLB\n",
       "0         928000.0         640000.0      16000.0           0.0        0.69\n",
       "1         960000.0         835000.0      15000.0           0.0        0.87\n",
       "2         924000.0         748000.0      14000.0           0.0        0.81\n",
       "3        1136000.0         818000.0      16000.0           0.0        0.72\n",
       "4        1156000.0         647000.0      17000.0           0.0        0.56"
      ]
     },
     "execution_count": 17,
     "metadata": {},
     "output_type": "execute_result"
    }
   ],
   "source": [
    "# Keep Only\n",
    "\n",
    "honeybee_data2 = honeybee_csv[['TotalProduction', 'ProductionValue', 'ColonyCount','Thiamethoxam','PricePerLB']]\n",
    "honeybee_names = honeybee_data.columns\n",
    "honeybee_data2.head()"
   ]
  },
  {
   "cell_type": "code",
   "execution_count": 18,
   "metadata": {},
   "outputs": [],
   "source": [
    "# Split Data\n",
    "\n",
    "x_train, x_test, y_train, y_test = train_test_split(honeybee_data2, target, random_state=42)"
   ]
  },
  {
   "cell_type": "code",
   "execution_count": 19,
   "metadata": {},
   "outputs": [],
   "source": [
    "# Create SVC Classifier\n",
    "\n",
    "honeybee_svc_model2 = SVC(kernel='rbf', cache_size=5000).fit(x_train, y_train)"
   ]
  },
  {
   "cell_type": "code",
   "execution_count": 20,
   "metadata": {},
   "outputs": [],
   "source": [
    "# Scale Data\n",
    "\n",
    "scaler = StandardScaler().fit(x_train)\n",
    "x_train_scaled = scaler.transform(x_train)\n",
    "x_test_scaled = scaler.transform(x_test)"
   ]
  },
  {
   "cell_type": "code",
   "execution_count": 21,
   "metadata": {},
   "outputs": [
    {
     "name": "stdout",
     "output_type": "stream",
     "text": [
      "Test accuracy: 0.671\n",
      "Actual accuracy: 0.656\n"
     ]
    }
   ],
   "source": [
    "# SVC Model Accuracy\n",
    "\n",
    "print(f'Test accuracy: %.3f' % honeybee_svc_model2.score(x_train, y_train))\n",
    "print(f'Actual accuracy: %.3f' % honeybee_svc_model2.score(x_test, y_test))"
   ]
  },
  {
   "cell_type": "code",
   "execution_count": 22,
   "metadata": {},
   "outputs": [
    {
     "name": "stdout",
     "output_type": "stream",
     "text": [
      "              precision    recall  f1-score   support\n",
      "\n",
      "      Growth       0.68      0.90      0.78       149\n",
      "   No-Growth       0.46      0.17      0.25        75\n",
      "\n",
      "    accuracy                           0.66       224\n",
      "   macro avg       0.57      0.54      0.51       224\n",
      "weighted avg       0.61      0.66      0.60       224\n",
      "\n"
     ]
    }
   ],
   "source": [
    "# Calculate Report\n",
    "\n",
    "honeybee_prediction = honeybee_svc_model2.predict(x_test)\n",
    "print(classification_report(y_test, honeybee_prediction,\n",
    "                            target_names = target_names))"
   ]
  },
  {
   "cell_type": "code",
   "execution_count": 23,
   "metadata": {},
   "outputs": [
    {
     "name": "stdout",
     "output_type": "stream",
     "text": [
      "First 10 Predictions:   [0 1 0 0 0 0 0 0 0 0]\n",
      "First 10 Actual labels: [0, 1, 0, 1, 0, 0, 0, 0, 1, 0]\n"
     ]
    }
   ],
   "source": [
    "predictions2 = honeybee_svc_model2.predict(x_test)\n",
    "print(f\"First 10 Predictions:   {predictions2[:10]}\")\n",
    "print(f\"First 10 Actual labels: {y_test[:10].tolist()}\")"
   ]
  },
  {
   "cell_type": "code",
   "execution_count": 24,
   "metadata": {},
   "outputs": [
    {
     "data": {
      "text/html": [
       "<div>\n",
       "<style scoped>\n",
       "    .dataframe tbody tr th:only-of-type {\n",
       "        vertical-align: middle;\n",
       "    }\n",
       "\n",
       "    .dataframe tbody tr th {\n",
       "        vertical-align: top;\n",
       "    }\n",
       "\n",
       "    .dataframe thead th {\n",
       "        text-align: right;\n",
       "    }\n",
       "</style>\n",
       "<table border=\"1\" class=\"dataframe\">\n",
       "  <thead>\n",
       "    <tr style=\"text-align: right;\">\n",
       "      <th></th>\n",
       "      <th>Predicted Growth</th>\n",
       "      <th>Actual_Growth</th>\n",
       "    </tr>\n",
       "  </thead>\n",
       "  <tbody>\n",
       "    <tr>\n",
       "      <th>0</th>\n",
       "      <td>0</td>\n",
       "      <td>0</td>\n",
       "    </tr>\n",
       "    <tr>\n",
       "      <th>1</th>\n",
       "      <td>1</td>\n",
       "      <td>1</td>\n",
       "    </tr>\n",
       "    <tr>\n",
       "      <th>2</th>\n",
       "      <td>0</td>\n",
       "      <td>0</td>\n",
       "    </tr>\n",
       "    <tr>\n",
       "      <th>3</th>\n",
       "      <td>0</td>\n",
       "      <td>1</td>\n",
       "    </tr>\n",
       "    <tr>\n",
       "      <th>4</th>\n",
       "      <td>0</td>\n",
       "      <td>0</td>\n",
       "    </tr>\n",
       "    <tr>\n",
       "      <th>...</th>\n",
       "      <td>...</td>\n",
       "      <td>...</td>\n",
       "    </tr>\n",
       "    <tr>\n",
       "      <th>219</th>\n",
       "      <td>0</td>\n",
       "      <td>1</td>\n",
       "    </tr>\n",
       "    <tr>\n",
       "      <th>220</th>\n",
       "      <td>0</td>\n",
       "      <td>1</td>\n",
       "    </tr>\n",
       "    <tr>\n",
       "      <th>221</th>\n",
       "      <td>0</td>\n",
       "      <td>0</td>\n",
       "    </tr>\n",
       "    <tr>\n",
       "      <th>222</th>\n",
       "      <td>0</td>\n",
       "      <td>0</td>\n",
       "    </tr>\n",
       "    <tr>\n",
       "      <th>223</th>\n",
       "      <td>0</td>\n",
       "      <td>1</td>\n",
       "    </tr>\n",
       "  </tbody>\n",
       "</table>\n",
       "<p>224 rows × 2 columns</p>\n",
       "</div>"
      ],
      "text/plain": [
       "     Predicted Growth  Actual_Growth\n",
       "0                   0              0\n",
       "1                   1              1\n",
       "2                   0              0\n",
       "3                   0              1\n",
       "4                   0              0\n",
       "..                ...            ...\n",
       "219                 0              1\n",
       "220                 0              1\n",
       "221                 0              0\n",
       "222                 0              0\n",
       "223                 0              1\n",
       "\n",
       "[224 rows x 2 columns]"
      ]
     },
     "execution_count": 24,
     "metadata": {},
     "output_type": "execute_result"
    }
   ],
   "source": [
    "pd.DataFrame({\"Predicted Growth\": predictions2, \"Actual_Growth\": y_test}).reset_index(drop=True)"
   ]
  },
  {
   "cell_type": "markdown",
   "metadata": {},
   "source": [
    "### SVC Model 3 Build "
   ]
  },
  {
   "cell_type": "code",
   "execution_count": 25,
   "metadata": {},
   "outputs": [
    {
     "data": {
      "text/html": [
       "<div>\n",
       "<style scoped>\n",
       "    .dataframe tbody tr th:only-of-type {\n",
       "        vertical-align: middle;\n",
       "    }\n",
       "\n",
       "    .dataframe tbody tr th {\n",
       "        vertical-align: top;\n",
       "    }\n",
       "\n",
       "    .dataframe thead th {\n",
       "        text-align: right;\n",
       "    }\n",
       "</style>\n",
       "<table border=\"1\" class=\"dataframe\">\n",
       "  <thead>\n",
       "    <tr style=\"text-align: right;\">\n",
       "      <th></th>\n",
       "      <th>Clothianidin</th>\n",
       "      <th>Imidacloprid</th>\n",
       "      <th>Thiamethoxam</th>\n",
       "      <th>Acetamiprid</th>\n",
       "      <th>Thiacloprid</th>\n",
       "    </tr>\n",
       "  </thead>\n",
       "  <tbody>\n",
       "    <tr>\n",
       "      <th>0</th>\n",
       "      <td>0.0</td>\n",
       "      <td>716.5</td>\n",
       "      <td>0.0</td>\n",
       "      <td>0.0</td>\n",
       "      <td>0.0</td>\n",
       "    </tr>\n",
       "    <tr>\n",
       "      <th>1</th>\n",
       "      <td>0.0</td>\n",
       "      <td>371.6</td>\n",
       "      <td>0.0</td>\n",
       "      <td>0.0</td>\n",
       "      <td>0.0</td>\n",
       "    </tr>\n",
       "    <tr>\n",
       "      <th>2</th>\n",
       "      <td>0.0</td>\n",
       "      <td>6704.8</td>\n",
       "      <td>0.0</td>\n",
       "      <td>0.0</td>\n",
       "      <td>0.0</td>\n",
       "    </tr>\n",
       "    <tr>\n",
       "      <th>3</th>\n",
       "      <td>0.0</td>\n",
       "      <td>1836.3</td>\n",
       "      <td>0.0</td>\n",
       "      <td>0.0</td>\n",
       "      <td>0.0</td>\n",
       "    </tr>\n",
       "    <tr>\n",
       "      <th>4</th>\n",
       "      <td>0.0</td>\n",
       "      <td>1251.2</td>\n",
       "      <td>0.0</td>\n",
       "      <td>0.0</td>\n",
       "      <td>0.0</td>\n",
       "    </tr>\n",
       "  </tbody>\n",
       "</table>\n",
       "</div>"
      ],
      "text/plain": [
       "   Clothianidin  Imidacloprid  Thiamethoxam  Acetamiprid  Thiacloprid\n",
       "0           0.0         716.5           0.0          0.0          0.0\n",
       "1           0.0         371.6           0.0          0.0          0.0\n",
       "2           0.0        6704.8           0.0          0.0          0.0\n",
       "3           0.0        1836.3           0.0          0.0          0.0\n",
       "4           0.0        1251.2           0.0          0.0          0.0"
      ]
     },
     "execution_count": 25,
     "metadata": {},
     "output_type": "execute_result"
    }
   ],
   "source": [
    "# Keep Only\n",
    "\n",
    "honeybee_data3 = honeybee_csv[['Clothianidin', 'Imidacloprid', 'Thiamethoxam','Acetamiprid','Thiacloprid']]\n",
    "honeybee_names = honeybee_data.columns\n",
    "honeybee_data3.head()"
   ]
  },
  {
   "cell_type": "code",
   "execution_count": 26,
   "metadata": {},
   "outputs": [],
   "source": [
    "# Split Data\n",
    "\n",
    "x_train, x_test, y_train, y_test = train_test_split(honeybee_data3, target, random_state=1)"
   ]
  },
  {
   "cell_type": "code",
   "execution_count": 27,
   "metadata": {},
   "outputs": [],
   "source": [
    "# Create SVC Classifier\n",
    "\n",
    "honeybee_svc_model3 = SVC(kernel='rbf', cache_size=5000).fit(x_train, y_train)"
   ]
  },
  {
   "cell_type": "code",
   "execution_count": 28,
   "metadata": {},
   "outputs": [],
   "source": [
    "# Scale Data\n",
    "\n",
    "scaler = StandardScaler().fit(x_train)\n",
    "x_train_scaled = scaler.transform(x_train)\n",
    "x_test_scaled = scaler.transform(x_test)"
   ]
  },
  {
   "cell_type": "code",
   "execution_count": 29,
   "metadata": {},
   "outputs": [
    {
     "name": "stdout",
     "output_type": "stream",
     "text": [
      "Test accuracy: 0.668\n",
      "Actual accuracy: 0.625\n"
     ]
    }
   ],
   "source": [
    "# SVC Model Accuracy\n",
    "\n",
    "print(f'Test accuracy: %.3f' % honeybee_svc_model3.score(x_train, y_train))\n",
    "print(f'Actual accuracy: %.3f' % honeybee_svc_model3.score(x_test, y_test))"
   ]
  },
  {
   "cell_type": "code",
   "execution_count": 30,
   "metadata": {},
   "outputs": [
    {
     "name": "stdout",
     "output_type": "stream",
     "text": [
      "              precision    recall  f1-score   support\n",
      "\n",
      "      Growth       0.62      0.99      0.77       139\n",
      "   No-Growth       0.67      0.02      0.05        85\n",
      "\n",
      "    accuracy                           0.62       224\n",
      "   macro avg       0.65      0.51      0.41       224\n",
      "weighted avg       0.64      0.62      0.49       224\n",
      "\n"
     ]
    }
   ],
   "source": [
    "# Calculate Report\n",
    "\n",
    "honeybee_prediction = honeybee_svc_model3.predict(x_test)\n",
    "print(classification_report(y_test, honeybee_prediction,\n",
    "                            target_names = target_names))"
   ]
  },
  {
   "cell_type": "code",
   "execution_count": 31,
   "metadata": {},
   "outputs": [
    {
     "name": "stdout",
     "output_type": "stream",
     "text": [
      "First 10 Predictions:   [0 0 0 0 0 0 0 0 0 0]\n",
      "First 10 Actual labels: [0, 0, 1, 0, 0, 1, 0, 0, 1, 1]\n"
     ]
    }
   ],
   "source": [
    "predictions3 = honeybee_svc_model3.predict(x_test)\n",
    "print(f\"First 10 Predictions:   {predictions3[:10]}\")\n",
    "print(f\"First 10 Actual labels: {y_test[:10].tolist()}\")"
   ]
  },
  {
   "cell_type": "code",
   "execution_count": 32,
   "metadata": {},
   "outputs": [
    {
     "data": {
      "text/html": [
       "<div>\n",
       "<style scoped>\n",
       "    .dataframe tbody tr th:only-of-type {\n",
       "        vertical-align: middle;\n",
       "    }\n",
       "\n",
       "    .dataframe tbody tr th {\n",
       "        vertical-align: top;\n",
       "    }\n",
       "\n",
       "    .dataframe thead th {\n",
       "        text-align: right;\n",
       "    }\n",
       "</style>\n",
       "<table border=\"1\" class=\"dataframe\">\n",
       "  <thead>\n",
       "    <tr style=\"text-align: right;\">\n",
       "      <th></th>\n",
       "      <th>Predicted Growth</th>\n",
       "      <th>Actual_Growth</th>\n",
       "    </tr>\n",
       "  </thead>\n",
       "  <tbody>\n",
       "    <tr>\n",
       "      <th>0</th>\n",
       "      <td>0</td>\n",
       "      <td>0</td>\n",
       "    </tr>\n",
       "    <tr>\n",
       "      <th>1</th>\n",
       "      <td>0</td>\n",
       "      <td>0</td>\n",
       "    </tr>\n",
       "    <tr>\n",
       "      <th>2</th>\n",
       "      <td>0</td>\n",
       "      <td>1</td>\n",
       "    </tr>\n",
       "    <tr>\n",
       "      <th>3</th>\n",
       "      <td>0</td>\n",
       "      <td>0</td>\n",
       "    </tr>\n",
       "    <tr>\n",
       "      <th>4</th>\n",
       "      <td>0</td>\n",
       "      <td>0</td>\n",
       "    </tr>\n",
       "    <tr>\n",
       "      <th>...</th>\n",
       "      <td>...</td>\n",
       "      <td>...</td>\n",
       "    </tr>\n",
       "    <tr>\n",
       "      <th>219</th>\n",
       "      <td>0</td>\n",
       "      <td>0</td>\n",
       "    </tr>\n",
       "    <tr>\n",
       "      <th>220</th>\n",
       "      <td>1</td>\n",
       "      <td>1</td>\n",
       "    </tr>\n",
       "    <tr>\n",
       "      <th>221</th>\n",
       "      <td>0</td>\n",
       "      <td>0</td>\n",
       "    </tr>\n",
       "    <tr>\n",
       "      <th>222</th>\n",
       "      <td>0</td>\n",
       "      <td>0</td>\n",
       "    </tr>\n",
       "    <tr>\n",
       "      <th>223</th>\n",
       "      <td>0</td>\n",
       "      <td>0</td>\n",
       "    </tr>\n",
       "  </tbody>\n",
       "</table>\n",
       "<p>224 rows × 2 columns</p>\n",
       "</div>"
      ],
      "text/plain": [
       "     Predicted Growth  Actual_Growth\n",
       "0                   0              0\n",
       "1                   0              0\n",
       "2                   0              1\n",
       "3                   0              0\n",
       "4                   0              0\n",
       "..                ...            ...\n",
       "219                 0              0\n",
       "220                 1              1\n",
       "221                 0              0\n",
       "222                 0              0\n",
       "223                 0              0\n",
       "\n",
       "[224 rows x 2 columns]"
      ]
     },
     "execution_count": 32,
     "metadata": {},
     "output_type": "execute_result"
    }
   ],
   "source": [
    "pd.DataFrame({\"Predicted Growth\": predictions3, \"Actual_Growth\": y_test}).reset_index(drop=True)"
   ]
  },
  {
   "cell_type": "markdown",
   "metadata": {},
   "source": [
    "### SVC Model 4 Build "
   ]
  },
  {
   "cell_type": "code",
   "execution_count": 33,
   "metadata": {},
   "outputs": [
    {
     "data": {
      "text/html": [
       "<div>\n",
       "<style scoped>\n",
       "    .dataframe tbody tr th:only-of-type {\n",
       "        vertical-align: middle;\n",
       "    }\n",
       "\n",
       "    .dataframe tbody tr th {\n",
       "        vertical-align: top;\n",
       "    }\n",
       "\n",
       "    .dataframe thead th {\n",
       "        text-align: right;\n",
       "    }\n",
       "</style>\n",
       "<table border=\"1\" class=\"dataframe\">\n",
       "  <thead>\n",
       "    <tr style=\"text-align: right;\">\n",
       "      <th></th>\n",
       "      <th>CombinedNeonic</th>\n",
       "    </tr>\n",
       "  </thead>\n",
       "  <tbody>\n",
       "    <tr>\n",
       "      <th>0</th>\n",
       "      <td>716.5</td>\n",
       "    </tr>\n",
       "    <tr>\n",
       "      <th>1</th>\n",
       "      <td>371.6</td>\n",
       "    </tr>\n",
       "    <tr>\n",
       "      <th>2</th>\n",
       "      <td>6704.8</td>\n",
       "    </tr>\n",
       "    <tr>\n",
       "      <th>3</th>\n",
       "      <td>1836.3</td>\n",
       "    </tr>\n",
       "    <tr>\n",
       "      <th>4</th>\n",
       "      <td>1251.2</td>\n",
       "    </tr>\n",
       "  </tbody>\n",
       "</table>\n",
       "</div>"
      ],
      "text/plain": [
       "   CombinedNeonic\n",
       "0           716.5\n",
       "1           371.6\n",
       "2          6704.8\n",
       "3          1836.3\n",
       "4          1251.2"
      ]
     },
     "execution_count": 33,
     "metadata": {},
     "output_type": "execute_result"
    }
   ],
   "source": [
    "# Keep Only\n",
    "\n",
    "honeybee_data4 = honeybee_csv[[\"CombinedNeonic\"]]\n",
    "honeybee_names = honeybee_data.columns\n",
    "honeybee_data4.head()"
   ]
  },
  {
   "cell_type": "code",
   "execution_count": 34,
   "metadata": {},
   "outputs": [],
   "source": [
    "# Split Data\n",
    "\n",
    "x_train, x_test, y_train, y_test = train_test_split(honeybee_data4, target, random_state=1)"
   ]
  },
  {
   "cell_type": "code",
   "execution_count": 35,
   "metadata": {},
   "outputs": [],
   "source": [
    "# Create SVC Classifier\n",
    "\n",
    "honeybee_svc_model4 = SVC(kernel='rbf', cache_size=5000).fit(x_train, y_train)"
   ]
  },
  {
   "cell_type": "code",
   "execution_count": 36,
   "metadata": {},
   "outputs": [],
   "source": [
    "# Scale Data\n",
    "\n",
    "scaler = StandardScaler().fit(x_train)\n",
    "x_train_scaled = scaler.transform(x_train)\n",
    "x_test_scaled = scaler.transform(x_test)"
   ]
  },
  {
   "cell_type": "code",
   "execution_count": 37,
   "metadata": {},
   "outputs": [
    {
     "name": "stdout",
     "output_type": "stream",
     "text": [
      "Test accuracy: 0.657\n",
      "Actual accuracy: 0.616\n"
     ]
    }
   ],
   "source": [
    "# SVC Model Accuracy\n",
    "\n",
    "print(f'Test accuracy: %.3f' % honeybee_svc_model4.score(x_train, y_train))\n",
    "print(f'Actual accuracy: %.3f' % honeybee_svc_model4.score(x_test, y_test))"
   ]
  },
  {
   "cell_type": "code",
   "execution_count": 38,
   "metadata": {},
   "outputs": [
    {
     "name": "stdout",
     "output_type": "stream",
     "text": [
      "              precision    recall  f1-score   support\n",
      "\n",
      "      Growth       0.62      0.99      0.76       139\n",
      "   No-Growth       0.33      0.01      0.02        85\n",
      "\n",
      "    accuracy                           0.62       224\n",
      "   macro avg       0.48      0.50      0.39       224\n",
      "weighted avg       0.51      0.62      0.48       224\n",
      "\n"
     ]
    }
   ],
   "source": [
    "# Calculate Report\n",
    "\n",
    "honeybee_prediction = honeybee_svc_model4.predict(x_test)\n",
    "print(classification_report(y_test, honeybee_prediction,\n",
    "                            target_names = target_names))"
   ]
  },
  {
   "cell_type": "code",
   "execution_count": 39,
   "metadata": {},
   "outputs": [
    {
     "name": "stdout",
     "output_type": "stream",
     "text": [
      "First 10 Predictions:   [0 0 0 0 0 0 0 0 0 0]\n",
      "First 10 Actual labels: [0, 0, 1, 0, 0, 1, 0, 0, 1, 1]\n"
     ]
    }
   ],
   "source": [
    "predictions4 = honeybee_svc_model4.predict(x_test)\n",
    "print(f\"First 10 Predictions:   {predictions4[:10]}\")\n",
    "print(f\"First 10 Actual labels: {y_test[:10].tolist()}\")"
   ]
  },
  {
   "cell_type": "code",
   "execution_count": 40,
   "metadata": {},
   "outputs": [
    {
     "data": {
      "text/html": [
       "<div>\n",
       "<style scoped>\n",
       "    .dataframe tbody tr th:only-of-type {\n",
       "        vertical-align: middle;\n",
       "    }\n",
       "\n",
       "    .dataframe tbody tr th {\n",
       "        vertical-align: top;\n",
       "    }\n",
       "\n",
       "    .dataframe thead th {\n",
       "        text-align: right;\n",
       "    }\n",
       "</style>\n",
       "<table border=\"1\" class=\"dataframe\">\n",
       "  <thead>\n",
       "    <tr style=\"text-align: right;\">\n",
       "      <th></th>\n",
       "      <th>Predicted Growth</th>\n",
       "      <th>Actual_Growth</th>\n",
       "    </tr>\n",
       "  </thead>\n",
       "  <tbody>\n",
       "    <tr>\n",
       "      <th>0</th>\n",
       "      <td>0</td>\n",
       "      <td>0</td>\n",
       "    </tr>\n",
       "    <tr>\n",
       "      <th>1</th>\n",
       "      <td>0</td>\n",
       "      <td>0</td>\n",
       "    </tr>\n",
       "    <tr>\n",
       "      <th>2</th>\n",
       "      <td>0</td>\n",
       "      <td>1</td>\n",
       "    </tr>\n",
       "    <tr>\n",
       "      <th>3</th>\n",
       "      <td>0</td>\n",
       "      <td>0</td>\n",
       "    </tr>\n",
       "    <tr>\n",
       "      <th>4</th>\n",
       "      <td>0</td>\n",
       "      <td>0</td>\n",
       "    </tr>\n",
       "    <tr>\n",
       "      <th>...</th>\n",
       "      <td>...</td>\n",
       "      <td>...</td>\n",
       "    </tr>\n",
       "    <tr>\n",
       "      <th>219</th>\n",
       "      <td>0</td>\n",
       "      <td>0</td>\n",
       "    </tr>\n",
       "    <tr>\n",
       "      <th>220</th>\n",
       "      <td>1</td>\n",
       "      <td>1</td>\n",
       "    </tr>\n",
       "    <tr>\n",
       "      <th>221</th>\n",
       "      <td>0</td>\n",
       "      <td>0</td>\n",
       "    </tr>\n",
       "    <tr>\n",
       "      <th>222</th>\n",
       "      <td>0</td>\n",
       "      <td>0</td>\n",
       "    </tr>\n",
       "    <tr>\n",
       "      <th>223</th>\n",
       "      <td>0</td>\n",
       "      <td>0</td>\n",
       "    </tr>\n",
       "  </tbody>\n",
       "</table>\n",
       "<p>224 rows × 2 columns</p>\n",
       "</div>"
      ],
      "text/plain": [
       "     Predicted Growth  Actual_Growth\n",
       "0                   0              0\n",
       "1                   0              0\n",
       "2                   0              1\n",
       "3                   0              0\n",
       "4                   0              0\n",
       "..                ...            ...\n",
       "219                 0              0\n",
       "220                 1              1\n",
       "221                 0              0\n",
       "222                 0              0\n",
       "223                 0              0\n",
       "\n",
       "[224 rows x 2 columns]"
      ]
     },
     "execution_count": 40,
     "metadata": {},
     "output_type": "execute_result"
    }
   ],
   "source": [
    "pd.DataFrame({\"Predicted Growth\": predictions4, \"Actual_Growth\": y_test}).reset_index(drop=True)"
   ]
  },
  {
   "cell_type": "markdown",
   "metadata": {},
   "source": [
    "### SVC Model 5 Build "
   ]
  },
  {
   "cell_type": "code",
   "execution_count": 41,
   "metadata": {},
   "outputs": [
    {
     "data": {
      "text/html": [
       "<div>\n",
       "<style scoped>\n",
       "    .dataframe tbody tr th:only-of-type {\n",
       "        vertical-align: middle;\n",
       "    }\n",
       "\n",
       "    .dataframe tbody tr th {\n",
       "        vertical-align: top;\n",
       "    }\n",
       "\n",
       "    .dataframe thead th {\n",
       "        text-align: right;\n",
       "    }\n",
       "</style>\n",
       "<table border=\"1\" class=\"dataframe\">\n",
       "  <thead>\n",
       "    <tr style=\"text-align: right;\">\n",
       "      <th></th>\n",
       "      <th>ColonyCount</th>\n",
       "      <th>TotalProduction</th>\n",
       "      <th>YieldPerColony</th>\n",
       "      <th>PricePerLB</th>\n",
       "      <th>ProductionValue</th>\n",
       "      <th>Stocks</th>\n",
       "    </tr>\n",
       "  </thead>\n",
       "  <tbody>\n",
       "    <tr>\n",
       "      <th>0</th>\n",
       "      <td>16000.0</td>\n",
       "      <td>928000.0</td>\n",
       "      <td>58</td>\n",
       "      <td>0.69</td>\n",
       "      <td>640000.0</td>\n",
       "      <td>28000.0</td>\n",
       "    </tr>\n",
       "    <tr>\n",
       "      <th>1</th>\n",
       "      <td>15000.0</td>\n",
       "      <td>960000.0</td>\n",
       "      <td>64</td>\n",
       "      <td>0.87</td>\n",
       "      <td>835000.0</td>\n",
       "      <td>96000.0</td>\n",
       "    </tr>\n",
       "    <tr>\n",
       "      <th>2</th>\n",
       "      <td>14000.0</td>\n",
       "      <td>924000.0</td>\n",
       "      <td>66</td>\n",
       "      <td>0.81</td>\n",
       "      <td>748000.0</td>\n",
       "      <td>92000.0</td>\n",
       "    </tr>\n",
       "    <tr>\n",
       "      <th>3</th>\n",
       "      <td>16000.0</td>\n",
       "      <td>1136000.0</td>\n",
       "      <td>71</td>\n",
       "      <td>0.72</td>\n",
       "      <td>818000.0</td>\n",
       "      <td>159000.0</td>\n",
       "    </tr>\n",
       "    <tr>\n",
       "      <th>4</th>\n",
       "      <td>17000.0</td>\n",
       "      <td>1156000.0</td>\n",
       "      <td>68</td>\n",
       "      <td>0.56</td>\n",
       "      <td>647000.0</td>\n",
       "      <td>185000.0</td>\n",
       "    </tr>\n",
       "  </tbody>\n",
       "</table>\n",
       "</div>"
      ],
      "text/plain": [
       "   ColonyCount  TotalProduction  YieldPerColony  PricePerLB  ProductionValue  \\\n",
       "0      16000.0         928000.0              58        0.69         640000.0   \n",
       "1      15000.0         960000.0              64        0.87         835000.0   \n",
       "2      14000.0         924000.0              66        0.81         748000.0   \n",
       "3      16000.0        1136000.0              71        0.72         818000.0   \n",
       "4      17000.0        1156000.0              68        0.56         647000.0   \n",
       "\n",
       "     Stocks  \n",
       "0   28000.0  \n",
       "1   96000.0  \n",
       "2   92000.0  \n",
       "3  159000.0  \n",
       "4  185000.0  "
      ]
     },
     "execution_count": 41,
     "metadata": {},
     "output_type": "execute_result"
    }
   ],
   "source": [
    "# Keep Only\n",
    "\n",
    "honeybee_data5 = honeybee_csv[['ColonyCount', 'TotalProduction', 'YieldPerColony', 'PricePerLB', 'ProductionValue', 'Stocks']]\n",
    "honeybee_names = honeybee_data.columns\n",
    "honeybee_data5.head()"
   ]
  },
  {
   "cell_type": "code",
   "execution_count": 42,
   "metadata": {},
   "outputs": [],
   "source": [
    "# Split Data\n",
    "\n",
    "x_train, x_test, y_train, y_test = train_test_split(honeybee_data5, target, random_state=1)"
   ]
  },
  {
   "cell_type": "code",
   "execution_count": 43,
   "metadata": {},
   "outputs": [],
   "source": [
    "# Create SVC Classifier\n",
    "\n",
    "honeybee_svc_model5 = SVC(kernel='rbf', cache_size=5000).fit(x_train, y_train)"
   ]
  },
  {
   "cell_type": "code",
   "execution_count": 44,
   "metadata": {},
   "outputs": [],
   "source": [
    "# Scale Data\n",
    "\n",
    "scaler = StandardScaler().fit(x_train)\n",
    "x_train_scaled = scaler.transform(x_train)\n",
    "x_test_scaled = scaler.transform(x_test)"
   ]
  },
  {
   "cell_type": "code",
   "execution_count": 45,
   "metadata": {},
   "outputs": [
    {
     "name": "stdout",
     "output_type": "stream",
     "text": [
      "Test accuracy: 0.677\n",
      "Actual accuracy: 0.625\n"
     ]
    }
   ],
   "source": [
    "# SVC Model Accuracy\n",
    "\n",
    "print(f'Test accuracy: %.3f' % honeybee_svc_model5.score(x_train, y_train))\n",
    "print(f'Actual accuracy: %.3f' % honeybee_svc_model5.score(x_test, y_test))"
   ]
  },
  {
   "cell_type": "code",
   "execution_count": 46,
   "metadata": {},
   "outputs": [
    {
     "name": "stdout",
     "output_type": "stream",
     "text": [
      "              precision    recall  f1-score   support\n",
      "\n",
      "      Growth       0.63      0.97      0.76       139\n",
      "   No-Growth       0.56      0.06      0.11        85\n",
      "\n",
      "    accuracy                           0.62       224\n",
      "   macro avg       0.59      0.52      0.43       224\n",
      "weighted avg       0.60      0.62      0.51       224\n",
      "\n"
     ]
    }
   ],
   "source": [
    "# Calculate Report\n",
    "\n",
    "honeybee_prediction = honeybee_svc_model5.predict(x_test)\n",
    "print(classification_report(y_test, honeybee_prediction,\n",
    "                            target_names = target_names))"
   ]
  },
  {
   "cell_type": "code",
   "execution_count": 47,
   "metadata": {},
   "outputs": [
    {
     "name": "stdout",
     "output_type": "stream",
     "text": [
      "First 10 Predictions:   [0 0 0 1 0 0 0 0 0 0]\n",
      "First 10 Actual labels: [0, 0, 1, 0, 0, 1, 0, 0, 1, 1]\n"
     ]
    }
   ],
   "source": [
    "predictions5 = honeybee_svc_model5.predict(x_test)\n",
    "print(f\"First 10 Predictions:   {predictions5[:10]}\")\n",
    "print(f\"First 10 Actual labels: {y_test[:10].tolist()}\")"
   ]
  },
  {
   "cell_type": "code",
   "execution_count": 48,
   "metadata": {},
   "outputs": [
    {
     "data": {
      "text/html": [
       "<div>\n",
       "<style scoped>\n",
       "    .dataframe tbody tr th:only-of-type {\n",
       "        vertical-align: middle;\n",
       "    }\n",
       "\n",
       "    .dataframe tbody tr th {\n",
       "        vertical-align: top;\n",
       "    }\n",
       "\n",
       "    .dataframe thead th {\n",
       "        text-align: right;\n",
       "    }\n",
       "</style>\n",
       "<table border=\"1\" class=\"dataframe\">\n",
       "  <thead>\n",
       "    <tr style=\"text-align: right;\">\n",
       "      <th></th>\n",
       "      <th>Predicted Growth</th>\n",
       "      <th>Actual_Growth</th>\n",
       "    </tr>\n",
       "  </thead>\n",
       "  <tbody>\n",
       "    <tr>\n",
       "      <th>0</th>\n",
       "      <td>0</td>\n",
       "      <td>0</td>\n",
       "    </tr>\n",
       "    <tr>\n",
       "      <th>1</th>\n",
       "      <td>0</td>\n",
       "      <td>0</td>\n",
       "    </tr>\n",
       "    <tr>\n",
       "      <th>2</th>\n",
       "      <td>0</td>\n",
       "      <td>1</td>\n",
       "    </tr>\n",
       "    <tr>\n",
       "      <th>3</th>\n",
       "      <td>1</td>\n",
       "      <td>0</td>\n",
       "    </tr>\n",
       "    <tr>\n",
       "      <th>4</th>\n",
       "      <td>0</td>\n",
       "      <td>0</td>\n",
       "    </tr>\n",
       "    <tr>\n",
       "      <th>...</th>\n",
       "      <td>...</td>\n",
       "      <td>...</td>\n",
       "    </tr>\n",
       "    <tr>\n",
       "      <th>219</th>\n",
       "      <td>0</td>\n",
       "      <td>0</td>\n",
       "    </tr>\n",
       "    <tr>\n",
       "      <th>220</th>\n",
       "      <td>0</td>\n",
       "      <td>1</td>\n",
       "    </tr>\n",
       "    <tr>\n",
       "      <th>221</th>\n",
       "      <td>0</td>\n",
       "      <td>0</td>\n",
       "    </tr>\n",
       "    <tr>\n",
       "      <th>222</th>\n",
       "      <td>0</td>\n",
       "      <td>0</td>\n",
       "    </tr>\n",
       "    <tr>\n",
       "      <th>223</th>\n",
       "      <td>0</td>\n",
       "      <td>0</td>\n",
       "    </tr>\n",
       "  </tbody>\n",
       "</table>\n",
       "<p>224 rows × 2 columns</p>\n",
       "</div>"
      ],
      "text/plain": [
       "     Predicted Growth  Actual_Growth\n",
       "0                   0              0\n",
       "1                   0              0\n",
       "2                   0              1\n",
       "3                   1              0\n",
       "4                   0              0\n",
       "..                ...            ...\n",
       "219                 0              0\n",
       "220                 0              1\n",
       "221                 0              0\n",
       "222                 0              0\n",
       "223                 0              0\n",
       "\n",
       "[224 rows x 2 columns]"
      ]
     },
     "execution_count": 48,
     "metadata": {},
     "output_type": "execute_result"
    }
   ],
   "source": [
    "pd.DataFrame({\"Predicted Growth\": predictions5, \"Actual_Growth\": y_test}).reset_index(drop=True)"
   ]
  }
 ],
 "metadata": {
  "kernelspec": {
   "display_name": "Python [conda env:root] *",
   "language": "python",
   "name": "conda-root-py"
  },
  "language_info": {
   "codemirror_mode": {
    "name": "ipython",
    "version": 3
   },
   "file_extension": ".py",
   "mimetype": "text/x-python",
   "name": "python",
   "nbconvert_exporter": "python",
   "pygments_lexer": "ipython3",
   "version": "3.8.5"
  }
 },
 "nbformat": 4,
 "nbformat_minor": 4
}
