{
 "cells": [
  {
   "cell_type": "code",
   "execution_count": 1,
   "id": "099581a3",
   "metadata": {},
   "outputs": [],
   "source": [
    "import pandas as pd\n",
    "import os\n",
    "from sklearn.ensemble import RandomForestClassifier\n",
    "from sklearn.model_selection import train_test_split"
   ]
  },
  {
   "cell_type": "code",
   "execution_count": 2,
   "id": "db215311",
   "metadata": {},
   "outputs": [],
   "source": [
    "raw_data = pd.read_csv(os.path.join(\"Resources\", \"Data\", \"growth_designation.csv\"))\n",
    "# raw_data"
   ]
  },
  {
   "cell_type": "code",
   "execution_count": 3,
   "id": "1795a12c",
   "metadata": {},
   "outputs": [],
   "source": [
    "target = raw_data['GrowthOutcome']\n",
    "target_names = ['Growth', 'No-Growth']"
   ]
  },
  {
   "cell_type": "code",
   "execution_count": 4,
   "id": "59147175",
   "metadata": {},
   "outputs": [
    {
     "name": "stdout",
     "output_type": "stream",
     "text": [
      "(895, 12) (895,)\n"
     ]
    }
   ],
   "source": [
    "X = raw_data.drop(columns=['GrowthOutcome'])\n",
    "y = raw_data[\"GrowthOutcome\"]\n",
    "feature_names = X.columns\n",
    "print(X.shape, y.shape)"
   ]
  },
  {
   "cell_type": "code",
   "execution_count": 5,
   "id": "7201b7ba",
   "metadata": {},
   "outputs": [],
   "source": [
    "X_train, X_test, y_train, y_test = train_test_split(X, y, random_state=1)\n",
    "# X_train"
   ]
  },
  {
   "cell_type": "code",
   "execution_count": 6,
   "id": "9bf24c73",
   "metadata": {
    "scrolled": false
   },
   "outputs": [],
   "source": [
    "# X_test"
   ]
  },
  {
   "cell_type": "code",
   "execution_count": 7,
   "id": "41fac379",
   "metadata": {},
   "outputs": [
    {
     "data": {
      "text/plain": [
       "0.5089285714285714"
      ]
     },
     "execution_count": 7,
     "metadata": {},
     "output_type": "execute_result"
    }
   ],
   "source": [
    "from sklearn import tree\n",
    "clf = tree.DecisionTreeClassifier()\n",
    "clf = clf.fit(X_train, y_train)\n",
    "clf.score(X_test, y_test)"
   ]
  },
  {
   "cell_type": "code",
   "execution_count": 8,
   "id": "140a38d7",
   "metadata": {},
   "outputs": [
    {
     "data": {
      "text/plain": [
       "0.625"
      ]
     },
     "execution_count": 8,
     "metadata": {},
     "output_type": "execute_result"
    }
   ],
   "source": [
    "rf = RandomForestClassifier(n_estimators=800)\n",
    "rf = rf.fit(X_train, y_train)\n",
    "rf.score(X_test, y_test)"
   ]
  },
  {
   "cell_type": "code",
   "execution_count": 9,
   "id": "884a1e57",
   "metadata": {
    "scrolled": true
   },
   "outputs": [
    {
     "data": {
      "text/plain": [
       "[(0.11247250204970233, 'ProductionValue'),\n",
       " (0.10676998346368868, 'Stocks'),\n",
       " (0.10648995752506389, 'TotalProduction'),\n",
       " (0.10355876847079167, 'Imidacloprid'),\n",
       " (0.10213918156617466, 'PricePerLB'),\n",
       " (0.09836875280690469, 'CombinedNeonic'),\n",
       " (0.0916554281539715, 'YieldPerColony'),\n",
       " (0.08775362830212478, 'ColonyCount'),\n",
       " (0.06855736554464302, 'Thiamethoxam'),\n",
       " (0.05133639572082588, 'Clothianidin'),\n",
       " (0.05078418661928913, 'Acetamiprid'),\n",
       " (0.020113849776819875, 'Thiacloprid')]"
      ]
     },
     "execution_count": 9,
     "metadata": {},
     "output_type": "execute_result"
    }
   ],
   "source": [
    "feature_importance = sorted(zip(rf.feature_importances_, feature_names), reverse=True)\n",
    "feature_importance"
   ]
  },
  {
   "cell_type": "code",
   "execution_count": 10,
   "id": "18d5f088",
   "metadata": {},
   "outputs": [
    {
     "data": {
      "text/plain": [
       "RandomForestClassifier(max_depth=5, n_estimators=800, random_state=0)"
      ]
     },
     "execution_count": 10,
     "metadata": {},
     "output_type": "execute_result"
    }
   ],
   "source": [
    "from sklearn.datasets import make_classification\n",
    "from sklearn.experimental import enable_halving_search_cv\n",
    "from sklearn.model_selection import HalvingGridSearchCV\n",
    "\n",
    "X2_train, X2_test, y2_train, y2_test = train_test_split(X, y, random_state=42)\n",
    "\n",
    "# Create Grid Search\n",
    "\n",
    "param_grid = {'max_depth': [3, 5, 10],\n",
    "              'min_samples_split': [2, 5, 10]}\n",
    "base_estimator = RandomForestClassifier(random_state=0)\n",
    "X, y = make_classification(n_samples=1000, random_state=0)\n",
    "sh = HalvingGridSearchCV(base_estimator, param_grid, cv=5,\n",
    "                         factor=2, resource='n_estimators',\n",
    "                        max_resources=30).fit(X, y)\n",
    "sh.best_estimator_\n",
    "RandomForestClassifier(max_depth=5, n_estimators=800, random_state=0)"
   ]
  },
  {
   "cell_type": "code",
   "execution_count": 11,
   "id": "6bdad2c2",
   "metadata": {},
   "outputs": [
    {
     "name": "stdout",
     "output_type": "stream",
     "text": [
      "0.6428571428571429\n"
     ]
    },
    {
     "data": {
      "text/plain": [
       "[(0.1303758133915868, 'TotalProduction'),\n",
       " (0.12387689836702231, 'ProductionValue'),\n",
       " (0.11319546561805559, 'ColonyCount'),\n",
       " (0.11176609905722622, 'Thiamethoxam'),\n",
       " (0.11066149855042025, 'PricePerLB'),\n",
       " (0.09408924009400775, 'Imidacloprid'),\n",
       " (0.09179574678692493, 'Stocks'),\n",
       " (0.09062767512653663, 'YieldPerColony'),\n",
       " (0.06142337023373653, 'CombinedNeonic'),\n",
       " (0.026612863064090154, 'Clothianidin'),\n",
       " (0.02452014957498339, 'Acetamiprid'),\n",
       " (0.021055180135409506, 'Thiacloprid')]"
      ]
     },
     "execution_count": 11,
     "metadata": {},
     "output_type": "execute_result"
    }
   ],
   "source": [
    "# Create RandomForest Classifier\n",
    "\n",
    "kepler_186f_RFClassifier = RandomForestClassifier(max_depth=5, n_estimators=24, random_state=0)\n",
    "# Fit the RandomForestClassifier to train data\n",
    "kepler_186f_RFClassifier = kepler_186f_RFClassifier.fit(X2_train, y2_train)\n",
    "# Score the RandomForestClassifier with test data\n",
    "print(kepler_186f_RFClassifier.score(X2_test, y2_test))\n",
    "feature_importance2 = sorted(zip(kepler_186f_RFClassifier.feature_importances_, feature_names), reverse=True)\n",
    "feature_importance2"
   ]
  },
  {
   "cell_type": "markdown",
   "id": "9c378b36",
   "metadata": {},
   "source": [
    "<h5> Create CSV files of the feature importances from both random forest models to be used in the tableau visuals</h5>"
   ]
  },
  {
   "cell_type": "code",
   "execution_count": 12,
   "id": "d3eebce2",
   "metadata": {},
   "outputs": [
    {
     "data": {
      "text/html": [
       "<div>\n",
       "<style scoped>\n",
       "    .dataframe tbody tr th:only-of-type {\n",
       "        vertical-align: middle;\n",
       "    }\n",
       "\n",
       "    .dataframe tbody tr th {\n",
       "        vertical-align: top;\n",
       "    }\n",
       "\n",
       "    .dataframe thead th {\n",
       "        text-align: right;\n",
       "    }\n",
       "</style>\n",
       "<table border=\"1\" class=\"dataframe\">\n",
       "  <thead>\n",
       "    <tr style=\"text-align: right;\">\n",
       "      <th></th>\n",
       "      <th>0</th>\n",
       "    </tr>\n",
       "  </thead>\n",
       "  <tbody>\n",
       "    <tr>\n",
       "      <th>TotalProduction</th>\n",
       "      <td>0.130376</td>\n",
       "    </tr>\n",
       "    <tr>\n",
       "      <th>ProductionValue</th>\n",
       "      <td>0.123877</td>\n",
       "    </tr>\n",
       "    <tr>\n",
       "      <th>ColonyCount</th>\n",
       "      <td>0.113195</td>\n",
       "    </tr>\n",
       "    <tr>\n",
       "      <th>Thiamethoxam</th>\n",
       "      <td>0.111766</td>\n",
       "    </tr>\n",
       "    <tr>\n",
       "      <th>PricePerLB</th>\n",
       "      <td>0.110661</td>\n",
       "    </tr>\n",
       "    <tr>\n",
       "      <th>Imidacloprid</th>\n",
       "      <td>0.094089</td>\n",
       "    </tr>\n",
       "    <tr>\n",
       "      <th>Stocks</th>\n",
       "      <td>0.091796</td>\n",
       "    </tr>\n",
       "    <tr>\n",
       "      <th>YieldPerColony</th>\n",
       "      <td>0.090628</td>\n",
       "    </tr>\n",
       "    <tr>\n",
       "      <th>CombinedNeonic</th>\n",
       "      <td>0.061423</td>\n",
       "    </tr>\n",
       "    <tr>\n",
       "      <th>Clothianidin</th>\n",
       "      <td>0.026613</td>\n",
       "    </tr>\n",
       "    <tr>\n",
       "      <th>Acetamiprid</th>\n",
       "      <td>0.024520</td>\n",
       "    </tr>\n",
       "    <tr>\n",
       "      <th>Thiacloprid</th>\n",
       "      <td>0.021055</td>\n",
       "    </tr>\n",
       "  </tbody>\n",
       "</table>\n",
       "</div>"
      ],
      "text/plain": [
       "                        0\n",
       "TotalProduction  0.130376\n",
       "ProductionValue  0.123877\n",
       "ColonyCount      0.113195\n",
       "Thiamethoxam     0.111766\n",
       "PricePerLB       0.110661\n",
       "Imidacloprid     0.094089\n",
       "Stocks           0.091796\n",
       "YieldPerColony   0.090628\n",
       "CombinedNeonic   0.061423\n",
       "Clothianidin     0.026613\n",
       "Acetamiprid      0.024520\n",
       "Thiacloprid      0.021055"
      ]
     },
     "execution_count": 12,
     "metadata": {},
     "output_type": "execute_result"
    }
   ],
   "source": [
    "# Standard Random Forest Classifier\n",
    "rf1_features = {}\n",
    "for importance, feature in feature_importance:\n",
    "    rf1_features[feature] = importance\n",
    "rf1_importance_df = pd.DataFrame.from_dict(rf1_features, orient='index')\n",
    "\n",
    "\n",
    "# Random Forest Classifier with Grid Search\n",
    "rf2_features = {}\n",
    "for importance, feature in feature_importance2:\n",
    "    rf2_features[feature] = importance\n",
    "rf2_importance_df = pd.DataFrame.from_dict(rf2_features, orient='index')\n",
    "\n",
    "# rf1_importance_df\n",
    "rf2_importance_df"
   ]
  },
  {
   "cell_type": "code",
   "execution_count": 13,
   "id": "31d8ad23",
   "metadata": {},
   "outputs": [
    {
     "data": {
      "text/html": [
       "<div>\n",
       "<style scoped>\n",
       "    .dataframe tbody tr th:only-of-type {\n",
       "        vertical-align: middle;\n",
       "    }\n",
       "\n",
       "    .dataframe tbody tr th {\n",
       "        vertical-align: top;\n",
       "    }\n",
       "\n",
       "    .dataframe thead th {\n",
       "        text-align: right;\n",
       "    }\n",
       "</style>\n",
       "<table border=\"1\" class=\"dataframe\">\n",
       "  <thead>\n",
       "    <tr style=\"text-align: right;\">\n",
       "      <th></th>\n",
       "      <th>Feature</th>\n",
       "      <th>RF</th>\n",
       "      <th>RF &amp; GS</th>\n",
       "    </tr>\n",
       "  </thead>\n",
       "  <tbody>\n",
       "    <tr>\n",
       "      <th>0</th>\n",
       "      <td>ProductionValue</td>\n",
       "      <td>0.112473</td>\n",
       "      <td>0.123877</td>\n",
       "    </tr>\n",
       "    <tr>\n",
       "      <th>1</th>\n",
       "      <td>Stocks</td>\n",
       "      <td>0.106770</td>\n",
       "      <td>0.091796</td>\n",
       "    </tr>\n",
       "    <tr>\n",
       "      <th>2</th>\n",
       "      <td>TotalProduction</td>\n",
       "      <td>0.106490</td>\n",
       "      <td>0.130376</td>\n",
       "    </tr>\n",
       "    <tr>\n",
       "      <th>3</th>\n",
       "      <td>Imidacloprid</td>\n",
       "      <td>0.103559</td>\n",
       "      <td>0.094089</td>\n",
       "    </tr>\n",
       "    <tr>\n",
       "      <th>4</th>\n",
       "      <td>PricePerLB</td>\n",
       "      <td>0.102139</td>\n",
       "      <td>0.110661</td>\n",
       "    </tr>\n",
       "    <tr>\n",
       "      <th>5</th>\n",
       "      <td>CombinedNeonic</td>\n",
       "      <td>0.098369</td>\n",
       "      <td>0.061423</td>\n",
       "    </tr>\n",
       "    <tr>\n",
       "      <th>6</th>\n",
       "      <td>YieldPerColony</td>\n",
       "      <td>0.091655</td>\n",
       "      <td>0.090628</td>\n",
       "    </tr>\n",
       "    <tr>\n",
       "      <th>7</th>\n",
       "      <td>ColonyCount</td>\n",
       "      <td>0.087754</td>\n",
       "      <td>0.113195</td>\n",
       "    </tr>\n",
       "    <tr>\n",
       "      <th>8</th>\n",
       "      <td>Thiamethoxam</td>\n",
       "      <td>0.068557</td>\n",
       "      <td>0.111766</td>\n",
       "    </tr>\n",
       "    <tr>\n",
       "      <th>9</th>\n",
       "      <td>Clothianidin</td>\n",
       "      <td>0.051336</td>\n",
       "      <td>0.026613</td>\n",
       "    </tr>\n",
       "    <tr>\n",
       "      <th>10</th>\n",
       "      <td>Acetamiprid</td>\n",
       "      <td>0.050784</td>\n",
       "      <td>0.024520</td>\n",
       "    </tr>\n",
       "    <tr>\n",
       "      <th>11</th>\n",
       "      <td>Thiacloprid</td>\n",
       "      <td>0.020114</td>\n",
       "      <td>0.021055</td>\n",
       "    </tr>\n",
       "  </tbody>\n",
       "</table>\n",
       "</div>"
      ],
      "text/plain": [
       "            Feature        RF   RF & GS\n",
       "0   ProductionValue  0.112473  0.123877\n",
       "1            Stocks  0.106770  0.091796\n",
       "2   TotalProduction  0.106490  0.130376\n",
       "3      Imidacloprid  0.103559  0.094089\n",
       "4        PricePerLB  0.102139  0.110661\n",
       "5    CombinedNeonic  0.098369  0.061423\n",
       "6    YieldPerColony  0.091655  0.090628\n",
       "7       ColonyCount  0.087754  0.113195\n",
       "8      Thiamethoxam  0.068557  0.111766\n",
       "9      Clothianidin  0.051336  0.026613\n",
       "10      Acetamiprid  0.050784  0.024520\n",
       "11      Thiacloprid  0.020114  0.021055"
      ]
     },
     "execution_count": 13,
     "metadata": {},
     "output_type": "execute_result"
    }
   ],
   "source": [
    "joined_features = rf1_importance_df.merge(rf2_importance_df,left_index=True, right_index=True).reset_index()\n",
    "joined_features = joined_features.rename(columns={\"index\":\"Feature\", \"0_x\":\"RF\", \"0_y\":\"RF & GS\"})\n",
    "joined_features.to_csv(\"Resources/Data/rf_feature_importance.csv\", index=False)\n",
    "joined_features"
   ]
  },
  {
   "cell_type": "code",
   "execution_count": 14,
   "id": "1e320ad3",
   "metadata": {},
   "outputs": [
    {
     "name": "stdout",
     "output_type": "stream",
     "text": [
      "              precision    recall  f1-score   support\n",
      "\n",
      "           0       0.65      0.87      0.74       139\n",
      "           1       0.51      0.22      0.31        85\n",
      "\n",
      "    accuracy                           0.62       224\n",
      "   macro avg       0.58      0.55      0.53       224\n",
      "weighted avg       0.60      0.62      0.58       224\n",
      "\n"
     ]
    }
   ],
   "source": [
    "from sklearn.metrics import classification_report\n",
    "honeybee_prediction = rf.predict(X_test)\n",
    "print(classification_report(y_test, honeybee_prediction))"
   ]
  },
  {
   "cell_type": "code",
   "execution_count": null,
   "id": "3aebd476",
   "metadata": {},
   "outputs": [],
   "source": []
  },
  {
   "cell_type": "code",
   "execution_count": null,
   "id": "5f9730f5",
   "metadata": {},
   "outputs": [],
   "source": []
  }
 ],
 "metadata": {
  "kernelspec": {
   "display_name": "Python 3",
   "language": "python",
   "name": "python3"
  },
  "language_info": {
   "codemirror_mode": {
    "name": "ipython",
    "version": 3
   },
   "file_extension": ".py",
   "mimetype": "text/x-python",
   "name": "python",
   "nbconvert_exporter": "python",
   "pygments_lexer": "ipython3",
   "version": "3.6.13"
  }
 },
 "nbformat": 4,
 "nbformat_minor": 5
}
