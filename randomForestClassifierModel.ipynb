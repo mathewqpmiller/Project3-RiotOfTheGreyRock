{
 "cells": [
  {
   "cell_type": "code",
   "execution_count": 1,
   "id": "e8caebbf",
   "metadata": {},
   "outputs": [],
   "source": [
    "import pandas as pd\n",
    "import os\n",
    "from sklearn.ensemble import RandomForestClassifier\n",
    "from sklearn.model_selection import train_test_split"
   ]
  },
  {
   "cell_type": "code",
   "execution_count": 2,
   "id": "04a054a0",
   "metadata": {},
   "outputs": [],
   "source": [
    "raw_data = pd.read_csv(os.path.join(\"Resources\", \"Data\", \"growth_designation.csv\"))\n",
    "# raw_data"
   ]
  },
  {
   "cell_type": "code",
   "execution_count": 3,
   "id": "b3a25817",
   "metadata": {},
   "outputs": [],
   "source": [
    "target = raw_data['GrowthOutcome']\n",
    "target_names = ['Growth', 'No-Growth']"
   ]
  },
  {
   "cell_type": "code",
   "execution_count": 4,
   "id": "9e38fcca",
   "metadata": {},
   "outputs": [
    {
     "name": "stdout",
     "output_type": "stream",
     "text": [
      "(895, 12) (895,)\n"
     ]
    }
   ],
   "source": [
    "X = raw_data.drop(columns=['GrowthOutcome'])\n",
    "y = raw_data[\"GrowthOutcome\"]\n",
    "feature_names = X.columns\n",
    "print(X.shape, y.shape)"
   ]
  },
  {
   "cell_type": "code",
   "execution_count": 5,
   "id": "8710edc7",
   "metadata": {},
   "outputs": [],
   "source": [
    "X_train, X_test, y_train, y_test = train_test_split(X, y, random_state=1)\n",
    "# X_train"
   ]
  },
  {
   "cell_type": "code",
   "execution_count": 6,
   "id": "9a6802fa",
   "metadata": {
    "scrolled": false
   },
   "outputs": [],
   "source": [
    "# X_test"
   ]
  },
  {
   "cell_type": "code",
   "execution_count": 7,
   "id": "49968379",
   "metadata": {},
   "outputs": [
    {
     "data": {
      "text/plain": [
       "0.49107142857142855"
      ]
     },
     "execution_count": 7,
     "metadata": {},
     "output_type": "execute_result"
    }
   ],
   "source": [
    "from sklearn import tree\n",
    "clf = tree.DecisionTreeClassifier()\n",
    "clf = clf.fit(X_train, y_train)\n",
    "clf.score(X_test, y_test)"
   ]
  },
  {
   "cell_type": "code",
   "execution_count": 8,
   "id": "9813e202",
   "metadata": {},
   "outputs": [
    {
     "data": {
      "text/plain": [
       "0.6428571428571429"
      ]
     },
     "execution_count": 8,
     "metadata": {},
     "output_type": "execute_result"
    }
   ],
   "source": [
    "rf = RandomForestClassifier(n_estimators=800)\n",
    "rf = rf.fit(X_train, y_train)\n",
    "rf.score(X_test, y_test)"
   ]
  },
  {
   "cell_type": "code",
   "execution_count": 9,
   "id": "09a0f69a",
   "metadata": {
    "scrolled": true
   },
   "outputs": [
    {
     "data": {
      "text/plain": [
       "[(0.11186537245449633, 'ProductionValue'),\n",
       " (0.10726656990452271, 'TotalProduction'),\n",
       " (0.10541548239764326, 'PricePerLB'),\n",
       " (0.10355820277117402, 'Stocks'),\n",
       " (0.10293043565762663, 'Imidacloprid'),\n",
       " (0.09878921787654292, 'CombinedNeonic'),\n",
       " (0.09200817734046858, 'YieldPerColony'),\n",
       " (0.08847388895534404, 'ColonyCount'),\n",
       " (0.06902956463959636, 'Thiamethoxam'),\n",
       " (0.050857160123523495, 'Acetamiprid'),\n",
       " (0.04910454890976588, 'Clothianidin'),\n",
       " (0.020701378969295685, 'Thiacloprid')]"
      ]
     },
     "execution_count": 9,
     "metadata": {},
     "output_type": "execute_result"
    }
   ],
   "source": [
    "feature_importance = sorted(zip(rf.feature_importances_, feature_names), reverse=True)\n",
    "feature_importance"
   ]
  },
  {
   "cell_type": "code",
   "execution_count": 10,
   "id": "b661b4bd",
   "metadata": {},
   "outputs": [
    {
     "data": {
      "text/plain": [
       "RandomForestClassifier(max_depth=5, n_estimators=800, random_state=0)"
      ]
     },
     "execution_count": 10,
     "metadata": {},
     "output_type": "execute_result"
    }
   ],
   "source": [
    "from sklearn.datasets import make_classification\n",
    "from sklearn.experimental import enable_halving_search_cv\n",
    "from sklearn.model_selection import HalvingGridSearchCV\n",
    "\n",
    "X2_train, X2_test, y2_train, y2_test = train_test_split(X, y, random_state=42)\n",
    "\n",
    "# Create Grid Search\n",
    "\n",
    "param_grid = {'max_depth': [3, 5, 10],\n",
    "              'min_samples_split': [2, 5, 10]}\n",
    "base_estimator = RandomForestClassifier(random_state=0)\n",
    "X, y = make_classification(n_samples=1000, random_state=0)\n",
    "sh = HalvingGridSearchCV(base_estimator, param_grid, cv=5,\n",
    "                         factor=2, resource='n_estimators',\n",
    "                        max_resources=30).fit(X, y)\n",
    "sh.best_estimator_\n",
    "RandomForestClassifier(max_depth=5, n_estimators=800, random_state=0)"
   ]
  },
  {
   "cell_type": "code",
   "execution_count": 11,
   "id": "9c9fa463",
   "metadata": {},
   "outputs": [
    {
     "name": "stdout",
     "output_type": "stream",
     "text": [
      "0.6428571428571429\n"
     ]
    },
    {
     "data": {
      "text/plain": [
       "[(0.1303758133915868, 'TotalProduction'),\n",
       " (0.12387689836702231, 'ProductionValue'),\n",
       " (0.11319546561805559, 'ColonyCount'),\n",
       " (0.11176609905722622, 'Thiamethoxam'),\n",
       " (0.11066149855042025, 'PricePerLB'),\n",
       " (0.09408924009400775, 'Imidacloprid'),\n",
       " (0.09179574678692493, 'Stocks'),\n",
       " (0.09062767512653663, 'YieldPerColony'),\n",
       " (0.06142337023373653, 'CombinedNeonic'),\n",
       " (0.026612863064090154, 'Clothianidin'),\n",
       " (0.02452014957498339, 'Acetamiprid'),\n",
       " (0.021055180135409506, 'Thiacloprid')]"
      ]
     },
     "execution_count": 11,
     "metadata": {},
     "output_type": "execute_result"
    }
   ],
   "source": [
    "# Create RandomForest Classifier\n",
    "\n",
    "kepler_186f_RFClassifier = RandomForestClassifier(max_depth=5, n_estimators=24, random_state=0)\n",
    "# Fit the RandomForestClassifier to train data\n",
    "kepler_186f_RFClassifier = kepler_186f_RFClassifier.fit(X2_train, y2_train)\n",
    "# Score the RandomForestClassifier with test data\n",
    "print(kepler_186f_RFClassifier.score(X2_test, y2_test))\n",
    "feature_importance2 = sorted(zip(kepler_186f_RFClassifier.feature_importances_, feature_names), reverse=True)\n",
    "feature_importance2"
   ]
  },
  {
   "cell_type": "markdown",
   "id": "84a03a5d",
   "metadata": {},
   "source": [
    "<h5> Create CSV files of the feature importances from both random forest models to be used in the tableau visuals</h5>"
   ]
  },
  {
   "cell_type": "code",
   "execution_count": 12,
   "id": "5b878b1e",
   "metadata": {},
   "outputs": [
    {
     "data": {
      "text/html": [
       "<div>\n",
       "<style scoped>\n",
       "    .dataframe tbody tr th:only-of-type {\n",
       "        vertical-align: middle;\n",
       "    }\n",
       "\n",
       "    .dataframe tbody tr th {\n",
       "        vertical-align: top;\n",
       "    }\n",
       "\n",
       "    .dataframe thead th {\n",
       "        text-align: right;\n",
       "    }\n",
       "</style>\n",
       "<table border=\"1\" class=\"dataframe\">\n",
       "  <thead>\n",
       "    <tr style=\"text-align: right;\">\n",
       "      <th></th>\n",
       "      <th>0</th>\n",
       "    </tr>\n",
       "  </thead>\n",
       "  <tbody>\n",
       "    <tr>\n",
       "      <th>TotalProduction</th>\n",
       "      <td>0.130376</td>\n",
       "    </tr>\n",
       "    <tr>\n",
       "      <th>ProductionValue</th>\n",
       "      <td>0.123877</td>\n",
       "    </tr>\n",
       "    <tr>\n",
       "      <th>ColonyCount</th>\n",
       "      <td>0.113195</td>\n",
       "    </tr>\n",
       "    <tr>\n",
       "      <th>Thiamethoxam</th>\n",
       "      <td>0.111766</td>\n",
       "    </tr>\n",
       "    <tr>\n",
       "      <th>PricePerLB</th>\n",
       "      <td>0.110661</td>\n",
       "    </tr>\n",
       "    <tr>\n",
       "      <th>Imidacloprid</th>\n",
       "      <td>0.094089</td>\n",
       "    </tr>\n",
       "    <tr>\n",
       "      <th>Stocks</th>\n",
       "      <td>0.091796</td>\n",
       "    </tr>\n",
       "    <tr>\n",
       "      <th>YieldPerColony</th>\n",
       "      <td>0.090628</td>\n",
       "    </tr>\n",
       "    <tr>\n",
       "      <th>CombinedNeonic</th>\n",
       "      <td>0.061423</td>\n",
       "    </tr>\n",
       "    <tr>\n",
       "      <th>Clothianidin</th>\n",
       "      <td>0.026613</td>\n",
       "    </tr>\n",
       "    <tr>\n",
       "      <th>Acetamiprid</th>\n",
       "      <td>0.024520</td>\n",
       "    </tr>\n",
       "    <tr>\n",
       "      <th>Thiacloprid</th>\n",
       "      <td>0.021055</td>\n",
       "    </tr>\n",
       "  </tbody>\n",
       "</table>\n",
       "</div>"
      ],
      "text/plain": [
       "                        0\n",
       "TotalProduction  0.130376\n",
       "ProductionValue  0.123877\n",
       "ColonyCount      0.113195\n",
       "Thiamethoxam     0.111766\n",
       "PricePerLB       0.110661\n",
       "Imidacloprid     0.094089\n",
       "Stocks           0.091796\n",
       "YieldPerColony   0.090628\n",
       "CombinedNeonic   0.061423\n",
       "Clothianidin     0.026613\n",
       "Acetamiprid      0.024520\n",
       "Thiacloprid      0.021055"
      ]
     },
     "execution_count": 12,
     "metadata": {},
     "output_type": "execute_result"
    }
   ],
   "source": [
    "# Standard Random Forest Classifier\n",
    "rf1_features = {}\n",
    "for importance, feature in feature_importance:\n",
    "    rf1_features[feature] = importance\n",
    "rf1_importance_df = pd.DataFrame.from_dict(rf1_features, orient='index')\n",
    "\n",
    "\n",
    "# Random Forest Classifier with Grid Search\n",
    "rf2_features = {}\n",
    "for importance, feature in feature_importance2:\n",
    "    rf2_features[feature] = importance\n",
    "rf2_importance_df = pd.DataFrame.from_dict(rf2_features, orient='index')\n",
    "\n",
    "# rf1_importance_df\n",
    "rf2_importance_df"
   ]
  },
  {
   "cell_type": "code",
   "execution_count": 21,
   "id": "078372e0",
   "metadata": {},
   "outputs": [
    {
     "data": {
      "text/html": [
       "<div>\n",
       "<style scoped>\n",
       "    .dataframe tbody tr th:only-of-type {\n",
       "        vertical-align: middle;\n",
       "    }\n",
       "\n",
       "    .dataframe tbody tr th {\n",
       "        vertical-align: top;\n",
       "    }\n",
       "\n",
       "    .dataframe thead th {\n",
       "        text-align: right;\n",
       "    }\n",
       "</style>\n",
       "<table border=\"1\" class=\"dataframe\">\n",
       "  <thead>\n",
       "    <tr style=\"text-align: right;\">\n",
       "      <th></th>\n",
       "      <th>Feature</th>\n",
       "      <th>RF</th>\n",
       "      <th>RF &amp; GS</th>\n",
       "    </tr>\n",
       "  </thead>\n",
       "  <tbody>\n",
       "    <tr>\n",
       "      <th>0</th>\n",
       "      <td>ProductionValue</td>\n",
       "      <td>0.111865</td>\n",
       "      <td>0.123877</td>\n",
       "    </tr>\n",
       "    <tr>\n",
       "      <th>1</th>\n",
       "      <td>TotalProduction</td>\n",
       "      <td>0.107267</td>\n",
       "      <td>0.130376</td>\n",
       "    </tr>\n",
       "    <tr>\n",
       "      <th>2</th>\n",
       "      <td>PricePerLB</td>\n",
       "      <td>0.105415</td>\n",
       "      <td>0.110661</td>\n",
       "    </tr>\n",
       "    <tr>\n",
       "      <th>3</th>\n",
       "      <td>Stocks</td>\n",
       "      <td>0.103558</td>\n",
       "      <td>0.091796</td>\n",
       "    </tr>\n",
       "    <tr>\n",
       "      <th>4</th>\n",
       "      <td>Imidacloprid</td>\n",
       "      <td>0.102930</td>\n",
       "      <td>0.094089</td>\n",
       "    </tr>\n",
       "    <tr>\n",
       "      <th>5</th>\n",
       "      <td>CombinedNeonic</td>\n",
       "      <td>0.098789</td>\n",
       "      <td>0.061423</td>\n",
       "    </tr>\n",
       "    <tr>\n",
       "      <th>6</th>\n",
       "      <td>YieldPerColony</td>\n",
       "      <td>0.092008</td>\n",
       "      <td>0.090628</td>\n",
       "    </tr>\n",
       "    <tr>\n",
       "      <th>7</th>\n",
       "      <td>ColonyCount</td>\n",
       "      <td>0.088474</td>\n",
       "      <td>0.113195</td>\n",
       "    </tr>\n",
       "    <tr>\n",
       "      <th>8</th>\n",
       "      <td>Thiamethoxam</td>\n",
       "      <td>0.069030</td>\n",
       "      <td>0.111766</td>\n",
       "    </tr>\n",
       "    <tr>\n",
       "      <th>9</th>\n",
       "      <td>Acetamiprid</td>\n",
       "      <td>0.050857</td>\n",
       "      <td>0.024520</td>\n",
       "    </tr>\n",
       "    <tr>\n",
       "      <th>10</th>\n",
       "      <td>Clothianidin</td>\n",
       "      <td>0.049105</td>\n",
       "      <td>0.026613</td>\n",
       "    </tr>\n",
       "    <tr>\n",
       "      <th>11</th>\n",
       "      <td>Thiacloprid</td>\n",
       "      <td>0.020701</td>\n",
       "      <td>0.021055</td>\n",
       "    </tr>\n",
       "  </tbody>\n",
       "</table>\n",
       "</div>"
      ],
      "text/plain": [
       "            Feature        RF   RF & GS\n",
       "0   ProductionValue  0.111865  0.123877\n",
       "1   TotalProduction  0.107267  0.130376\n",
       "2        PricePerLB  0.105415  0.110661\n",
       "3            Stocks  0.103558  0.091796\n",
       "4      Imidacloprid  0.102930  0.094089\n",
       "5    CombinedNeonic  0.098789  0.061423\n",
       "6    YieldPerColony  0.092008  0.090628\n",
       "7       ColonyCount  0.088474  0.113195\n",
       "8      Thiamethoxam  0.069030  0.111766\n",
       "9       Acetamiprid  0.050857  0.024520\n",
       "10     Clothianidin  0.049105  0.026613\n",
       "11      Thiacloprid  0.020701  0.021055"
      ]
     },
     "execution_count": 21,
     "metadata": {},
     "output_type": "execute_result"
    }
   ],
   "source": [
    "joined_features = rf1_importance_df.merge(rf2_importance_df,left_index=True, right_index=True).reset_index()\n",
    "joined_features = joined_features.rename(columns={\"index\":\"Feature\", \"0_x\":\"RF\", \"0_y\":\"RF & GS\"})\n",
    "joined_features.to_csv(\"Resources/Data/rf_feature_importance.csv\", index=False)\n",
    "joined_features"
   ]
  },
  {
   "cell_type": "code",
   "execution_count": 14,
   "id": "779f1b11",
   "metadata": {},
   "outputs": [
    {
     "name": "stdout",
     "output_type": "stream",
     "text": [
      "              precision    recall  f1-score   support\n",
      "\n",
      "           0       0.66      0.88      0.75       139\n",
      "           1       0.57      0.25      0.34        85\n",
      "\n",
      "    accuracy                           0.64       224\n",
      "   macro avg       0.61      0.57      0.55       224\n",
      "weighted avg       0.62      0.64      0.60       224\n",
      "\n"
     ]
    }
   ],
   "source": [
    "from sklearn.metrics import classification_report\n",
    "honeybee_prediction = rf.predict(X_test)\n",
    "print(classification_report(y_test, honeybee_prediction))"
   ]
  },
  {
   "cell_type": "code",
   "execution_count": null,
   "id": "c6923db9",
   "metadata": {},
   "outputs": [],
   "source": []
  },
  {
   "cell_type": "code",
   "execution_count": null,
   "id": "f184d41d",
   "metadata": {},
   "outputs": [],
   "source": []
  }
 ],
 "metadata": {
  "kernelspec": {
   "display_name": "Python [conda env:PythonAdv] *",
   "language": "python",
   "name": "conda-env-PythonAdv-py"
  },
  "language_info": {
   "codemirror_mode": {
    "name": "ipython",
    "version": 3
   },
   "file_extension": ".py",
   "mimetype": "text/x-python",
   "name": "python",
   "nbconvert_exporter": "python",
   "pygments_lexer": "ipython3",
   "version": "3.6.13"
  }
 },
 "nbformat": 4,
 "nbformat_minor": 5
}
