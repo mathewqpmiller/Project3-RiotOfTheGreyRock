{
 "cells": [
  {
   "cell_type": "code",
   "execution_count": null,
   "id": "a8f4557a",
   "metadata": {},
   "outputs": [],
   "source": [
    "# Load Modules\n",
    "\n",
    "# Python package for dataframe generation and manipulation\n",
    "import pandas as pd\n",
    "# Python package for third party operating systems\n",
    "import os"
   ]
  },
  {
   "cell_type": "code",
   "execution_count": null,
   "id": "e6d99b80",
   "metadata": {},
   "outputs": [],
   "source": [
    "# Read File\n",
    "\n",
    "honeybee_csv = pd.read_csv(os.path.join('Resources', 'Data', 'vHoneyNeonic_v03_with_growth.csv'))\n",
    "honeybee_csv"
   ]
  },
  {
   "cell_type": "code",
   "execution_count": null,
   "id": "9a3c0562",
   "metadata": {},
   "outputs": [],
   "source": [
    "# Drop Null Values\n",
    "\n",
    "honeybee_csv = honeybee_csv.dropna(how='any',axis=0) \n",
    "honeybee_csv"
   ]
  },
  {
   "cell_type": "code",
   "execution_count": null,
   "id": "d4b1f43f",
   "metadata": {},
   "outputs": [],
   "source": [
    "# List Column Names\n",
    "\n",
    "reorganize_columns = honeybee_csv.columns.tolist()\n",
    "reorganize_columns"
   ]
  },
  {
   "cell_type": "code",
   "execution_count": null,
   "id": "57255e48",
   "metadata": {},
   "outputs": [],
   "source": [
    "# Reorganize Column Arrangement\n",
    "\n",
    "honeybee_csv = honeybee_csv[['state', 'StateName', 'Region', 'FIPS', 'numcol', 'totalprod', 'yieldpercol', 'priceperlb', 'prodvalue', 'stocks', 'year', 'nCLOTHIANIDIN', 'nIMIDACLOPRID', 'nTHIAMETHOXAM', 'nACETAMIPRID', 'nTHIACLOPRID', 'nAllNeonic', 'ColonyGrowth','GrowthOutcome']]\n",
    "honeybee_csv"
   ]
  },
  {
   "cell_type": "code",
   "execution_count": null,
   "id": "565c1266",
   "metadata": {},
   "outputs": [],
   "source": [
    "# Rename Columns\n",
    "\n",
    "honeybee_csv = honeybee_csv.rename(columns={'state': 'State', 'numcol': 'ColonyCount', 'totalprod': 'TotalProduction',\n",
    "                                             'yieldpercol': 'YieldPerColony', 'priceperlb': 'PricePerLB', 'prodvalue': 'ProductionValue',\n",
    "                                             'stocks': 'Stocks', 'year': 'YearRecorded', 'nCLOTHIANIDIN': 'Clothianidin',\n",
    "                                             'nIMIDACLOPRID': 'Imidacloprid', 'nTHIAMETHOXAM': 'Thiamethoxam', 'nACETAMIPRID': 'Acetamiprid',\n",
    "                                             'nTHIACLOPRID': 'Thiacloprid', 'nAllNeonic': 'CombinedNeonic','ColonyGrowth':'ColonyGrowth','GrowthOutcome':'GrowthOutcome'})\n",
    "honeybee_csv"
   ]
  },
  {
   "cell_type": "code",
   "execution_count": null,
   "id": "1b3f5285",
   "metadata": {},
   "outputs": [],
   "source": [
    "honeybee_csv.to_csv(\"Resources/Data/CleanedHoneybeeDataset.csv\", index=False, header=True)"
   ]
  },
  {
   "cell_type": "code",
   "execution_count": null,
   "id": "0890c41f",
   "metadata": {},
   "outputs": [],
   "source": [
    "modified_for_model = honeybee_csv\n",
    "modified_for_model"
   ]
  },
  {
   "cell_type": "code",
   "execution_count": null,
   "id": "836654ab",
   "metadata": {},
   "outputs": [],
   "source": [
    "modified_for_model = modified_for_model.drop([\"State\", \"StateName\", \"Region\", \"FIPS\", \"YearRecorded\", \"ColonyGrowth\"], axis=1)\n",
    "modified_for_model"
   ]
  },
  {
   "cell_type": "code",
   "execution_count": null,
   "id": "990e431f",
   "metadata": {},
   "outputs": [],
   "source": [
    "modified_for_model = modified_for_model.apply(pd.to_numeric, errors='coerce')\n",
    "modified_for_model.head()"
   ]
  },
  {
   "cell_type": "code",
   "execution_count": null,
   "id": "2f4d16a1",
   "metadata": {},
   "outputs": [],
   "source": [
    "modified_for_model.to_csv(\"Resources/Data/growth_designation.csv\", index=False)"
   ]
  },
  {
   "cell_type": "markdown",
   "id": "7637f59e",
   "metadata": {},
   "source": []
  }
 ],
 "metadata": {
  "kernelspec": {
   "display_name": "Python [conda env:PythonAdv] *",
   "language": "python",
   "name": "conda-env-PythonAdv-py"
  },
  "language_info": {
   "codemirror_mode": {
    "name": "ipython",
    "version": 3
   },
   "file_extension": ".py",
   "mimetype": "text/x-python",
   "name": "python",
   "nbconvert_exporter": "python",
   "pygments_lexer": "ipython3",
   "version": "3.6.13"
  }
 },
 "nbformat": 4,
 "nbformat_minor": 5
}
