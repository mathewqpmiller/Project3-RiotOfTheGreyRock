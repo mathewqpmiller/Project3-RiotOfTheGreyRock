{
 "cells": [
  {
   "cell_type": "markdown",
   "metadata": {},
   "source": [
    "## Mathews notebook for Machine Learning SVC modeling"
   ]
  },
  {
   "cell_type": "markdown",
   "metadata": {},
   "source": [
    "### Load All Necessary Model Modules"
   ]
  },
  {
   "cell_type": "code",
   "execution_count": 1,
   "metadata": {},
   "outputs": [],
   "source": [
    "# Load Starter Modules\n",
    "\n",
    "# Python package for plotting charts\n",
    "import matplotlib.pyplot as plt\n",
    "# Python package for dataframe creation and manipulation\n",
    "import pandas as pd\n",
    "# Python package for low level math functions\n",
    "import numpy as np\n",
    "# Python package for third party operating systems\n",
    "import os"
   ]
  },
  {
   "cell_type": "code",
   "execution_count": 2,
   "metadata": {},
   "outputs": [],
   "source": [
    "# Load Random Forest Modules\n",
    "\n",
    "# Python package for statistical modeling of RandomForests Grid Search\n",
    "from sklearn.datasets import make_classification\n",
    "from sklearn.experimental import enable_halving_search_cv\n",
    "from sklearn.model_selection import HalvingGridSearchCV\n",
    "from sklearn.ensemble import RandomForestClassifier"
   ]
  },
  {
   "cell_type": "code",
   "execution_count": 3,
   "metadata": {},
   "outputs": [],
   "source": [
    "# Load SVC Modules\n",
    "\n",
    "# Python package for statistical modeling: support vector classifier\n",
    "from sklearn.svm import SVC \n",
    "# Python package for statistical modeling: \n",
    "from sklearn.preprocessing import StandardScaler, MinMaxScaler\n",
    "# Python package for statistical modeling: split dataset\n",
    "from sklearn.model_selection import train_test_split\n",
    "# Python package for statistical modeling: print report\n",
    "from sklearn.metrics import classification_report"
   ]
  },
  {
   "cell_type": "markdown",
   "metadata": {},
   "source": [
    "### Create Dataset"
   ]
  },
  {
   "cell_type": "code",
   "execution_count": 4,
   "metadata": {},
   "outputs": [
    {
     "data": {
      "text/html": [
       "<div>\n",
       "<style scoped>\n",
       "    .dataframe tbody tr th:only-of-type {\n",
       "        vertical-align: middle;\n",
       "    }\n",
       "\n",
       "    .dataframe tbody tr th {\n",
       "        vertical-align: top;\n",
       "    }\n",
       "\n",
       "    .dataframe thead th {\n",
       "        text-align: right;\n",
       "    }\n",
       "</style>\n",
       "<table border=\"1\" class=\"dataframe\">\n",
       "  <thead>\n",
       "    <tr style=\"text-align: right;\">\n",
       "      <th></th>\n",
       "      <th>Region</th>\n",
       "      <th>FIPS</th>\n",
       "      <th>ColonyCount</th>\n",
       "      <th>ColonyGrowth</th>\n",
       "      <th>GrowthOutcome</th>\n",
       "      <th>TotalProduction</th>\n",
       "      <th>YieldPerColony</th>\n",
       "      <th>PricePerLB</th>\n",
       "      <th>ProductionValue</th>\n",
       "      <th>Stocks</th>\n",
       "      <th>YearRecorded</th>\n",
       "      <th>ClothianidinLB</th>\n",
       "      <th>ImidaclopridLB</th>\n",
       "      <th>ThiamethoxamLB</th>\n",
       "      <th>AcetamipridLB</th>\n",
       "      <th>ThiaclopridLB</th>\n",
       "      <th>CombinedNeonicLB</th>\n",
       "    </tr>\n",
       "  </thead>\n",
       "  <tbody>\n",
       "    <tr>\n",
       "      <th>0</th>\n",
       "      <td>3</td>\n",
       "      <td>1</td>\n",
       "      <td>15000</td>\n",
       "      <td>-6.25</td>\n",
       "      <td>0.0</td>\n",
       "      <td>960000</td>\n",
       "      <td>64</td>\n",
       "      <td>0.87</td>\n",
       "      <td>835000</td>\n",
       "      <td>96000</td>\n",
       "      <td>1996</td>\n",
       "      <td>0.0</td>\n",
       "      <td>819.24</td>\n",
       "      <td>0.0</td>\n",
       "      <td>0.0</td>\n",
       "      <td>0.0</td>\n",
       "      <td>819.24</td>\n",
       "    </tr>\n",
       "    <tr>\n",
       "      <th>1</th>\n",
       "      <td>3</td>\n",
       "      <td>1</td>\n",
       "      <td>14000</td>\n",
       "      <td>-6.67</td>\n",
       "      <td>0.0</td>\n",
       "      <td>924000</td>\n",
       "      <td>66</td>\n",
       "      <td>0.81</td>\n",
       "      <td>748000</td>\n",
       "      <td>92000</td>\n",
       "      <td>1997</td>\n",
       "      <td>0.0</td>\n",
       "      <td>14781.55</td>\n",
       "      <td>0.0</td>\n",
       "      <td>0.0</td>\n",
       "      <td>0.0</td>\n",
       "      <td>14781.55</td>\n",
       "    </tr>\n",
       "    <tr>\n",
       "      <th>2</th>\n",
       "      <td>3</td>\n",
       "      <td>1</td>\n",
       "      <td>16000</td>\n",
       "      <td>14.29</td>\n",
       "      <td>1.0</td>\n",
       "      <td>1136000</td>\n",
       "      <td>71</td>\n",
       "      <td>0.72</td>\n",
       "      <td>818000</td>\n",
       "      <td>159000</td>\n",
       "      <td>1998</td>\n",
       "      <td>0.0</td>\n",
       "      <td>4048.35</td>\n",
       "      <td>0.0</td>\n",
       "      <td>0.0</td>\n",
       "      <td>0.0</td>\n",
       "      <td>4048.35</td>\n",
       "    </tr>\n",
       "    <tr>\n",
       "      <th>3</th>\n",
       "      <td>3</td>\n",
       "      <td>1</td>\n",
       "      <td>17000</td>\n",
       "      <td>6.25</td>\n",
       "      <td>1.0</td>\n",
       "      <td>1156000</td>\n",
       "      <td>68</td>\n",
       "      <td>0.56</td>\n",
       "      <td>647000</td>\n",
       "      <td>185000</td>\n",
       "      <td>1999</td>\n",
       "      <td>0.0</td>\n",
       "      <td>2758.42</td>\n",
       "      <td>0.0</td>\n",
       "      <td>0.0</td>\n",
       "      <td>0.0</td>\n",
       "      <td>2758.42</td>\n",
       "    </tr>\n",
       "    <tr>\n",
       "      <th>4</th>\n",
       "      <td>3</td>\n",
       "      <td>1</td>\n",
       "      <td>16000</td>\n",
       "      <td>-5.88</td>\n",
       "      <td>0.0</td>\n",
       "      <td>1248000</td>\n",
       "      <td>78</td>\n",
       "      <td>0.59</td>\n",
       "      <td>736000</td>\n",
       "      <td>187000</td>\n",
       "      <td>2000</td>\n",
       "      <td>0.0</td>\n",
       "      <td>3305.17</td>\n",
       "      <td>0.0</td>\n",
       "      <td>0.0</td>\n",
       "      <td>0.0</td>\n",
       "      <td>3305.17</td>\n",
       "    </tr>\n",
       "  </tbody>\n",
       "</table>\n",
       "</div>"
      ],
      "text/plain": [
       "   Region  FIPS  ColonyCount  ColonyGrowth  GrowthOutcome  TotalProduction  \\\n",
       "0       3     1        15000         -6.25            0.0           960000   \n",
       "1       3     1        14000         -6.67            0.0           924000   \n",
       "2       3     1        16000         14.29            1.0          1136000   \n",
       "3       3     1        17000          6.25            1.0          1156000   \n",
       "4       3     1        16000         -5.88            0.0          1248000   \n",
       "\n",
       "   YieldPerColony  PricePerLB  ProductionValue  Stocks  YearRecorded  \\\n",
       "0              64        0.87           835000   96000          1996   \n",
       "1              66        0.81           748000   92000          1997   \n",
       "2              71        0.72           818000  159000          1998   \n",
       "3              68        0.56           647000  185000          1999   \n",
       "4              78        0.59           736000  187000          2000   \n",
       "\n",
       "   ClothianidinLB  ImidaclopridLB  ThiamethoxamLB  AcetamipridLB  \\\n",
       "0             0.0          819.24             0.0            0.0   \n",
       "1             0.0        14781.55             0.0            0.0   \n",
       "2             0.0         4048.35             0.0            0.0   \n",
       "3             0.0         2758.42             0.0            0.0   \n",
       "4             0.0         3305.17             0.0            0.0   \n",
       "\n",
       "   ThiaclopridLB  CombinedNeonicLB  \n",
       "0            0.0            819.24  \n",
       "1            0.0          14781.55  \n",
       "2            0.0           4048.35  \n",
       "3            0.0           2758.42  \n",
       "4            0.0           3305.17  "
      ]
     },
     "execution_count": 4,
     "metadata": {},
     "output_type": "execute_result"
    }
   ],
   "source": [
    "# Read File\n",
    "\n",
    "honeybee_csv = pd.read_csv(os.path.join('Resources', 'Data', 'growth_designation.csv'))\n",
    "honeybee_csv.head()"
   ]
  },
  {
   "cell_type": "code",
   "execution_count": 5,
   "metadata": {},
   "outputs": [],
   "source": [
    "# Drop Columns\n",
    "\n",
    "honeybee_csv = honeybee_csv.drop(columns=['ColonyGrowth', 'YearRecorded', 'Region', 'FIPS'])"
   ]
  },
  {
   "cell_type": "code",
   "execution_count": 6,
   "metadata": {},
   "outputs": [],
   "source": [
    "# Target Outcome Column\n",
    "\n",
    "target = honeybee_csv['GrowthOutcome']\n",
    "target_names = ['Growth', 'No-Growth']"
   ]
  },
  {
   "cell_type": "code",
   "execution_count": 7,
   "metadata": {},
   "outputs": [
    {
     "data": {
      "text/html": [
       "<div>\n",
       "<style scoped>\n",
       "    .dataframe tbody tr th:only-of-type {\n",
       "        vertical-align: middle;\n",
       "    }\n",
       "\n",
       "    .dataframe tbody tr th {\n",
       "        vertical-align: top;\n",
       "    }\n",
       "\n",
       "    .dataframe thead th {\n",
       "        text-align: right;\n",
       "    }\n",
       "</style>\n",
       "<table border=\"1\" class=\"dataframe\">\n",
       "  <thead>\n",
       "    <tr style=\"text-align: right;\">\n",
       "      <th></th>\n",
       "      <th>ColonyCount</th>\n",
       "      <th>TotalProduction</th>\n",
       "      <th>YieldPerColony</th>\n",
       "      <th>PricePerLB</th>\n",
       "      <th>ProductionValue</th>\n",
       "      <th>Stocks</th>\n",
       "      <th>ClothianidinLB</th>\n",
       "      <th>ImidaclopridLB</th>\n",
       "      <th>ThiamethoxamLB</th>\n",
       "      <th>AcetamipridLB</th>\n",
       "      <th>ThiaclopridLB</th>\n",
       "      <th>CombinedNeonicLB</th>\n",
       "    </tr>\n",
       "  </thead>\n",
       "  <tbody>\n",
       "    <tr>\n",
       "      <th>0</th>\n",
       "      <td>15000</td>\n",
       "      <td>960000</td>\n",
       "      <td>64</td>\n",
       "      <td>0.87</td>\n",
       "      <td>835000</td>\n",
       "      <td>96000</td>\n",
       "      <td>0.0</td>\n",
       "      <td>819.24</td>\n",
       "      <td>0.0</td>\n",
       "      <td>0.0</td>\n",
       "      <td>0.0</td>\n",
       "      <td>819.24</td>\n",
       "    </tr>\n",
       "    <tr>\n",
       "      <th>1</th>\n",
       "      <td>14000</td>\n",
       "      <td>924000</td>\n",
       "      <td>66</td>\n",
       "      <td>0.81</td>\n",
       "      <td>748000</td>\n",
       "      <td>92000</td>\n",
       "      <td>0.0</td>\n",
       "      <td>14781.55</td>\n",
       "      <td>0.0</td>\n",
       "      <td>0.0</td>\n",
       "      <td>0.0</td>\n",
       "      <td>14781.55</td>\n",
       "    </tr>\n",
       "    <tr>\n",
       "      <th>2</th>\n",
       "      <td>16000</td>\n",
       "      <td>1136000</td>\n",
       "      <td>71</td>\n",
       "      <td>0.72</td>\n",
       "      <td>818000</td>\n",
       "      <td>159000</td>\n",
       "      <td>0.0</td>\n",
       "      <td>4048.35</td>\n",
       "      <td>0.0</td>\n",
       "      <td>0.0</td>\n",
       "      <td>0.0</td>\n",
       "      <td>4048.35</td>\n",
       "    </tr>\n",
       "    <tr>\n",
       "      <th>3</th>\n",
       "      <td>17000</td>\n",
       "      <td>1156000</td>\n",
       "      <td>68</td>\n",
       "      <td>0.56</td>\n",
       "      <td>647000</td>\n",
       "      <td>185000</td>\n",
       "      <td>0.0</td>\n",
       "      <td>2758.42</td>\n",
       "      <td>0.0</td>\n",
       "      <td>0.0</td>\n",
       "      <td>0.0</td>\n",
       "      <td>2758.42</td>\n",
       "    </tr>\n",
       "    <tr>\n",
       "      <th>4</th>\n",
       "      <td>16000</td>\n",
       "      <td>1248000</td>\n",
       "      <td>78</td>\n",
       "      <td>0.59</td>\n",
       "      <td>736000</td>\n",
       "      <td>187000</td>\n",
       "      <td>0.0</td>\n",
       "      <td>3305.17</td>\n",
       "      <td>0.0</td>\n",
       "      <td>0.0</td>\n",
       "      <td>0.0</td>\n",
       "      <td>3305.17</td>\n",
       "    </tr>\n",
       "  </tbody>\n",
       "</table>\n",
       "</div>"
      ],
      "text/plain": [
       "   ColonyCount  TotalProduction  YieldPerColony  PricePerLB  ProductionValue  \\\n",
       "0        15000           960000              64        0.87           835000   \n",
       "1        14000           924000              66        0.81           748000   \n",
       "2        16000          1136000              71        0.72           818000   \n",
       "3        17000          1156000              68        0.56           647000   \n",
       "4        16000          1248000              78        0.59           736000   \n",
       "\n",
       "   Stocks  ClothianidinLB  ImidaclopridLB  ThiamethoxamLB  AcetamipridLB  \\\n",
       "0   96000             0.0          819.24             0.0            0.0   \n",
       "1   92000             0.0        14781.55             0.0            0.0   \n",
       "2  159000             0.0         4048.35             0.0            0.0   \n",
       "3  185000             0.0         2758.42             0.0            0.0   \n",
       "4  187000             0.0         3305.17             0.0            0.0   \n",
       "\n",
       "   ThiaclopridLB  CombinedNeonicLB  \n",
       "0            0.0            819.24  \n",
       "1            0.0          14781.55  \n",
       "2            0.0           4048.35  \n",
       "3            0.0           2758.42  \n",
       "4            0.0           3305.17  "
      ]
     },
     "execution_count": 7,
     "metadata": {},
     "output_type": "execute_result"
    }
   ],
   "source": [
    "# Drop Column\n",
    "\n",
    "honeybee_data = honeybee_csv.drop(['GrowthOutcome'], axis=1)\n",
    "honeybee_names = honeybee_data.columns\n",
    "honeybee_data.head()"
   ]
  },
  {
   "cell_type": "code",
   "execution_count": 8,
   "metadata": {},
   "outputs": [],
   "source": [
    "# Split Data\n",
    "\n",
    "x_train, x_test, y_train, y_test = train_test_split(honeybee_data, target, random_state=1)"
   ]
  },
  {
   "cell_type": "markdown",
   "metadata": {},
   "source": [
    "### Perform Grid Search"
   ]
  },
  {
   "cell_type": "code",
   "execution_count": 9,
   "metadata": {},
   "outputs": [
    {
     "data": {
      "text/plain": [
       "RandomForestClassifier(max_depth=5, n_estimators=800, random_state=0)"
      ]
     },
     "execution_count": 9,
     "metadata": {},
     "output_type": "execute_result"
    }
   ],
   "source": [
    "# Create Grid Search\n",
    "\n",
    "param_grid = {'max_depth': [3, 5, 10],\n",
    "              'min_samples_split': [2, 5, 10]}\n",
    "base_estimator = RandomForestClassifier(random_state=0)\n",
    "x, y = make_classification(n_samples=1000, random_state=0)\n",
    "sh = HalvingGridSearchCV(base_estimator, param_grid, cv=5,\n",
    "                         factor=2, resource='n_estimators',\n",
    "                        max_resources=30).fit(x, y)\n",
    "sh.best_estimator_\n",
    "RandomForestClassifier(max_depth=5, n_estimators=800, random_state=0)"
   ]
  },
  {
   "cell_type": "markdown",
   "metadata": {},
   "source": [
    "### Create Random Forest"
   ]
  },
  {
   "cell_type": "code",
   "execution_count": 10,
   "metadata": {},
   "outputs": [
    {
     "name": "stdout",
     "output_type": "stream",
     "text": [
      "0.6383928571428571\n"
     ]
    },
    {
     "data": {
      "text/plain": [
       "[(0.13506942629527685, 'ProductionValue'),\n",
       " (0.1293348610954676, 'ColonyCount'),\n",
       " (0.11959049754245596, 'TotalProduction'),\n",
       " (0.10503215132491568, 'ImidaclopridLB'),\n",
       " (0.09825509207201129, 'YieldPerColony'),\n",
       " (0.09762632018383137, 'PricePerLB'),\n",
       " (0.09355024536478085, 'Stocks'),\n",
       " (0.06944012096727122, 'ThiamethoxamLB'),\n",
       " (0.06782750821269004, 'CombinedNeonicLB'),\n",
       " (0.03763874372935174, 'ClothianidinLB'),\n",
       " (0.03213234856403119, 'AcetamipridLB'),\n",
       " (0.014502684647916072, 'ThiaclopridLB')]"
      ]
     },
     "execution_count": 10,
     "metadata": {},
     "output_type": "execute_result"
    }
   ],
   "source": [
    "# Create RandomForest Classifier\n",
    "\n",
    "kepler_186f_RFClassifier = RandomForestClassifier(max_depth=5, n_estimators=24, random_state=0)\n",
    "# Fit the RandomForestClassifier to train data\n",
    "kepler_186f_RFClassifier = kepler_186f_RFClassifier.fit(x_train, y_train)\n",
    "# Score the RandomForestClassifier with test data\n",
    "print(kepler_186f_RFClassifier.score(x_test, y_test))\n",
    "sorted(zip(kepler_186f_RFClassifier.feature_importances_, honeybee_names), reverse=True)"
   ]
  },
  {
   "cell_type": "markdown",
   "metadata": {},
   "source": [
    "### Build SVC Model 1"
   ]
  },
  {
   "cell_type": "code",
   "execution_count": 11,
   "metadata": {},
   "outputs": [],
   "source": [
    "# Create SVC Classifier\n",
    "\n",
    "honeybee_svc_model = SVC(kernel='rbf', cache_size=5000)\n",
    "#.fit(x_train, y_train)"
   ]
  },
  {
   "cell_type": "code",
   "execution_count": 12,
   "metadata": {},
   "outputs": [
    {
     "data": {
      "text/plain": [
       "SVC(cache_size=5000)"
      ]
     },
     "execution_count": 12,
     "metadata": {},
     "output_type": "execute_result"
    }
   ],
   "source": [
    "# Fit Model\n",
    "\n",
    "honeybee_svc_model.fit(x_train, y_train)"
   ]
  },
  {
   "cell_type": "code",
   "execution_count": 13,
   "metadata": {},
   "outputs": [],
   "source": [
    "# Scale Data\n",
    "\n",
    "scaler = StandardScaler().fit(x_train)\n",
    "x_train_scaled = scaler.transform(x_train)\n",
    "x_test_scaled = scaler.transform(x_test)"
   ]
  },
  {
   "cell_type": "code",
   "execution_count": 14,
   "metadata": {},
   "outputs": [
    {
     "name": "stdout",
     "output_type": "stream",
     "text": [
      "Test accuracy: 0.647\n"
     ]
    }
   ],
   "source": [
    "# SVC Model Accuracy\n",
    "\n",
    "print(f'Test accuracy: %.3f' % honeybee_svc_model.score(x_test, y_test))"
   ]
  },
  {
   "cell_type": "code",
   "execution_count": 15,
   "metadata": {},
   "outputs": [
    {
     "name": "stdout",
     "output_type": "stream",
     "text": [
      "              precision    recall  f1-score   support\n",
      "\n",
      "      Growth       0.67      0.93      0.78       149\n",
      "   No-Growth       0.38      0.08      0.13        75\n",
      "\n",
      "    accuracy                           0.65       224\n",
      "   macro avg       0.52      0.51      0.46       224\n",
      "weighted avg       0.57      0.65      0.56       224\n",
      "\n"
     ]
    }
   ],
   "source": [
    "# Calculate Report\n",
    "\n",
    "honeybee_prediction = honeybee_svc_model.predict(x_test)\n",
    "print(classification_report(y_test, honeybee_prediction,\n",
    "                            target_names = target_names))"
   ]
  },
  {
   "cell_type": "markdown",
   "metadata": {},
   "source": [
    "### Build SVC Model 2"
   ]
  },
  {
   "cell_type": "code",
   "execution_count": 16,
   "metadata": {},
   "outputs": [
    {
     "data": {
      "text/html": [
       "<div>\n",
       "<style scoped>\n",
       "    .dataframe tbody tr th:only-of-type {\n",
       "        vertical-align: middle;\n",
       "    }\n",
       "\n",
       "    .dataframe tbody tr th {\n",
       "        vertical-align: top;\n",
       "    }\n",
       "\n",
       "    .dataframe thead th {\n",
       "        text-align: right;\n",
       "    }\n",
       "</style>\n",
       "<table border=\"1\" class=\"dataframe\">\n",
       "  <thead>\n",
       "    <tr style=\"text-align: right;\">\n",
       "      <th></th>\n",
       "      <th>ProductionValue</th>\n",
       "      <th>TotalProduction</th>\n",
       "      <th>ImidaclopridLB</th>\n",
       "      <th>Stocks</th>\n",
       "      <th>PricePerLB</th>\n",
       "    </tr>\n",
       "  </thead>\n",
       "  <tbody>\n",
       "    <tr>\n",
       "      <th>0</th>\n",
       "      <td>835000</td>\n",
       "      <td>960000</td>\n",
       "      <td>819.24</td>\n",
       "      <td>96000</td>\n",
       "      <td>0.87</td>\n",
       "    </tr>\n",
       "    <tr>\n",
       "      <th>1</th>\n",
       "      <td>748000</td>\n",
       "      <td>924000</td>\n",
       "      <td>14781.55</td>\n",
       "      <td>92000</td>\n",
       "      <td>0.81</td>\n",
       "    </tr>\n",
       "    <tr>\n",
       "      <th>2</th>\n",
       "      <td>818000</td>\n",
       "      <td>1136000</td>\n",
       "      <td>4048.35</td>\n",
       "      <td>159000</td>\n",
       "      <td>0.72</td>\n",
       "    </tr>\n",
       "    <tr>\n",
       "      <th>3</th>\n",
       "      <td>647000</td>\n",
       "      <td>1156000</td>\n",
       "      <td>2758.42</td>\n",
       "      <td>185000</td>\n",
       "      <td>0.56</td>\n",
       "    </tr>\n",
       "    <tr>\n",
       "      <th>4</th>\n",
       "      <td>736000</td>\n",
       "      <td>1248000</td>\n",
       "      <td>3305.17</td>\n",
       "      <td>187000</td>\n",
       "      <td>0.59</td>\n",
       "    </tr>\n",
       "  </tbody>\n",
       "</table>\n",
       "</div>"
      ],
      "text/plain": [
       "   ProductionValue  TotalProduction  ImidaclopridLB  Stocks  PricePerLB\n",
       "0           835000           960000          819.24   96000        0.87\n",
       "1           748000           924000        14781.55   92000        0.81\n",
       "2           818000          1136000         4048.35  159000        0.72\n",
       "3           647000          1156000         2758.42  185000        0.56\n",
       "4           736000          1248000         3305.17  187000        0.59"
      ]
     },
     "execution_count": 16,
     "metadata": {},
     "output_type": "execute_result"
    }
   ],
   "source": [
    "# Keep Only\n",
    "\n",
    "honeybee_data2 = honeybee_csv[['ProductionValue', 'TotalProduction', 'ImidaclopridLB','Stocks','PricePerLB']]\n",
    "honeybee_names = honeybee_data.columns\n",
    "honeybee_data2.head()"
   ]
  },
  {
   "cell_type": "code",
   "execution_count": 17,
   "metadata": {},
   "outputs": [],
   "source": [
    "# Split Data\n",
    "\n",
    "x_train, x_test, y_train, y_test = train_test_split(honeybee_data2, target, random_state=1)"
   ]
  },
  {
   "cell_type": "code",
   "execution_count": 18,
   "metadata": {},
   "outputs": [],
   "source": [
    "# Create SVC Classifier\n",
    "\n",
    "honeybee_svc_model2 = SVC(kernel='rbf', cache_size=5000).fit(x_train, y_train)"
   ]
  },
  {
   "cell_type": "code",
   "execution_count": 19,
   "metadata": {},
   "outputs": [],
   "source": [
    "# Scale Data\n",
    "\n",
    "scaler = StandardScaler().fit(x_train)\n",
    "x_train_scaled = scaler.transform(x_train)\n",
    "x_test_scaled = scaler.transform(x_test)"
   ]
  },
  {
   "cell_type": "code",
   "execution_count": 20,
   "metadata": {},
   "outputs": [
    {
     "name": "stdout",
     "output_type": "stream",
     "text": [
      "Test accuracy: 0.652\n"
     ]
    }
   ],
   "source": [
    "# SVC Model Accuracy\n",
    "\n",
    "print(f'Test accuracy: %.3f' % honeybee_svc_model2.score(x_test, y_test))"
   ]
  },
  {
   "cell_type": "code",
   "execution_count": 21,
   "metadata": {},
   "outputs": [
    {
     "name": "stdout",
     "output_type": "stream",
     "text": [
      "              precision    recall  f1-score   support\n",
      "\n",
      "      Growth       0.67      0.93      0.78       149\n",
      "   No-Growth       0.41      0.09      0.15        75\n",
      "\n",
      "    accuracy                           0.65       224\n",
      "   macro avg       0.54      0.51      0.47       224\n",
      "weighted avg       0.58      0.65      0.57       224\n",
      "\n"
     ]
    }
   ],
   "source": [
    "# Calculate Report\n",
    "\n",
    "honeybee_prediction = honeybee_svc_model2.predict(x_test)\n",
    "print(classification_report(y_test, honeybee_prediction,\n",
    "                            target_names = target_names))"
   ]
  },
  {
   "cell_type": "markdown",
   "metadata": {},
   "source": [
    "### Build SVC Model 3"
   ]
  },
  {
   "cell_type": "code",
   "execution_count": 22,
   "metadata": {},
   "outputs": [
    {
     "data": {
      "text/html": [
       "<div>\n",
       "<style scoped>\n",
       "    .dataframe tbody tr th:only-of-type {\n",
       "        vertical-align: middle;\n",
       "    }\n",
       "\n",
       "    .dataframe tbody tr th {\n",
       "        vertical-align: top;\n",
       "    }\n",
       "\n",
       "    .dataframe thead th {\n",
       "        text-align: right;\n",
       "    }\n",
       "</style>\n",
       "<table border=\"1\" class=\"dataframe\">\n",
       "  <thead>\n",
       "    <tr style=\"text-align: right;\">\n",
       "      <th></th>\n",
       "      <th>ProductionValue</th>\n",
       "      <th>TotalProduction</th>\n",
       "      <th>ImidaclopridLB</th>\n",
       "      <th>Stocks</th>\n",
       "      <th>PricePerLB</th>\n",
       "    </tr>\n",
       "  </thead>\n",
       "  <tbody>\n",
       "    <tr>\n",
       "      <th>0</th>\n",
       "      <td>835000</td>\n",
       "      <td>960000</td>\n",
       "      <td>819.24</td>\n",
       "      <td>96000</td>\n",
       "      <td>0.87</td>\n",
       "    </tr>\n",
       "    <tr>\n",
       "      <th>1</th>\n",
       "      <td>748000</td>\n",
       "      <td>924000</td>\n",
       "      <td>14781.55</td>\n",
       "      <td>92000</td>\n",
       "      <td>0.81</td>\n",
       "    </tr>\n",
       "    <tr>\n",
       "      <th>2</th>\n",
       "      <td>818000</td>\n",
       "      <td>1136000</td>\n",
       "      <td>4048.35</td>\n",
       "      <td>159000</td>\n",
       "      <td>0.72</td>\n",
       "    </tr>\n",
       "    <tr>\n",
       "      <th>3</th>\n",
       "      <td>647000</td>\n",
       "      <td>1156000</td>\n",
       "      <td>2758.42</td>\n",
       "      <td>185000</td>\n",
       "      <td>0.56</td>\n",
       "    </tr>\n",
       "    <tr>\n",
       "      <th>4</th>\n",
       "      <td>736000</td>\n",
       "      <td>1248000</td>\n",
       "      <td>3305.17</td>\n",
       "      <td>187000</td>\n",
       "      <td>0.59</td>\n",
       "    </tr>\n",
       "  </tbody>\n",
       "</table>\n",
       "</div>"
      ],
      "text/plain": [
       "   ProductionValue  TotalProduction  ImidaclopridLB  Stocks  PricePerLB\n",
       "0           835000           960000          819.24   96000        0.87\n",
       "1           748000           924000        14781.55   92000        0.81\n",
       "2           818000          1136000         4048.35  159000        0.72\n",
       "3           647000          1156000         2758.42  185000        0.56\n",
       "4           736000          1248000         3305.17  187000        0.59"
      ]
     },
     "execution_count": 22,
     "metadata": {},
     "output_type": "execute_result"
    }
   ],
   "source": [
    "# Keep Only\n",
    "\n",
    "honeybee_data3 = honeybee_csv[['ClothianidinLB', 'ImidaclopridLB', 'ThiamethoxamLB','AcetamipridLB','ThiaclopridLB']]\n",
    "honeybee_names = honeybee_data.columns\n",
    "honeybee_data2.head()"
   ]
  },
  {
   "cell_type": "code",
   "execution_count": 23,
   "metadata": {},
   "outputs": [],
   "source": [
    "# Split Data\n",
    "\n",
    "x_train, x_test, y_train, y_test = train_test_split(honeybee_data3, target, random_state=1)"
   ]
  },
  {
   "cell_type": "code",
   "execution_count": 24,
   "metadata": {},
   "outputs": [],
   "source": [
    "# Create SVC Classifier\n",
    "\n",
    "honeybee_svc_model3 = SVC(kernel='rbf', cache_size=5000).fit(x_train, y_train)"
   ]
  },
  {
   "cell_type": "code",
   "execution_count": 25,
   "metadata": {},
   "outputs": [],
   "source": [
    "# Scale Data\n",
    "\n",
    "scaler = StandardScaler().fit(x_train)\n",
    "x_train_scaled = scaler.transform(x_train)\n",
    "x_test_scaled = scaler.transform(x_test)"
   ]
  },
  {
   "cell_type": "code",
   "execution_count": 26,
   "metadata": {},
   "outputs": [
    {
     "name": "stdout",
     "output_type": "stream",
     "text": [
      "Test accuracy: 0.661\n"
     ]
    }
   ],
   "source": [
    "# SVC Model Accuracy\n",
    "\n",
    "print(f'Test accuracy: %.3f' % honeybee_svc_model3.score(x_test, y_test))"
   ]
  },
  {
   "cell_type": "code",
   "execution_count": 27,
   "metadata": {},
   "outputs": [
    {
     "name": "stdout",
     "output_type": "stream",
     "text": [
      "              precision    recall  f1-score   support\n",
      "\n",
      "      Growth       0.67      0.96      0.79       149\n",
      "   No-Growth       0.45      0.07      0.12        75\n",
      "\n",
      "    accuracy                           0.66       224\n",
      "   macro avg       0.56      0.51      0.45       224\n",
      "weighted avg       0.60      0.66      0.56       224\n",
      "\n"
     ]
    }
   ],
   "source": [
    "# Calculate Report\n",
    "\n",
    "honeybee_prediction = honeybee_svc_model3.predict(x_test)\n",
    "print(classification_report(y_test, honeybee_prediction,\n",
    "                            target_names = target_names))"
   ]
  },
  {
   "cell_type": "code",
   "execution_count": null,
   "metadata": {},
   "outputs": [],
   "source": [
    "### Build SVC Model 4"
   ]
  }
 ],
 "metadata": {
  "kernelspec": {
   "display_name": "Python [conda env:root] *",
   "language": "python",
   "name": "conda-root-py"
  },
  "language_info": {
   "codemirror_mode": {
    "name": "ipython",
    "version": 3
   },
   "file_extension": ".py",
   "mimetype": "text/x-python",
   "name": "python",
   "nbconvert_exporter": "python",
   "pygments_lexer": "ipython3",
   "version": "3.8.5"
  }
 },
 "nbformat": 4,
 "nbformat_minor": 4
}
