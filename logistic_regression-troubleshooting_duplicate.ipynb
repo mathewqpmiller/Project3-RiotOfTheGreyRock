{
 "cells": [
  {
   "cell_type": "code",
   "execution_count": 1,
   "id": "6f40518f",
   "metadata": {},
   "outputs": [],
   "source": [
    "import pandas as pd\n",
    "from sklearn.preprocessing import StandardScaler, LabelEncoder\n",
    "from sklearn.model_selection import train_test_split\n",
    "from sklearn.linear_model import LogisticRegression\n",
    "from tensorflow.keras.utils import to_categorical\n",
    "import os"
   ]
  },
  {
   "cell_type": "code",
   "execution_count": 2,
   "id": "93faeeb1",
   "metadata": {
    "scrolled": true
   },
   "outputs": [
    {
     "data": {
      "text/html": [
       "<div>\n",
       "<style scoped>\n",
       "    .dataframe tbody tr th:only-of-type {\n",
       "        vertical-align: middle;\n",
       "    }\n",
       "\n",
       "    .dataframe tbody tr th {\n",
       "        vertical-align: top;\n",
       "    }\n",
       "\n",
       "    .dataframe thead th {\n",
       "        text-align: right;\n",
       "    }\n",
       "</style>\n",
       "<table border=\"1\" class=\"dataframe\">\n",
       "  <thead>\n",
       "    <tr style=\"text-align: right;\">\n",
       "      <th></th>\n",
       "      <th>Region</th>\n",
       "      <th>FIPS</th>\n",
       "      <th>ColonyCount</th>\n",
       "      <th>ColonyGrowth</th>\n",
       "      <th>GrowthOutcome</th>\n",
       "      <th>TotalProduction</th>\n",
       "      <th>YieldPerColony</th>\n",
       "      <th>PricePerLB</th>\n",
       "      <th>ProductionValue</th>\n",
       "      <th>Stocks</th>\n",
       "      <th>YearRecorded</th>\n",
       "      <th>ClothianidinLB</th>\n",
       "      <th>ImidaclopridLB</th>\n",
       "      <th>ThiamethoxamLB</th>\n",
       "      <th>AcetamipridLB</th>\n",
       "      <th>ThiaclopridLB</th>\n",
       "      <th>CombinedNeonicLB</th>\n",
       "    </tr>\n",
       "  </thead>\n",
       "  <tbody>\n",
       "    <tr>\n",
       "      <th>0</th>\n",
       "      <td>3</td>\n",
       "      <td>1</td>\n",
       "      <td>15000</td>\n",
       "      <td>-6.25</td>\n",
       "      <td>0.0</td>\n",
       "      <td>960000</td>\n",
       "      <td>64</td>\n",
       "      <td>0.87</td>\n",
       "      <td>835000</td>\n",
       "      <td>96000</td>\n",
       "      <td>1996</td>\n",
       "      <td>0.00</td>\n",
       "      <td>819.24</td>\n",
       "      <td>0.00</td>\n",
       "      <td>0.0</td>\n",
       "      <td>0.0</td>\n",
       "      <td>819.24</td>\n",
       "    </tr>\n",
       "    <tr>\n",
       "      <th>1</th>\n",
       "      <td>3</td>\n",
       "      <td>1</td>\n",
       "      <td>14000</td>\n",
       "      <td>-6.67</td>\n",
       "      <td>0.0</td>\n",
       "      <td>924000</td>\n",
       "      <td>66</td>\n",
       "      <td>0.81</td>\n",
       "      <td>748000</td>\n",
       "      <td>92000</td>\n",
       "      <td>1997</td>\n",
       "      <td>0.00</td>\n",
       "      <td>14781.55</td>\n",
       "      <td>0.00</td>\n",
       "      <td>0.0</td>\n",
       "      <td>0.0</td>\n",
       "      <td>14781.55</td>\n",
       "    </tr>\n",
       "    <tr>\n",
       "      <th>2</th>\n",
       "      <td>3</td>\n",
       "      <td>1</td>\n",
       "      <td>16000</td>\n",
       "      <td>14.29</td>\n",
       "      <td>1.0</td>\n",
       "      <td>1136000</td>\n",
       "      <td>71</td>\n",
       "      <td>0.72</td>\n",
       "      <td>818000</td>\n",
       "      <td>159000</td>\n",
       "      <td>1998</td>\n",
       "      <td>0.00</td>\n",
       "      <td>4048.35</td>\n",
       "      <td>0.00</td>\n",
       "      <td>0.0</td>\n",
       "      <td>0.0</td>\n",
       "      <td>4048.35</td>\n",
       "    </tr>\n",
       "    <tr>\n",
       "      <th>3</th>\n",
       "      <td>3</td>\n",
       "      <td>1</td>\n",
       "      <td>17000</td>\n",
       "      <td>6.25</td>\n",
       "      <td>1.0</td>\n",
       "      <td>1156000</td>\n",
       "      <td>68</td>\n",
       "      <td>0.56</td>\n",
       "      <td>647000</td>\n",
       "      <td>185000</td>\n",
       "      <td>1999</td>\n",
       "      <td>0.00</td>\n",
       "      <td>2758.42</td>\n",
       "      <td>0.00</td>\n",
       "      <td>0.0</td>\n",
       "      <td>0.0</td>\n",
       "      <td>2758.42</td>\n",
       "    </tr>\n",
       "    <tr>\n",
       "      <th>4</th>\n",
       "      <td>3</td>\n",
       "      <td>1</td>\n",
       "      <td>16000</td>\n",
       "      <td>-5.88</td>\n",
       "      <td>0.0</td>\n",
       "      <td>1248000</td>\n",
       "      <td>78</td>\n",
       "      <td>0.59</td>\n",
       "      <td>736000</td>\n",
       "      <td>187000</td>\n",
       "      <td>2000</td>\n",
       "      <td>0.00</td>\n",
       "      <td>3305.17</td>\n",
       "      <td>0.00</td>\n",
       "      <td>0.0</td>\n",
       "      <td>0.0</td>\n",
       "      <td>3305.17</td>\n",
       "    </tr>\n",
       "    <tr>\n",
       "      <th>...</th>\n",
       "      <td>...</td>\n",
       "      <td>...</td>\n",
       "      <td>...</td>\n",
       "      <td>...</td>\n",
       "      <td>...</td>\n",
       "      <td>...</td>\n",
       "      <td>...</td>\n",
       "      <td>...</td>\n",
       "      <td>...</td>\n",
       "      <td>...</td>\n",
       "      <td>...</td>\n",
       "      <td>...</td>\n",
       "      <td>...</td>\n",
       "      <td>...</td>\n",
       "      <td>...</td>\n",
       "      <td>...</td>\n",
       "      <td>...</td>\n",
       "    </tr>\n",
       "    <tr>\n",
       "      <th>889</th>\n",
       "      <td>4</td>\n",
       "      <td>56</td>\n",
       "      <td>50000</td>\n",
       "      <td>42.86</td>\n",
       "      <td>1.0</td>\n",
       "      <td>2550000</td>\n",
       "      <td>51</td>\n",
       "      <td>1.87</td>\n",
       "      <td>4769000</td>\n",
       "      <td>459000</td>\n",
       "      <td>2012</td>\n",
       "      <td>2590.21</td>\n",
       "      <td>610.68</td>\n",
       "      <td>933.22</td>\n",
       "      <td>0.0</td>\n",
       "      <td>0.0</td>\n",
       "      <td>4134.11</td>\n",
       "    </tr>\n",
       "    <tr>\n",
       "      <th>890</th>\n",
       "      <td>4</td>\n",
       "      <td>56</td>\n",
       "      <td>47000</td>\n",
       "      <td>-6.00</td>\n",
       "      <td>0.0</td>\n",
       "      <td>3102000</td>\n",
       "      <td>66</td>\n",
       "      <td>2.11</td>\n",
       "      <td>6545000</td>\n",
       "      <td>558000</td>\n",
       "      <td>2013</td>\n",
       "      <td>1853.87</td>\n",
       "      <td>343.70</td>\n",
       "      <td>1160.07</td>\n",
       "      <td>0.0</td>\n",
       "      <td>0.0</td>\n",
       "      <td>3357.64</td>\n",
       "    </tr>\n",
       "    <tr>\n",
       "      <th>891</th>\n",
       "      <td>4</td>\n",
       "      <td>56</td>\n",
       "      <td>38000</td>\n",
       "      <td>-19.15</td>\n",
       "      <td>0.0</td>\n",
       "      <td>2318000</td>\n",
       "      <td>61</td>\n",
       "      <td>2.08</td>\n",
       "      <td>4821000</td>\n",
       "      <td>255000</td>\n",
       "      <td>2014</td>\n",
       "      <td>2782.23</td>\n",
       "      <td>569.23</td>\n",
       "      <td>1248.04</td>\n",
       "      <td>0.0</td>\n",
       "      <td>0.0</td>\n",
       "      <td>4599.50</td>\n",
       "    </tr>\n",
       "    <tr>\n",
       "      <th>892</th>\n",
       "      <td>4</td>\n",
       "      <td>56</td>\n",
       "      <td>38000</td>\n",
       "      <td>0.00</td>\n",
       "      <td>0.0</td>\n",
       "      <td>2926000</td>\n",
       "      <td>77</td>\n",
       "      <td>1.90</td>\n",
       "      <td>5559000</td>\n",
       "      <td>146000</td>\n",
       "      <td>2015</td>\n",
       "      <td>0.00</td>\n",
       "      <td>252.21</td>\n",
       "      <td>41.89</td>\n",
       "      <td>0.0</td>\n",
       "      <td>0.0</td>\n",
       "      <td>294.10</td>\n",
       "    </tr>\n",
       "    <tr>\n",
       "      <th>893</th>\n",
       "      <td>4</td>\n",
       "      <td>56</td>\n",
       "      <td>40000</td>\n",
       "      <td>5.26</td>\n",
       "      <td>1.0</td>\n",
       "      <td>2720000</td>\n",
       "      <td>68</td>\n",
       "      <td>1.78</td>\n",
       "      <td>4842000</td>\n",
       "      <td>190000</td>\n",
       "      <td>2016</td>\n",
       "      <td>0.00</td>\n",
       "      <td>60.63</td>\n",
       "      <td>20.72</td>\n",
       "      <td>0.0</td>\n",
       "      <td>0.0</td>\n",
       "      <td>81.35</td>\n",
       "    </tr>\n",
       "  </tbody>\n",
       "</table>\n",
       "<p>894 rows × 17 columns</p>\n",
       "</div>"
      ],
      "text/plain": [
       "     Region  FIPS  ColonyCount  ColonyGrowth  GrowthOutcome  TotalProduction  \\\n",
       "0         3     1        15000         -6.25            0.0           960000   \n",
       "1         3     1        14000         -6.67            0.0           924000   \n",
       "2         3     1        16000         14.29            1.0          1136000   \n",
       "3         3     1        17000          6.25            1.0          1156000   \n",
       "4         3     1        16000         -5.88            0.0          1248000   \n",
       "..      ...   ...          ...           ...            ...              ...   \n",
       "889       4    56        50000         42.86            1.0          2550000   \n",
       "890       4    56        47000         -6.00            0.0          3102000   \n",
       "891       4    56        38000        -19.15            0.0          2318000   \n",
       "892       4    56        38000          0.00            0.0          2926000   \n",
       "893       4    56        40000          5.26            1.0          2720000   \n",
       "\n",
       "     YieldPerColony  PricePerLB  ProductionValue  Stocks  YearRecorded  \\\n",
       "0                64        0.87           835000   96000          1996   \n",
       "1                66        0.81           748000   92000          1997   \n",
       "2                71        0.72           818000  159000          1998   \n",
       "3                68        0.56           647000  185000          1999   \n",
       "4                78        0.59           736000  187000          2000   \n",
       "..              ...         ...              ...     ...           ...   \n",
       "889              51        1.87          4769000  459000          2012   \n",
       "890              66        2.11          6545000  558000          2013   \n",
       "891              61        2.08          4821000  255000          2014   \n",
       "892              77        1.90          5559000  146000          2015   \n",
       "893              68        1.78          4842000  190000          2016   \n",
       "\n",
       "     ClothianidinLB  ImidaclopridLB  ThiamethoxamLB  AcetamipridLB  \\\n",
       "0              0.00          819.24            0.00            0.0   \n",
       "1              0.00        14781.55            0.00            0.0   \n",
       "2              0.00         4048.35            0.00            0.0   \n",
       "3              0.00         2758.42            0.00            0.0   \n",
       "4              0.00         3305.17            0.00            0.0   \n",
       "..              ...             ...             ...            ...   \n",
       "889         2590.21          610.68          933.22            0.0   \n",
       "890         1853.87          343.70         1160.07            0.0   \n",
       "891         2782.23          569.23         1248.04            0.0   \n",
       "892            0.00          252.21           41.89            0.0   \n",
       "893            0.00           60.63           20.72            0.0   \n",
       "\n",
       "     ThiaclopridLB  CombinedNeonicLB  \n",
       "0              0.0            819.24  \n",
       "1              0.0          14781.55  \n",
       "2              0.0           4048.35  \n",
       "3              0.0           2758.42  \n",
       "4              0.0           3305.17  \n",
       "..             ...               ...  \n",
       "889            0.0           4134.11  \n",
       "890            0.0           3357.64  \n",
       "891            0.0           4599.50  \n",
       "892            0.0            294.10  \n",
       "893            0.0             81.35  \n",
       "\n",
       "[894 rows x 17 columns]"
      ]
     },
     "execution_count": 2,
     "metadata": {},
     "output_type": "execute_result"
    }
   ],
   "source": [
    "raw_data = pd.read_csv(os.path.join(\"Resources\", \"Data\", \"growth_designation.csv\"))\n",
    "raw_data"
   ]
  },
  {
   "cell_type": "code",
   "execution_count": 3,
   "id": "6ee6c6fd",
   "metadata": {},
   "outputs": [
    {
     "data": {
      "text/plain": [
       "LogisticRegression()"
      ]
     },
     "execution_count": 3,
     "metadata": {},
     "output_type": "execute_result"
    }
   ],
   "source": [
    "classifier = LogisticRegression()\n",
    "classifier"
   ]
  },
  {
   "cell_type": "code",
   "execution_count": 4,
   "id": "0ea35123",
   "metadata": {},
   "outputs": [],
   "source": [
    "# print(f\"ColonyCount: {raw_data['ColonyCount'].min()}, {raw_data['ColonyCount'].max()}\")\n",
    "# print(f\"TotalProduction: {raw_data['TotalProduction'].min()}, {raw_data['TotalProduction'].max()}\")\n",
    "# print(f\"YieldPerColony: {raw_data['YieldPerColony'].min()}, {raw_data['YieldPerColony'].max()}\")\n",
    "# print(f\"PricePerLB: {raw_data['PricePerLB'].min()}, {raw_data['PricePerLB'].max()}\")\n",
    "# print(f\"ProductionValue: {raw_data['ProductionValue'].min()}, {raw_data['ProductionValue'].max()}\")\n",
    "# print(f\"Stocks: {raw_data['Stocks'].min()}, {raw_data['Stocks'].max()}\")\n",
    "# print(f\"ClothianidinLB: {raw_data['ClothianidinLB'].min()}, {raw_data['ClothianidinLB'].max()}\")\n",
    "# print(f\"ImidaclopridLB: {raw_data['ImidaclopridLB'].min()}, {raw_data['ImidaclopridLB'].max()}\")\n",
    "# print(f\"ThiamethoxamLB: {raw_data['ThiamethoxamLB'].min()}, {raw_data['ThiamethoxamLB'].max()}\")\n",
    "# print(f\"AcetamipridLB: {raw_data['AcetamipridLB'].min()}, {raw_data['AcetamipridLB'].max()}\")\n",
    "# print(f\"ThiaclopridLB: {raw_data['ThiaclopridLB'].min()}, {raw_data['ThiaclopridLB'].max()}\")\n",
    "# print(f\"CombinedNeonicLB: {raw_data['CombinedNeonicLB'].min()}, {raw_data['CombinedNeonicLB'].max()}\")"
   ]
  },
  {
   "cell_type": "markdown",
   "id": "e83dbbe6",
   "metadata": {},
   "source": [
    "<h3 style=\"color:green\">Model 1</h3>\n",
    "<strong>Features: </strong>All columns"
   ]
  },
  {
   "cell_type": "code",
   "execution_count": 5,
   "id": "ff1adbd7",
   "metadata": {},
   "outputs": [
    {
     "name": "stdout",
     "output_type": "stream",
     "text": [
      "(894, 12) (894,)\n"
     ]
    }
   ],
   "source": [
    "X1 = raw_data.drop(columns=['GrowthOutcome', 'ColonyGrowth', 'YearRecorded','FIPS','Region'])\n",
    "# y1 = raw_data[\"GrowthOutcome\"].values.reshape(-1, 1)\n",
    "y1 = raw_data[\"GrowthOutcome\"]\n",
    "print(X1.shape, y1.shape)\n",
    "# X1.dtypes\n",
    "classifier1=LogisticRegression(max_iter=500)"
   ]
  },
  {
   "cell_type": "code",
   "execution_count": 6,
   "id": "6b376f3d",
   "metadata": {},
   "outputs": [],
   "source": [
    "X1_train, X1_test, y1_train, y1_test = train_test_split(X1, y1, random_state=1)"
   ]
  },
  {
   "cell_type": "code",
   "execution_count": 7,
   "id": "33f9a263",
   "metadata": {},
   "outputs": [
    {
     "data": {
      "text/plain": [
       "LogisticRegression(max_iter=500)"
      ]
     },
     "execution_count": 7,
     "metadata": {},
     "output_type": "execute_result"
    }
   ],
   "source": [
    "classifier1.fit(X1_train, y1_train)\n",
    "# X1_scaler = StandardScaler().fit(X1_train)\n",
    "# y1_scaler = StandardScaler().fit(y1_train)\n",
    "\n",
    "# X1_train_scaled = X1_scaler.transform(X1_train)\n",
    "# X1_test_scaled = X1_scaler.transform(X1_test)\n",
    "# y1_train_scaled = y1_scaler.transform(y1_train)\n",
    "# y1_test_scaled = y1_scaler.transform(y1_test)\n",
    "\n",
    "# # X1_scaler = StandardScaler().fit(X1_train)\n",
    "# # X1_train_scaled = X1_scaler.transform(X1_train)\n",
    "# # X1_test_scaled = X1_scaler.transform(X1_test)\n",
    "\n",
    "# # # X1_train_scaler = StandardScaler().fit(X1_train)\n",
    "# # # X1_test_scaler = StandardScaler().fit(X1_test)\n",
    "# # # y1_train_scaler = StandardScaler().fit(y1_train)\n",
    "# # # y1_test_scaler = StandardScaler().fit(y1_test)\n",
    "\n",
    "# # label_encoder = LabelEncoder()\n",
    "\n",
    "# # label_encoder.fit(y1_train)\n",
    "# # encoded_y1_train = label_encoder.transform(y1_train)\n",
    "# # encoded_y1_test = label_encoder.transform(y1_test)\n",
    "\n",
    "# # y1_train_categorical = to_categorical(encoded_y1_train)\n",
    "# # y1_test_categorical = to_categorical(encoded_y1_test)\n",
    "\n",
    "# # # y1_scaler = StandardScaler().fit(y1_train)\n",
    "# # # y1_train_scaled = y1_scaler.transform(y1_train)\n",
    "# # # y1_test_scaled = y1_scaler.transform(y1_test)\n",
    "\n",
    "# # X1_train_scaled\n",
    "# # X1_test_scaled\n",
    "# # y1_train_scaled\n",
    "# # y1_test_scaled\n",
    "\n",
    "# # ORIGINAL CODE\n",
    "# # classifier.fit(X1_train, y1_train)"
   ]
  },
  {
   "cell_type": "code",
   "execution_count": 8,
   "id": "01ae10b0",
   "metadata": {},
   "outputs": [
    {
     "name": "stdout",
     "output_type": "stream",
     "text": [
      "Training Data Score: 0.6104477611940299\n",
      "Testing Data Score: 0.6116071428571429\n"
     ]
    }
   ],
   "source": [
    "# print(f\"Training Data Score: {classifier.score(X1_train_scaled, y1_train_scaled)}\")\n",
    "# print(f\"Testing Data Score: {classifier.score(X1_test_scaled, y1_test_scaled)}\")\n",
    "\n",
    "print(f\"Training Data Score: {classifier1.score(X1_train, y1_train)}\")\n",
    "print(f\"Testing Data Score: {classifier1.score(X1_test, y1_test)}\")"
   ]
  },
  {
   "cell_type": "code",
   "execution_count": 9,
   "id": "92cc9e12",
   "metadata": {},
   "outputs": [
    {
     "ename": "NotFittedError",
     "evalue": "This LogisticRegression instance is not fitted yet. Call 'fit' with appropriate arguments before using this estimator.",
     "output_type": "error",
     "traceback": [
      "\u001b[1;31m---------------------------------------------------------------------------\u001b[0m",
      "\u001b[1;31mNotFittedError\u001b[0m                            Traceback (most recent call last)",
      "\u001b[1;32m<ipython-input-9-6ca7c1fd3ce9>\u001b[0m in \u001b[0;36m<module>\u001b[1;34m\u001b[0m\n\u001b[1;32m----> 1\u001b[1;33m \u001b[0mpredictions1\u001b[0m \u001b[1;33m=\u001b[0m \u001b[0mclassifier\u001b[0m\u001b[1;33m.\u001b[0m\u001b[0mpredict\u001b[0m\u001b[1;33m(\u001b[0m\u001b[0mX1_test\u001b[0m\u001b[1;33m)\u001b[0m\u001b[1;33m\u001b[0m\u001b[1;33m\u001b[0m\u001b[0m\n\u001b[0m\u001b[0;32m      2\u001b[0m \u001b[0mprint\u001b[0m\u001b[1;33m(\u001b[0m\u001b[1;34mf\"First 10 Predictions:   {predictions1[:10]}\"\u001b[0m\u001b[1;33m)\u001b[0m\u001b[1;33m\u001b[0m\u001b[1;33m\u001b[0m\u001b[0m\n\u001b[0;32m      3\u001b[0m \u001b[0mprint\u001b[0m\u001b[1;33m(\u001b[0m\u001b[1;34mf\"First 10 Actual labels: {y1_test[:10].tolist()}\"\u001b[0m\u001b[1;33m)\u001b[0m\u001b[1;33m\u001b[0m\u001b[1;33m\u001b[0m\u001b[0m\n",
      "\u001b[1;32m~\\anaconda3\\envs\\PythonAdv\\lib\\site-packages\\sklearn\\linear_model\\_base.py\u001b[0m in \u001b[0;36mpredict\u001b[1;34m(self, X)\u001b[0m\n\u001b[0;32m    307\u001b[0m             \u001b[0mPredicted\u001b[0m \u001b[1;32mclass\u001b[0m \u001b[0mlabel\u001b[0m \u001b[0mper\u001b[0m \u001b[0msample\u001b[0m\u001b[1;33m.\u001b[0m\u001b[1;33m\u001b[0m\u001b[1;33m\u001b[0m\u001b[0m\n\u001b[0;32m    308\u001b[0m         \"\"\"\n\u001b[1;32m--> 309\u001b[1;33m         \u001b[0mscores\u001b[0m \u001b[1;33m=\u001b[0m \u001b[0mself\u001b[0m\u001b[1;33m.\u001b[0m\u001b[0mdecision_function\u001b[0m\u001b[1;33m(\u001b[0m\u001b[0mX\u001b[0m\u001b[1;33m)\u001b[0m\u001b[1;33m\u001b[0m\u001b[1;33m\u001b[0m\u001b[0m\n\u001b[0m\u001b[0;32m    310\u001b[0m         \u001b[1;32mif\u001b[0m \u001b[0mlen\u001b[0m\u001b[1;33m(\u001b[0m\u001b[0mscores\u001b[0m\u001b[1;33m.\u001b[0m\u001b[0mshape\u001b[0m\u001b[1;33m)\u001b[0m \u001b[1;33m==\u001b[0m \u001b[1;36m1\u001b[0m\u001b[1;33m:\u001b[0m\u001b[1;33m\u001b[0m\u001b[1;33m\u001b[0m\u001b[0m\n\u001b[0;32m    311\u001b[0m             \u001b[0mindices\u001b[0m \u001b[1;33m=\u001b[0m \u001b[1;33m(\u001b[0m\u001b[0mscores\u001b[0m \u001b[1;33m>\u001b[0m \u001b[1;36m0\u001b[0m\u001b[1;33m)\u001b[0m\u001b[1;33m.\u001b[0m\u001b[0mastype\u001b[0m\u001b[1;33m(\u001b[0m\u001b[0mint\u001b[0m\u001b[1;33m)\u001b[0m\u001b[1;33m\u001b[0m\u001b[1;33m\u001b[0m\u001b[0m\n",
      "\u001b[1;32m~\\anaconda3\\envs\\PythonAdv\\lib\\site-packages\\sklearn\\linear_model\\_base.py\u001b[0m in \u001b[0;36mdecision_function\u001b[1;34m(self, X)\u001b[0m\n\u001b[0;32m    280\u001b[0m             \u001b[1;32mclass\u001b[0m \u001b[0mwould\u001b[0m \u001b[0mbe\u001b[0m \u001b[0mpredicted\u001b[0m\u001b[1;33m.\u001b[0m\u001b[1;33m\u001b[0m\u001b[1;33m\u001b[0m\u001b[0m\n\u001b[0;32m    281\u001b[0m         \"\"\"\n\u001b[1;32m--> 282\u001b[1;33m         \u001b[0mcheck_is_fitted\u001b[0m\u001b[1;33m(\u001b[0m\u001b[0mself\u001b[0m\u001b[1;33m)\u001b[0m\u001b[1;33m\u001b[0m\u001b[1;33m\u001b[0m\u001b[0m\n\u001b[0m\u001b[0;32m    283\u001b[0m \u001b[1;33m\u001b[0m\u001b[0m\n\u001b[0;32m    284\u001b[0m         \u001b[0mX\u001b[0m \u001b[1;33m=\u001b[0m \u001b[0mcheck_array\u001b[0m\u001b[1;33m(\u001b[0m\u001b[0mX\u001b[0m\u001b[1;33m,\u001b[0m \u001b[0maccept_sparse\u001b[0m\u001b[1;33m=\u001b[0m\u001b[1;34m'csr'\u001b[0m\u001b[1;33m)\u001b[0m\u001b[1;33m\u001b[0m\u001b[1;33m\u001b[0m\u001b[0m\n",
      "\u001b[1;32m~\\anaconda3\\envs\\PythonAdv\\lib\\site-packages\\sklearn\\utils\\validation.py\u001b[0m in \u001b[0;36minner_f\u001b[1;34m(*args, **kwargs)\u001b[0m\n\u001b[0;32m     61\u001b[0m             \u001b[0mextra_args\u001b[0m \u001b[1;33m=\u001b[0m \u001b[0mlen\u001b[0m\u001b[1;33m(\u001b[0m\u001b[0margs\u001b[0m\u001b[1;33m)\u001b[0m \u001b[1;33m-\u001b[0m \u001b[0mlen\u001b[0m\u001b[1;33m(\u001b[0m\u001b[0mall_args\u001b[0m\u001b[1;33m)\u001b[0m\u001b[1;33m\u001b[0m\u001b[1;33m\u001b[0m\u001b[0m\n\u001b[0;32m     62\u001b[0m             \u001b[1;32mif\u001b[0m \u001b[0mextra_args\u001b[0m \u001b[1;33m<=\u001b[0m \u001b[1;36m0\u001b[0m\u001b[1;33m:\u001b[0m\u001b[1;33m\u001b[0m\u001b[1;33m\u001b[0m\u001b[0m\n\u001b[1;32m---> 63\u001b[1;33m                 \u001b[1;32mreturn\u001b[0m \u001b[0mf\u001b[0m\u001b[1;33m(\u001b[0m\u001b[1;33m*\u001b[0m\u001b[0margs\u001b[0m\u001b[1;33m,\u001b[0m \u001b[1;33m**\u001b[0m\u001b[0mkwargs\u001b[0m\u001b[1;33m)\u001b[0m\u001b[1;33m\u001b[0m\u001b[1;33m\u001b[0m\u001b[0m\n\u001b[0m\u001b[0;32m     64\u001b[0m \u001b[1;33m\u001b[0m\u001b[0m\n\u001b[0;32m     65\u001b[0m             \u001b[1;31m# extra_args > 0\u001b[0m\u001b[1;33m\u001b[0m\u001b[1;33m\u001b[0m\u001b[1;33m\u001b[0m\u001b[0m\n",
      "\u001b[1;32m~\\anaconda3\\envs\\PythonAdv\\lib\\site-packages\\sklearn\\utils\\validation.py\u001b[0m in \u001b[0;36mcheck_is_fitted\u001b[1;34m(estimator, attributes, msg, all_or_any)\u001b[0m\n\u001b[0;32m   1039\u001b[0m \u001b[1;33m\u001b[0m\u001b[0m\n\u001b[0;32m   1040\u001b[0m     \u001b[1;32mif\u001b[0m \u001b[1;32mnot\u001b[0m \u001b[0mattrs\u001b[0m\u001b[1;33m:\u001b[0m\u001b[1;33m\u001b[0m\u001b[1;33m\u001b[0m\u001b[0m\n\u001b[1;32m-> 1041\u001b[1;33m         \u001b[1;32mraise\u001b[0m \u001b[0mNotFittedError\u001b[0m\u001b[1;33m(\u001b[0m\u001b[0mmsg\u001b[0m \u001b[1;33m%\u001b[0m \u001b[1;33m{\u001b[0m\u001b[1;34m'name'\u001b[0m\u001b[1;33m:\u001b[0m \u001b[0mtype\u001b[0m\u001b[1;33m(\u001b[0m\u001b[0mestimator\u001b[0m\u001b[1;33m)\u001b[0m\u001b[1;33m.\u001b[0m\u001b[0m__name__\u001b[0m\u001b[1;33m}\u001b[0m\u001b[1;33m)\u001b[0m\u001b[1;33m\u001b[0m\u001b[1;33m\u001b[0m\u001b[0m\n\u001b[0m\u001b[0;32m   1042\u001b[0m \u001b[1;33m\u001b[0m\u001b[0m\n\u001b[0;32m   1043\u001b[0m \u001b[1;33m\u001b[0m\u001b[0m\n",
      "\u001b[1;31mNotFittedError\u001b[0m: This LogisticRegression instance is not fitted yet. Call 'fit' with appropriate arguments before using this estimator."
     ]
    }
   ],
   "source": [
    "predictions1 = classifier.predict(X1_test)\n",
    "print(f\"First 10 Predictions:   {predictions1[:10]}\")\n",
    "print(f\"First 10 Actual labels: {y1_test[:10].tolist()}\")"
   ]
  },
  {
   "cell_type": "code",
   "execution_count": null,
   "id": "47ec7c65",
   "metadata": {},
   "outputs": [],
   "source": [
    "pd.DataFrame({\"Prediction\": predictions1, \"Actual\": y1_test}).reset_index(drop=True)"
   ]
  },
  {
   "cell_type": "markdown",
   "id": "90707b4b",
   "metadata": {},
   "source": [
    "<h3 style=\"color:green\">Model 2</h3>\n",
    "<strong>Features: </strong>ProductionValue, TotalProduction, ImidaclopridLB, Stocks, PricePerLB\n",
    "<br>(top five from random forest model)"
   ]
  },
  {
   "cell_type": "code",
   "execution_count": null,
   "id": "bdc5557d",
   "metadata": {},
   "outputs": [],
   "source": [
    "X2 = raw_data[['ProductionValue', 'TotalProduction', 'ImidaclopridLB','Stocks','PricePerLB']]\n",
    "y2 = raw_data[\"GrowthOutcome\"]\n",
    "# X2.head()\n",
    "# y2.head()\n",
    "print(X2.shape, y2.shape)"
   ]
  },
  {
   "cell_type": "code",
   "execution_count": null,
   "id": "94e330f1",
   "metadata": {},
   "outputs": [],
   "source": [
    "X2_train, X2_test, y2_train, y2_test = train_test_split(X2, y2, random_state=1)"
   ]
  },
  {
   "cell_type": "code",
   "execution_count": null,
   "id": "2ba71f08",
   "metadata": {},
   "outputs": [],
   "source": [
    "classifier.fit(X2_train, y2_train)\n",
    "print(f\"Training Data Score: {classifier.score(X2_train, y2_train)}\")\n",
    "print(f\"Testing Data Score: {classifier.score(X2_test, y2_test)}\")"
   ]
  },
  {
   "cell_type": "code",
   "execution_count": null,
   "id": "e4ca5aa3",
   "metadata": {},
   "outputs": [],
   "source": [
    "predictions2 = classifier.predict(X2_test)\n",
    "print(f\"First 10 Predictions:   {predictions2[:10]}\")\n",
    "print(f\"First 10 Actual labels: {y2_test[:10].tolist()}\")"
   ]
  },
  {
   "cell_type": "code",
   "execution_count": null,
   "id": "60902ace",
   "metadata": {},
   "outputs": [],
   "source": [
    "pd.DataFrame({\"Prediction\": predictions2, \"Actual\": y2_test}).reset_index(drop=True)"
   ]
  },
  {
   "cell_type": "markdown",
   "id": "d3118df3",
   "metadata": {},
   "source": [
    "<h3 style=\"color:green\">Model 3</h3>\n",
    "<strong>Features: </strong> ClothianidinLB, ImidaclopridLB, ThiamethoxamLB, AcetamipridLB, ThiaclopridLB\n",
    "<br>(each neonic pesticide)"
   ]
  },
  {
   "cell_type": "code",
   "execution_count": null,
   "id": "b67aab6a",
   "metadata": {},
   "outputs": [],
   "source": [
    "X3 = raw_data[['ClothianidinLB', 'ImidaclopridLB', 'ThiamethoxamLB','AcetamipridLB','ThiaclopridLB']]\n",
    "y3 = raw_data[\"GrowthOutcome\"]\n",
    "# X3.head()\n",
    "# y3.head()\n",
    "print(X3.shape, y3.shape)"
   ]
  },
  {
   "cell_type": "code",
   "execution_count": null,
   "id": "a859285b",
   "metadata": {},
   "outputs": [],
   "source": [
    "X3_train, X3_test, y3_train, y3_test = train_test_split(X3, y3, random_state=1)\n",
    "classifier.fit(X3_train, y3_train)\n",
    "print(f\"Training Data Score: {classifier.score(X3_train, y3_train)}\")\n",
    "print(f\"Testing Data Score: {classifier.score(X3_test, y3_test)}\")"
   ]
  },
  {
   "cell_type": "code",
   "execution_count": null,
   "id": "7c6fb6d5",
   "metadata": {},
   "outputs": [],
   "source": [
    "predictions3 = classifier.predict(X3_test)\n",
    "print(f\"First 10 Predictions:   {predictions3[:10]}\")\n",
    "print(f\"First 10 Actual labels: {y3_test[:10].tolist()}\")"
   ]
  },
  {
   "cell_type": "code",
   "execution_count": null,
   "id": "b6cdf77e",
   "metadata": {},
   "outputs": [],
   "source": [
    "pd.DataFrame({\"Prediction\": predictions3, \"Actual\": y3_test}).reset_index(drop=True)"
   ]
  },
  {
   "cell_type": "markdown",
   "id": "3c5e0fde",
   "metadata": {},
   "source": [
    "<h3 style=\"color:green\">Model 4</h3>\n",
    "<strong>Features: </strong> CombinedNeonicLB"
   ]
  },
  {
   "cell_type": "code",
   "execution_count": null,
   "id": "4eed1db2",
   "metadata": {},
   "outputs": [],
   "source": [
    "X4 = raw_data[[\"CombinedNeonicLB\"]]\n",
    "y4 = raw_data[\"GrowthOutcome\"]\n",
    "# X4.head()\n",
    "# y4.head()\n",
    "print(X4.shape, y4.shape)"
   ]
  },
  {
   "cell_type": "code",
   "execution_count": null,
   "id": "4f966814",
   "metadata": {},
   "outputs": [],
   "source": [
    "X4_train, X4_test, y4_train, y4_test = train_test_split(X4, y4, random_state=1)\n",
    "classifier.fit(X4_train, y4_train)\n",
    "print(f\"Training Data Score: {classifier.score(X4_train, y4_train)}\")\n",
    "print(f\"Testing Data Score: {classifier.score(X4_test, y4_test)}\")"
   ]
  },
  {
   "cell_type": "code",
   "execution_count": null,
   "id": "6eb872bb",
   "metadata": {},
   "outputs": [],
   "source": [
    "predictions4 = classifier.predict(X4_test)\n",
    "print(f\"First 10 Predictions:   {predictions4[:10]}\")\n",
    "print(f\"First 10 Actual labels: {y4_test[:10].tolist()}\")"
   ]
  },
  {
   "cell_type": "code",
   "execution_count": null,
   "id": "b7b22a37",
   "metadata": {},
   "outputs": [],
   "source": [
    "pd.DataFrame({\"Prediction\": predictions4, \"Actual\": y4_test}).reset_index(drop=True)"
   ]
  },
  {
   "cell_type": "markdown",
   "id": "f7dbdbe6",
   "metadata": {},
   "source": [
    "<h3 style=\"color:green\">Model 5</h3>\n",
    "<strong>Features: </strong> ColonyCount, TotalProduction, YieldPerColony, PricePerLB, ProductionValue, Stocks\n",
    "<br> (excludes all neonic pesticide data)"
   ]
  },
  {
   "cell_type": "code",
   "execution_count": null,
   "id": "49eaa998",
   "metadata": {},
   "outputs": [],
   "source": [
    "X5 = raw_data[['ColonyCount', 'TotalProduction', 'YieldPerColony', 'PricePerLB', 'ProductionValue', 'Stocks']]\n",
    "y5 = raw_data[\"GrowthOutcome\"]\n",
    "# X5.head()\n",
    "# y5.head()\n",
    "print(X5.shape, y5.shape)"
   ]
  },
  {
   "cell_type": "code",
   "execution_count": null,
   "id": "04f0efb7",
   "metadata": {},
   "outputs": [],
   "source": [
    "X5_train, X5_test, y5_train, y5_test = train_test_split(X5, y5, random_state=1)\n",
    "classifier.fit(X5_train, y5_train)\n",
    "print(f\"Training Data Score: {classifier.score(X5_train, y5_train)}\")\n",
    "print(f\"Testing Data Score: {classifier.score(X5_test, y5_test)}\")"
   ]
  },
  {
   "cell_type": "code",
   "execution_count": null,
   "id": "101a7606",
   "metadata": {},
   "outputs": [],
   "source": [
    "predictions5 = classifier.predict(X5_test)\n",
    "print(f\"First 10 Predictions:   {predictions5[:10]}\")\n",
    "print(f\"First 10 Actual labels: {y5_test[:10].tolist()}\")"
   ]
  },
  {
   "cell_type": "code",
   "execution_count": null,
   "id": "f0e3c74d",
   "metadata": {},
   "outputs": [],
   "source": [
    "pd.DataFrame({\"Prediction\": predictions5, \"Actual\": y5_test}).reset_index(drop=True)"
   ]
  },
  {
   "cell_type": "markdown",
   "id": "73a20eb3",
   "metadata": {},
   "source": [
    "<h2 style= \"color:green\">Model Review</h2>\n",
    "<strong>Model 1:</strong><br>\n",
    "<ul> Training Data Score: 0.6044776119402985</ul>\n",
    "<ul>Testing Data Score: 0.6071428571428571</ul>\n",
    "<strong>Model 2</strong>\n",
    "<ul> Training Data Score: 0.5970149253731343</ul>\n",
    "<ul>Testing Data Score: 0.5580357142857143</ul>\n",
    "<strong>Model 3</strong>\n",
    "<ul> Training Data Score: 0.6447761194029851</ul>\n",
    "<ul>Testing Data Score: 0.6517857142857143</ul>\n",
    "<strong>Model 4</strong>\n",
    "<ul> Training Data Score: 0.6417910447761194</ul>\n",
    "<ul>Testing Data Score: 0.6651785714285714</ul>\n",
    "<strong>Model 5</strong>\n",
    "<ul> Training Data Score: 0.5850746268656717</ul>\n",
    "<ul>Testing Data Score: 0.5758928571428571</ul>"
   ]
  },
  {
   "cell_type": "code",
   "execution_count": null,
   "id": "da819197",
   "metadata": {},
   "outputs": [],
   "source": []
  }
 ],
 "metadata": {
  "kernelspec": {
   "display_name": "Python [conda env:PythonAdv] *",
   "language": "python",
   "name": "conda-env-PythonAdv-py"
  },
  "language_info": {
   "codemirror_mode": {
    "name": "ipython",
    "version": 3
   },
   "file_extension": ".py",
   "mimetype": "text/x-python",
   "name": "python",
   "nbconvert_exporter": "python",
   "pygments_lexer": "ipython3",
   "version": "3.6.13"
  }
 },
 "nbformat": 4,
 "nbformat_minor": 5
}
