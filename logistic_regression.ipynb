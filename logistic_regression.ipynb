{
 "cells": [
  {
   "cell_type": "code",
   "execution_count": 2,
   "id": "6f40518f",
   "metadata": {},
   "outputs": [],
   "source": [
    "import pandas as pd\n",
    "from sklearn.model_selection import train_test_split\n",
    "from sklearn.linear_model import LogisticRegression\n",
    "import os"
   ]
  },
  {
   "cell_type": "code",
   "execution_count": 3,
   "id": "93faeeb1",
   "metadata": {
    "scrolled": true
   },
   "outputs": [
    {
     "data": {
      "text/html": [
       "<div>\n",
       "<style scoped>\n",
       "    .dataframe tbody tr th:only-of-type {\n",
       "        vertical-align: middle;\n",
       "    }\n",
       "\n",
       "    .dataframe tbody tr th {\n",
       "        vertical-align: top;\n",
       "    }\n",
       "\n",
       "    .dataframe thead th {\n",
       "        text-align: right;\n",
       "    }\n",
       "</style>\n",
       "<table border=\"1\" class=\"dataframe\">\n",
       "  <thead>\n",
       "    <tr style=\"text-align: right;\">\n",
       "      <th></th>\n",
       "      <th>Region</th>\n",
       "      <th>FIPS</th>\n",
       "      <th>ColonyCount</th>\n",
       "      <th>ColonyGrowth</th>\n",
       "      <th>GrowthOutcome</th>\n",
       "      <th>TotalProduction</th>\n",
       "      <th>YieldPerColony</th>\n",
       "      <th>PricePerLB</th>\n",
       "      <th>ProductionValue</th>\n",
       "      <th>Stocks</th>\n",
       "      <th>YearRecorded</th>\n",
       "      <th>ClothianidinLB</th>\n",
       "      <th>ImidaclopridLB</th>\n",
       "      <th>ThiamethoxamLB</th>\n",
       "      <th>AcetamipridLB</th>\n",
       "      <th>ThiaclopridLB</th>\n",
       "      <th>CombinedNeonicLB</th>\n",
       "    </tr>\n",
       "  </thead>\n",
       "  <tbody>\n",
       "    <tr>\n",
       "      <th>0</th>\n",
       "      <td>3</td>\n",
       "      <td>1</td>\n",
       "      <td>15000</td>\n",
       "      <td>-6.25</td>\n",
       "      <td>0.0</td>\n",
       "      <td>960000</td>\n",
       "      <td>64</td>\n",
       "      <td>0.87</td>\n",
       "      <td>835000</td>\n",
       "      <td>96000</td>\n",
       "      <td>1996</td>\n",
       "      <td>0.00</td>\n",
       "      <td>819.24</td>\n",
       "      <td>0.00</td>\n",
       "      <td>0.0</td>\n",
       "      <td>0.0</td>\n",
       "      <td>819.24</td>\n",
       "    </tr>\n",
       "    <tr>\n",
       "      <th>1</th>\n",
       "      <td>3</td>\n",
       "      <td>1</td>\n",
       "      <td>14000</td>\n",
       "      <td>-6.67</td>\n",
       "      <td>0.0</td>\n",
       "      <td>924000</td>\n",
       "      <td>66</td>\n",
       "      <td>0.81</td>\n",
       "      <td>748000</td>\n",
       "      <td>92000</td>\n",
       "      <td>1997</td>\n",
       "      <td>0.00</td>\n",
       "      <td>14781.55</td>\n",
       "      <td>0.00</td>\n",
       "      <td>0.0</td>\n",
       "      <td>0.0</td>\n",
       "      <td>14781.55</td>\n",
       "    </tr>\n",
       "    <tr>\n",
       "      <th>2</th>\n",
       "      <td>3</td>\n",
       "      <td>1</td>\n",
       "      <td>16000</td>\n",
       "      <td>14.29</td>\n",
       "      <td>1.0</td>\n",
       "      <td>1136000</td>\n",
       "      <td>71</td>\n",
       "      <td>0.72</td>\n",
       "      <td>818000</td>\n",
       "      <td>159000</td>\n",
       "      <td>1998</td>\n",
       "      <td>0.00</td>\n",
       "      <td>4048.35</td>\n",
       "      <td>0.00</td>\n",
       "      <td>0.0</td>\n",
       "      <td>0.0</td>\n",
       "      <td>4048.35</td>\n",
       "    </tr>\n",
       "    <tr>\n",
       "      <th>3</th>\n",
       "      <td>3</td>\n",
       "      <td>1</td>\n",
       "      <td>17000</td>\n",
       "      <td>6.25</td>\n",
       "      <td>1.0</td>\n",
       "      <td>1156000</td>\n",
       "      <td>68</td>\n",
       "      <td>0.56</td>\n",
       "      <td>647000</td>\n",
       "      <td>185000</td>\n",
       "      <td>1999</td>\n",
       "      <td>0.00</td>\n",
       "      <td>2758.42</td>\n",
       "      <td>0.00</td>\n",
       "      <td>0.0</td>\n",
       "      <td>0.0</td>\n",
       "      <td>2758.42</td>\n",
       "    </tr>\n",
       "    <tr>\n",
       "      <th>4</th>\n",
       "      <td>3</td>\n",
       "      <td>1</td>\n",
       "      <td>16000</td>\n",
       "      <td>-5.88</td>\n",
       "      <td>0.0</td>\n",
       "      <td>1248000</td>\n",
       "      <td>78</td>\n",
       "      <td>0.59</td>\n",
       "      <td>736000</td>\n",
       "      <td>187000</td>\n",
       "      <td>2000</td>\n",
       "      <td>0.00</td>\n",
       "      <td>3305.17</td>\n",
       "      <td>0.00</td>\n",
       "      <td>0.0</td>\n",
       "      <td>0.0</td>\n",
       "      <td>3305.17</td>\n",
       "    </tr>\n",
       "    <tr>\n",
       "      <th>...</th>\n",
       "      <td>...</td>\n",
       "      <td>...</td>\n",
       "      <td>...</td>\n",
       "      <td>...</td>\n",
       "      <td>...</td>\n",
       "      <td>...</td>\n",
       "      <td>...</td>\n",
       "      <td>...</td>\n",
       "      <td>...</td>\n",
       "      <td>...</td>\n",
       "      <td>...</td>\n",
       "      <td>...</td>\n",
       "      <td>...</td>\n",
       "      <td>...</td>\n",
       "      <td>...</td>\n",
       "      <td>...</td>\n",
       "      <td>...</td>\n",
       "    </tr>\n",
       "    <tr>\n",
       "      <th>889</th>\n",
       "      <td>4</td>\n",
       "      <td>56</td>\n",
       "      <td>50000</td>\n",
       "      <td>42.86</td>\n",
       "      <td>1.0</td>\n",
       "      <td>2550000</td>\n",
       "      <td>51</td>\n",
       "      <td>1.87</td>\n",
       "      <td>4769000</td>\n",
       "      <td>459000</td>\n",
       "      <td>2012</td>\n",
       "      <td>2590.21</td>\n",
       "      <td>610.68</td>\n",
       "      <td>933.22</td>\n",
       "      <td>0.0</td>\n",
       "      <td>0.0</td>\n",
       "      <td>4134.11</td>\n",
       "    </tr>\n",
       "    <tr>\n",
       "      <th>890</th>\n",
       "      <td>4</td>\n",
       "      <td>56</td>\n",
       "      <td>47000</td>\n",
       "      <td>-6.00</td>\n",
       "      <td>0.0</td>\n",
       "      <td>3102000</td>\n",
       "      <td>66</td>\n",
       "      <td>2.11</td>\n",
       "      <td>6545000</td>\n",
       "      <td>558000</td>\n",
       "      <td>2013</td>\n",
       "      <td>1853.87</td>\n",
       "      <td>343.70</td>\n",
       "      <td>1160.07</td>\n",
       "      <td>0.0</td>\n",
       "      <td>0.0</td>\n",
       "      <td>3357.64</td>\n",
       "    </tr>\n",
       "    <tr>\n",
       "      <th>891</th>\n",
       "      <td>4</td>\n",
       "      <td>56</td>\n",
       "      <td>38000</td>\n",
       "      <td>-19.15</td>\n",
       "      <td>0.0</td>\n",
       "      <td>2318000</td>\n",
       "      <td>61</td>\n",
       "      <td>2.08</td>\n",
       "      <td>4821000</td>\n",
       "      <td>255000</td>\n",
       "      <td>2014</td>\n",
       "      <td>2782.23</td>\n",
       "      <td>569.23</td>\n",
       "      <td>1248.04</td>\n",
       "      <td>0.0</td>\n",
       "      <td>0.0</td>\n",
       "      <td>4599.50</td>\n",
       "    </tr>\n",
       "    <tr>\n",
       "      <th>892</th>\n",
       "      <td>4</td>\n",
       "      <td>56</td>\n",
       "      <td>38000</td>\n",
       "      <td>0.00</td>\n",
       "      <td>0.0</td>\n",
       "      <td>2926000</td>\n",
       "      <td>77</td>\n",
       "      <td>1.90</td>\n",
       "      <td>5559000</td>\n",
       "      <td>146000</td>\n",
       "      <td>2015</td>\n",
       "      <td>0.00</td>\n",
       "      <td>252.21</td>\n",
       "      <td>41.89</td>\n",
       "      <td>0.0</td>\n",
       "      <td>0.0</td>\n",
       "      <td>294.10</td>\n",
       "    </tr>\n",
       "    <tr>\n",
       "      <th>893</th>\n",
       "      <td>4</td>\n",
       "      <td>56</td>\n",
       "      <td>40000</td>\n",
       "      <td>5.26</td>\n",
       "      <td>1.0</td>\n",
       "      <td>2720000</td>\n",
       "      <td>68</td>\n",
       "      <td>1.78</td>\n",
       "      <td>4842000</td>\n",
       "      <td>190000</td>\n",
       "      <td>2016</td>\n",
       "      <td>0.00</td>\n",
       "      <td>60.63</td>\n",
       "      <td>20.72</td>\n",
       "      <td>0.0</td>\n",
       "      <td>0.0</td>\n",
       "      <td>81.35</td>\n",
       "    </tr>\n",
       "  </tbody>\n",
       "</table>\n",
       "<p>894 rows × 17 columns</p>\n",
       "</div>"
      ],
      "text/plain": [
       "     Region  FIPS  ColonyCount  ColonyGrowth  GrowthOutcome  TotalProduction  \\\n",
       "0         3     1        15000         -6.25            0.0           960000   \n",
       "1         3     1        14000         -6.67            0.0           924000   \n",
       "2         3     1        16000         14.29            1.0          1136000   \n",
       "3         3     1        17000          6.25            1.0          1156000   \n",
       "4         3     1        16000         -5.88            0.0          1248000   \n",
       "..      ...   ...          ...           ...            ...              ...   \n",
       "889       4    56        50000         42.86            1.0          2550000   \n",
       "890       4    56        47000         -6.00            0.0          3102000   \n",
       "891       4    56        38000        -19.15            0.0          2318000   \n",
       "892       4    56        38000          0.00            0.0          2926000   \n",
       "893       4    56        40000          5.26            1.0          2720000   \n",
       "\n",
       "     YieldPerColony  PricePerLB  ProductionValue  Stocks  YearRecorded  \\\n",
       "0                64        0.87           835000   96000          1996   \n",
       "1                66        0.81           748000   92000          1997   \n",
       "2                71        0.72           818000  159000          1998   \n",
       "3                68        0.56           647000  185000          1999   \n",
       "4                78        0.59           736000  187000          2000   \n",
       "..              ...         ...              ...     ...           ...   \n",
       "889              51        1.87          4769000  459000          2012   \n",
       "890              66        2.11          6545000  558000          2013   \n",
       "891              61        2.08          4821000  255000          2014   \n",
       "892              77        1.90          5559000  146000          2015   \n",
       "893              68        1.78          4842000  190000          2016   \n",
       "\n",
       "     ClothianidinLB  ImidaclopridLB  ThiamethoxamLB  AcetamipridLB  \\\n",
       "0              0.00          819.24            0.00            0.0   \n",
       "1              0.00        14781.55            0.00            0.0   \n",
       "2              0.00         4048.35            0.00            0.0   \n",
       "3              0.00         2758.42            0.00            0.0   \n",
       "4              0.00         3305.17            0.00            0.0   \n",
       "..              ...             ...             ...            ...   \n",
       "889         2590.21          610.68          933.22            0.0   \n",
       "890         1853.87          343.70         1160.07            0.0   \n",
       "891         2782.23          569.23         1248.04            0.0   \n",
       "892            0.00          252.21           41.89            0.0   \n",
       "893            0.00           60.63           20.72            0.0   \n",
       "\n",
       "     ThiaclopridLB  CombinedNeonicLB  \n",
       "0              0.0            819.24  \n",
       "1              0.0          14781.55  \n",
       "2              0.0           4048.35  \n",
       "3              0.0           2758.42  \n",
       "4              0.0           3305.17  \n",
       "..             ...               ...  \n",
       "889            0.0           4134.11  \n",
       "890            0.0           3357.64  \n",
       "891            0.0           4599.50  \n",
       "892            0.0            294.10  \n",
       "893            0.0             81.35  \n",
       "\n",
       "[894 rows x 17 columns]"
      ]
     },
     "execution_count": 3,
     "metadata": {},
     "output_type": "execute_result"
    }
   ],
   "source": [
    "raw_data = pd.read_csv(os.path.join(\"Resources\", \"Data\", \"growth_designation.csv\"))\n",
    "raw_data"
   ]
  },
  {
   "cell_type": "code",
   "execution_count": 4,
   "id": "6ee6c6fd",
   "metadata": {},
   "outputs": [
    {
     "data": {
      "text/plain": [
       "LogisticRegression()"
      ]
     },
     "execution_count": 4,
     "metadata": {},
     "output_type": "execute_result"
    }
   ],
   "source": [
    "classifier = LogisticRegression()\n",
    "classifier"
   ]
  },
  {
   "cell_type": "code",
   "execution_count": 13,
   "id": "ef3e45c0",
   "metadata": {},
   "outputs": [
    {
     "name": "stdout",
     "output_type": "stream",
     "text": [
      "ColonyCount: 2000, 510000\n",
      "TotalProduction: 84000, 46410000\n",
      "YieldPerColony: 19, 128\n",
      "PricePerLB: 0.47, 7.09\n",
      "ProductionValue: 106000, 83859000\n",
      "Stocks: 8000, 13800000\n",
      "ClothianidinLB: 0.0, 613984.75\n",
      "ImidaclopridLB: 0.0, 331948.48\n",
      "ThiamethoxamLB: 0.0, 142935.83\n",
      "AcetamipridLB: 0.0, 80425.29\n",
      "ThiaclopridLB: 0.0, 9420.79\n",
      "CombinedNeonicLB: 0.0, 888488.49\n"
     ]
    }
   ],
   "source": [
    "print(f\"ColonyCount: {raw_data['ColonyCount'].min()}, {raw_data['ColonyCount'].max()}\")\n",
    "print(f\"TotalProduction: {raw_data['TotalProduction'].min()}, {raw_data['TotalProduction'].max()}\")\n",
    "print(f\"YieldPerColony: {raw_data['YieldPerColony'].min()}, {raw_data['YieldPerColony'].max()}\")\n",
    "print(f\"PricePerLB: {raw_data['PricePerLB'].min()}, {raw_data['PricePerLB'].max()}\")\n",
    "print(f\"ProductionValue: {raw_data['ProductionValue'].min()}, {raw_data['ProductionValue'].max()}\")\n",
    "print(f\"Stocks: {raw_data['Stocks'].min()}, {raw_data['Stocks'].max()}\")\n",
    "print(f\"ClothianidinLB: {raw_data['ClothianidinLB'].min()}, {raw_data['ClothianidinLB'].max()}\")\n",
    "print(f\"ImidaclopridLB: {raw_data['ImidaclopridLB'].min()}, {raw_data['ImidaclopridLB'].max()}\")\n",
    "print(f\"ThiamethoxamLB: {raw_data['ThiamethoxamLB'].min()}, {raw_data['ThiamethoxamLB'].max()}\")\n",
    "print(f\"AcetamipridLB: {raw_data['AcetamipridLB'].min()}, {raw_data['AcetamipridLB'].max()}\")\n",
    "print(f\"ThiaclopridLB: {raw_data['ThiaclopridLB'].min()}, {raw_data['ThiaclopridLB'].max()}\")\n",
    "print(f\"CombinedNeonicLB: {raw_data['CombinedNeonicLB'].min()}, {raw_data['CombinedNeonicLB'].max()}\")"
   ]
  },
  {
   "cell_type": "markdown",
   "id": "e83dbbe6",
   "metadata": {},
   "source": [
    "<h3 style=\"color:green\">Model 1</h3>\n",
    "<strong>Features: </strong>All columns"
   ]
  },
  {
   "cell_type": "code",
   "execution_count": 6,
   "id": "ff1adbd7",
   "metadata": {},
   "outputs": [
    {
     "name": "stdout",
     "output_type": "stream",
     "text": [
      "(894, 12) (894,)\n"
     ]
    },
    {
     "data": {
      "text/html": [
       "<div>\n",
       "<style scoped>\n",
       "    .dataframe tbody tr th:only-of-type {\n",
       "        vertical-align: middle;\n",
       "    }\n",
       "\n",
       "    .dataframe tbody tr th {\n",
       "        vertical-align: top;\n",
       "    }\n",
       "\n",
       "    .dataframe thead th {\n",
       "        text-align: right;\n",
       "    }\n",
       "</style>\n",
       "<table border=\"1\" class=\"dataframe\">\n",
       "  <thead>\n",
       "    <tr style=\"text-align: right;\">\n",
       "      <th></th>\n",
       "      <th>ColonyCount</th>\n",
       "      <th>TotalProduction</th>\n",
       "      <th>YieldPerColony</th>\n",
       "      <th>PricePerLB</th>\n",
       "      <th>ProductionValue</th>\n",
       "      <th>Stocks</th>\n",
       "      <th>ClothianidinLB</th>\n",
       "      <th>ImidaclopridLB</th>\n",
       "      <th>ThiamethoxamLB</th>\n",
       "      <th>AcetamipridLB</th>\n",
       "      <th>ThiaclopridLB</th>\n",
       "      <th>CombinedNeonicLB</th>\n",
       "    </tr>\n",
       "  </thead>\n",
       "  <tbody>\n",
       "    <tr>\n",
       "      <th>0</th>\n",
       "      <td>15000</td>\n",
       "      <td>960000</td>\n",
       "      <td>64</td>\n",
       "      <td>0.87</td>\n",
       "      <td>835000</td>\n",
       "      <td>96000</td>\n",
       "      <td>0.0</td>\n",
       "      <td>819.24</td>\n",
       "      <td>0.0</td>\n",
       "      <td>0.0</td>\n",
       "      <td>0.0</td>\n",
       "      <td>819.24</td>\n",
       "    </tr>\n",
       "    <tr>\n",
       "      <th>1</th>\n",
       "      <td>14000</td>\n",
       "      <td>924000</td>\n",
       "      <td>66</td>\n",
       "      <td>0.81</td>\n",
       "      <td>748000</td>\n",
       "      <td>92000</td>\n",
       "      <td>0.0</td>\n",
       "      <td>14781.55</td>\n",
       "      <td>0.0</td>\n",
       "      <td>0.0</td>\n",
       "      <td>0.0</td>\n",
       "      <td>14781.55</td>\n",
       "    </tr>\n",
       "    <tr>\n",
       "      <th>2</th>\n",
       "      <td>16000</td>\n",
       "      <td>1136000</td>\n",
       "      <td>71</td>\n",
       "      <td>0.72</td>\n",
       "      <td>818000</td>\n",
       "      <td>159000</td>\n",
       "      <td>0.0</td>\n",
       "      <td>4048.35</td>\n",
       "      <td>0.0</td>\n",
       "      <td>0.0</td>\n",
       "      <td>0.0</td>\n",
       "      <td>4048.35</td>\n",
       "    </tr>\n",
       "    <tr>\n",
       "      <th>3</th>\n",
       "      <td>17000</td>\n",
       "      <td>1156000</td>\n",
       "      <td>68</td>\n",
       "      <td>0.56</td>\n",
       "      <td>647000</td>\n",
       "      <td>185000</td>\n",
       "      <td>0.0</td>\n",
       "      <td>2758.42</td>\n",
       "      <td>0.0</td>\n",
       "      <td>0.0</td>\n",
       "      <td>0.0</td>\n",
       "      <td>2758.42</td>\n",
       "    </tr>\n",
       "    <tr>\n",
       "      <th>4</th>\n",
       "      <td>16000</td>\n",
       "      <td>1248000</td>\n",
       "      <td>78</td>\n",
       "      <td>0.59</td>\n",
       "      <td>736000</td>\n",
       "      <td>187000</td>\n",
       "      <td>0.0</td>\n",
       "      <td>3305.17</td>\n",
       "      <td>0.0</td>\n",
       "      <td>0.0</td>\n",
       "      <td>0.0</td>\n",
       "      <td>3305.17</td>\n",
       "    </tr>\n",
       "  </tbody>\n",
       "</table>\n",
       "</div>"
      ],
      "text/plain": [
       "   ColonyCount  TotalProduction  YieldPerColony  PricePerLB  ProductionValue  \\\n",
       "0        15000           960000              64        0.87           835000   \n",
       "1        14000           924000              66        0.81           748000   \n",
       "2        16000          1136000              71        0.72           818000   \n",
       "3        17000          1156000              68        0.56           647000   \n",
       "4        16000          1248000              78        0.59           736000   \n",
       "\n",
       "   Stocks  ClothianidinLB  ImidaclopridLB  ThiamethoxamLB  AcetamipridLB  \\\n",
       "0   96000             0.0          819.24             0.0            0.0   \n",
       "1   92000             0.0        14781.55             0.0            0.0   \n",
       "2  159000             0.0         4048.35             0.0            0.0   \n",
       "3  185000             0.0         2758.42             0.0            0.0   \n",
       "4  187000             0.0         3305.17             0.0            0.0   \n",
       "\n",
       "   ThiaclopridLB  CombinedNeonicLB  \n",
       "0            0.0            819.24  \n",
       "1            0.0          14781.55  \n",
       "2            0.0           4048.35  \n",
       "3            0.0           2758.42  \n",
       "4            0.0           3305.17  "
      ]
     },
     "execution_count": 6,
     "metadata": {},
     "output_type": "execute_result"
    }
   ],
   "source": [
    "X1 = raw_data.drop(columns=['GrowthOutcome', 'ColonyGrowth', 'YearRecorded','FIPS','Region'])\n",
    "y1 = raw_data[\"GrowthOutcome\"]\n",
    "print(X1.shape, y1.shape)\n",
    "X1.head()"
   ]
  },
  {
   "cell_type": "code",
   "execution_count": 6,
   "id": "6b376f3d",
   "metadata": {},
   "outputs": [],
   "source": [
    "X1_train, X1_test, y1_train, y1_test = train_test_split(X1, y1, random_state=1)"
   ]
  },
  {
   "cell_type": "code",
   "execution_count": 7,
   "id": "33f9a263",
   "metadata": {},
   "outputs": [
    {
     "name": "stderr",
     "output_type": "stream",
     "text": [
      "C:\\Users\\Lauren\\anaconda3\\envs\\PythonAdv\\lib\\site-packages\\sklearn\\linear_model\\_logistic.py:765: ConvergenceWarning: lbfgs failed to converge (status=1):\n",
      "STOP: TOTAL NO. of ITERATIONS REACHED LIMIT.\n",
      "\n",
      "Increase the number of iterations (max_iter) or scale the data as shown in:\n",
      "    https://scikit-learn.org/stable/modules/preprocessing.html\n",
      "Please also refer to the documentation for alternative solver options:\n",
      "    https://scikit-learn.org/stable/modules/linear_model.html#logistic-regression\n",
      "  extra_warning_msg=_LOGISTIC_SOLVER_CONVERGENCE_MSG)\n"
     ]
    },
    {
     "data": {
      "text/plain": [
       "LogisticRegression()"
      ]
     },
     "execution_count": 7,
     "metadata": {},
     "output_type": "execute_result"
    }
   ],
   "source": [
    "classifier.fit(X1_train, y1_train)"
   ]
  },
  {
   "cell_type": "code",
   "execution_count": 8,
   "id": "01ae10b0",
   "metadata": {},
   "outputs": [
    {
     "name": "stdout",
     "output_type": "stream",
     "text": [
      "Training Data Score: 0.6044776119402985\n",
      "Testing Data Score: 0.6071428571428571\n"
     ]
    }
   ],
   "source": [
    "print(f\"Training Data Score: {classifier.score(X1_train, y1_train)}\")\n",
    "print(f\"Testing Data Score: {classifier.score(X1_test, y1_test)}\")"
   ]
  },
  {
   "cell_type": "code",
   "execution_count": 9,
   "id": "92cc9e12",
   "metadata": {},
   "outputs": [
    {
     "name": "stdout",
     "output_type": "stream",
     "text": [
      "First 10 Predictions:   [0. 0. 0. 0. 0. 0. 0. 0. 1. 0.]\n",
      "First 10 Actual labels: [0.0, 0.0, 0.0, 1.0, 0.0, 0.0, 1.0, 1.0, 0.0, 0.0]\n"
     ]
    }
   ],
   "source": [
    "predictions1 = classifier.predict(X1_test)\n",
    "print(f\"First 10 Predictions:   {predictions1[:10]}\")\n",
    "print(f\"First 10 Actual labels: {y1_test[:10].tolist()}\")"
   ]
  },
  {
   "cell_type": "code",
   "execution_count": 10,
   "id": "47ec7c65",
   "metadata": {},
   "outputs": [
    {
     "data": {
      "text/html": [
       "<div>\n",
       "<style scoped>\n",
       "    .dataframe tbody tr th:only-of-type {\n",
       "        vertical-align: middle;\n",
       "    }\n",
       "\n",
       "    .dataframe tbody tr th {\n",
       "        vertical-align: top;\n",
       "    }\n",
       "\n",
       "    .dataframe thead th {\n",
       "        text-align: right;\n",
       "    }\n",
       "</style>\n",
       "<table border=\"1\" class=\"dataframe\">\n",
       "  <thead>\n",
       "    <tr style=\"text-align: right;\">\n",
       "      <th></th>\n",
       "      <th>Prediction</th>\n",
       "      <th>Actual</th>\n",
       "    </tr>\n",
       "  </thead>\n",
       "  <tbody>\n",
       "    <tr>\n",
       "      <th>0</th>\n",
       "      <td>0.0</td>\n",
       "      <td>0.0</td>\n",
       "    </tr>\n",
       "    <tr>\n",
       "      <th>1</th>\n",
       "      <td>0.0</td>\n",
       "      <td>0.0</td>\n",
       "    </tr>\n",
       "    <tr>\n",
       "      <th>2</th>\n",
       "      <td>0.0</td>\n",
       "      <td>0.0</td>\n",
       "    </tr>\n",
       "    <tr>\n",
       "      <th>3</th>\n",
       "      <td>0.0</td>\n",
       "      <td>1.0</td>\n",
       "    </tr>\n",
       "    <tr>\n",
       "      <th>4</th>\n",
       "      <td>0.0</td>\n",
       "      <td>0.0</td>\n",
       "    </tr>\n",
       "    <tr>\n",
       "      <th>...</th>\n",
       "      <td>...</td>\n",
       "      <td>...</td>\n",
       "    </tr>\n",
       "    <tr>\n",
       "      <th>219</th>\n",
       "      <td>0.0</td>\n",
       "      <td>0.0</td>\n",
       "    </tr>\n",
       "    <tr>\n",
       "      <th>220</th>\n",
       "      <td>1.0</td>\n",
       "      <td>0.0</td>\n",
       "    </tr>\n",
       "    <tr>\n",
       "      <th>221</th>\n",
       "      <td>0.0</td>\n",
       "      <td>0.0</td>\n",
       "    </tr>\n",
       "    <tr>\n",
       "      <th>222</th>\n",
       "      <td>1.0</td>\n",
       "      <td>1.0</td>\n",
       "    </tr>\n",
       "    <tr>\n",
       "      <th>223</th>\n",
       "      <td>1.0</td>\n",
       "      <td>0.0</td>\n",
       "    </tr>\n",
       "  </tbody>\n",
       "</table>\n",
       "<p>224 rows × 2 columns</p>\n",
       "</div>"
      ],
      "text/plain": [
       "     Prediction  Actual\n",
       "0           0.0     0.0\n",
       "1           0.0     0.0\n",
       "2           0.0     0.0\n",
       "3           0.0     1.0\n",
       "4           0.0     0.0\n",
       "..          ...     ...\n",
       "219         0.0     0.0\n",
       "220         1.0     0.0\n",
       "221         0.0     0.0\n",
       "222         1.0     1.0\n",
       "223         1.0     0.0\n",
       "\n",
       "[224 rows x 2 columns]"
      ]
     },
     "execution_count": 10,
     "metadata": {},
     "output_type": "execute_result"
    }
   ],
   "source": [
    "pd.DataFrame({\"Prediction\": predictions1, \"Actual\": y1_test}).reset_index(drop=True)"
   ]
  },
  {
   "cell_type": "markdown",
   "id": "90707b4b",
   "metadata": {},
   "source": [
    "<h3 style=\"color:green\">Model 2</h3>\n",
    "<strong>Features: </strong>ProductionValue, TotalProduction, ImidaclopridLB, Stocks, PricePerLB\n",
    "<br>(top five from random forest model)"
   ]
  },
  {
   "cell_type": "code",
   "execution_count": 11,
   "id": "bdc5557d",
   "metadata": {},
   "outputs": [
    {
     "name": "stdout",
     "output_type": "stream",
     "text": [
      "(894, 5) (894,)\n"
     ]
    }
   ],
   "source": [
    "X2 = raw_data[['ProductionValue', 'TotalProduction', 'ImidaclopridLB','Stocks','PricePerLB']]\n",
    "y2 = raw_data[\"GrowthOutcome\"]\n",
    "# X2.head()\n",
    "# y2.head()\n",
    "print(X2.shape, y2.shape)"
   ]
  },
  {
   "cell_type": "code",
   "execution_count": 12,
   "id": "94e330f1",
   "metadata": {},
   "outputs": [],
   "source": [
    "X2_train, X2_test, y2_train, y2_test = train_test_split(X2, y2, random_state=1)"
   ]
  },
  {
   "cell_type": "code",
   "execution_count": 13,
   "id": "2ba71f08",
   "metadata": {},
   "outputs": [
    {
     "name": "stdout",
     "output_type": "stream",
     "text": [
      "Training Data Score: 0.5970149253731343\n",
      "Testing Data Score: 0.5580357142857143\n"
     ]
    }
   ],
   "source": [
    "classifier.fit(X2_train, y2_train)\n",
    "print(f\"Training Data Score: {classifier.score(X2_train, y2_train)}\")\n",
    "print(f\"Testing Data Score: {classifier.score(X2_test, y2_test)}\")"
   ]
  },
  {
   "cell_type": "code",
   "execution_count": 14,
   "id": "e4ca5aa3",
   "metadata": {},
   "outputs": [
    {
     "name": "stdout",
     "output_type": "stream",
     "text": [
      "First 10 Predictions:   [0. 0. 0. 0. 0. 1. 0. 1. 0. 0.]\n",
      "First 10 Actual labels: [0.0, 0.0, 0.0, 1.0, 0.0, 0.0, 1.0, 1.0, 0.0, 0.0]\n"
     ]
    }
   ],
   "source": [
    "predictions2 = classifier.predict(X2_test)\n",
    "print(f\"First 10 Predictions:   {predictions2[:10]}\")\n",
    "print(f\"First 10 Actual labels: {y2_test[:10].tolist()}\")"
   ]
  },
  {
   "cell_type": "code",
   "execution_count": 15,
   "id": "60902ace",
   "metadata": {},
   "outputs": [
    {
     "data": {
      "text/html": [
       "<div>\n",
       "<style scoped>\n",
       "    .dataframe tbody tr th:only-of-type {\n",
       "        vertical-align: middle;\n",
       "    }\n",
       "\n",
       "    .dataframe tbody tr th {\n",
       "        vertical-align: top;\n",
       "    }\n",
       "\n",
       "    .dataframe thead th {\n",
       "        text-align: right;\n",
       "    }\n",
       "</style>\n",
       "<table border=\"1\" class=\"dataframe\">\n",
       "  <thead>\n",
       "    <tr style=\"text-align: right;\">\n",
       "      <th></th>\n",
       "      <th>Prediction</th>\n",
       "      <th>Actual</th>\n",
       "    </tr>\n",
       "  </thead>\n",
       "  <tbody>\n",
       "    <tr>\n",
       "      <th>0</th>\n",
       "      <td>0.0</td>\n",
       "      <td>0.0</td>\n",
       "    </tr>\n",
       "    <tr>\n",
       "      <th>1</th>\n",
       "      <td>0.0</td>\n",
       "      <td>0.0</td>\n",
       "    </tr>\n",
       "    <tr>\n",
       "      <th>2</th>\n",
       "      <td>0.0</td>\n",
       "      <td>0.0</td>\n",
       "    </tr>\n",
       "    <tr>\n",
       "      <th>3</th>\n",
       "      <td>0.0</td>\n",
       "      <td>1.0</td>\n",
       "    </tr>\n",
       "    <tr>\n",
       "      <th>4</th>\n",
       "      <td>0.0</td>\n",
       "      <td>0.0</td>\n",
       "    </tr>\n",
       "    <tr>\n",
       "      <th>...</th>\n",
       "      <td>...</td>\n",
       "      <td>...</td>\n",
       "    </tr>\n",
       "    <tr>\n",
       "      <th>219</th>\n",
       "      <td>0.0</td>\n",
       "      <td>0.0</td>\n",
       "    </tr>\n",
       "    <tr>\n",
       "      <th>220</th>\n",
       "      <td>1.0</td>\n",
       "      <td>0.0</td>\n",
       "    </tr>\n",
       "    <tr>\n",
       "      <th>221</th>\n",
       "      <td>0.0</td>\n",
       "      <td>0.0</td>\n",
       "    </tr>\n",
       "    <tr>\n",
       "      <th>222</th>\n",
       "      <td>0.0</td>\n",
       "      <td>1.0</td>\n",
       "    </tr>\n",
       "    <tr>\n",
       "      <th>223</th>\n",
       "      <td>1.0</td>\n",
       "      <td>0.0</td>\n",
       "    </tr>\n",
       "  </tbody>\n",
       "</table>\n",
       "<p>224 rows × 2 columns</p>\n",
       "</div>"
      ],
      "text/plain": [
       "     Prediction  Actual\n",
       "0           0.0     0.0\n",
       "1           0.0     0.0\n",
       "2           0.0     0.0\n",
       "3           0.0     1.0\n",
       "4           0.0     0.0\n",
       "..          ...     ...\n",
       "219         0.0     0.0\n",
       "220         1.0     0.0\n",
       "221         0.0     0.0\n",
       "222         0.0     1.0\n",
       "223         1.0     0.0\n",
       "\n",
       "[224 rows x 2 columns]"
      ]
     },
     "execution_count": 15,
     "metadata": {},
     "output_type": "execute_result"
    }
   ],
   "source": [
    "pd.DataFrame({\"Prediction\": predictions2, \"Actual\": y2_test}).reset_index(drop=True)"
   ]
  },
  {
   "cell_type": "markdown",
   "id": "d3118df3",
   "metadata": {},
   "source": [
    "<h3 style=\"color:green\">Model 3</h3>\n",
    "<strong>Features: </strong> ClothianidinLB, ImidaclopridLB, ThiamethoxamLB, AcetamipridLB, ThiaclopridLB\n",
    "<br>(each neonic pesticide)"
   ]
  },
  {
   "cell_type": "code",
   "execution_count": 16,
   "id": "b67aab6a",
   "metadata": {},
   "outputs": [
    {
     "name": "stdout",
     "output_type": "stream",
     "text": [
      "(894, 5) (894,)\n"
     ]
    }
   ],
   "source": [
    "X3 = raw_data[['ClothianidinLB', 'ImidaclopridLB', 'ThiamethoxamLB','AcetamipridLB','ThiaclopridLB']]\n",
    "y3 = raw_data[\"GrowthOutcome\"]\n",
    "# X3.head()\n",
    "# y3.head()\n",
    "print(X3.shape, y3.shape)"
   ]
  },
  {
   "cell_type": "code",
   "execution_count": 17,
   "id": "a859285b",
   "metadata": {},
   "outputs": [
    {
     "name": "stdout",
     "output_type": "stream",
     "text": [
      "Training Data Score: 0.6447761194029851\n",
      "Testing Data Score: 0.6517857142857143\n"
     ]
    }
   ],
   "source": [
    "X3_train, X3_test, y3_train, y3_test = train_test_split(X3, y3, random_state=1)\n",
    "classifier.fit(X3_train, y3_train)\n",
    "print(f\"Training Data Score: {classifier.score(X3_train, y3_train)}\")\n",
    "print(f\"Testing Data Score: {classifier.score(X3_test, y3_test)}\")"
   ]
  },
  {
   "cell_type": "code",
   "execution_count": 18,
   "id": "7c6fb6d5",
   "metadata": {},
   "outputs": [
    {
     "name": "stdout",
     "output_type": "stream",
     "text": [
      "First 10 Predictions:   [0. 0. 0. 0. 0. 0. 0. 0. 0. 0.]\n",
      "First 10 Actual labels: [0.0, 0.0, 0.0, 1.0, 0.0, 0.0, 1.0, 1.0, 0.0, 0.0]\n"
     ]
    }
   ],
   "source": [
    "predictions3 = classifier.predict(X3_test)\n",
    "print(f\"First 10 Predictions:   {predictions3[:10]}\")\n",
    "print(f\"First 10 Actual labels: {y3_test[:10].tolist()}\")"
   ]
  },
  {
   "cell_type": "code",
   "execution_count": 19,
   "id": "b6cdf77e",
   "metadata": {},
   "outputs": [
    {
     "data": {
      "text/html": [
       "<div>\n",
       "<style scoped>\n",
       "    .dataframe tbody tr th:only-of-type {\n",
       "        vertical-align: middle;\n",
       "    }\n",
       "\n",
       "    .dataframe tbody tr th {\n",
       "        vertical-align: top;\n",
       "    }\n",
       "\n",
       "    .dataframe thead th {\n",
       "        text-align: right;\n",
       "    }\n",
       "</style>\n",
       "<table border=\"1\" class=\"dataframe\">\n",
       "  <thead>\n",
       "    <tr style=\"text-align: right;\">\n",
       "      <th></th>\n",
       "      <th>Prediction</th>\n",
       "      <th>Actual</th>\n",
       "    </tr>\n",
       "  </thead>\n",
       "  <tbody>\n",
       "    <tr>\n",
       "      <th>0</th>\n",
       "      <td>0.0</td>\n",
       "      <td>0.0</td>\n",
       "    </tr>\n",
       "    <tr>\n",
       "      <th>1</th>\n",
       "      <td>0.0</td>\n",
       "      <td>0.0</td>\n",
       "    </tr>\n",
       "    <tr>\n",
       "      <th>2</th>\n",
       "      <td>0.0</td>\n",
       "      <td>0.0</td>\n",
       "    </tr>\n",
       "    <tr>\n",
       "      <th>3</th>\n",
       "      <td>0.0</td>\n",
       "      <td>1.0</td>\n",
       "    </tr>\n",
       "    <tr>\n",
       "      <th>4</th>\n",
       "      <td>0.0</td>\n",
       "      <td>0.0</td>\n",
       "    </tr>\n",
       "    <tr>\n",
       "      <th>...</th>\n",
       "      <td>...</td>\n",
       "      <td>...</td>\n",
       "    </tr>\n",
       "    <tr>\n",
       "      <th>219</th>\n",
       "      <td>0.0</td>\n",
       "      <td>0.0</td>\n",
       "    </tr>\n",
       "    <tr>\n",
       "      <th>220</th>\n",
       "      <td>0.0</td>\n",
       "      <td>0.0</td>\n",
       "    </tr>\n",
       "    <tr>\n",
       "      <th>221</th>\n",
       "      <td>0.0</td>\n",
       "      <td>0.0</td>\n",
       "    </tr>\n",
       "    <tr>\n",
       "      <th>222</th>\n",
       "      <td>0.0</td>\n",
       "      <td>1.0</td>\n",
       "    </tr>\n",
       "    <tr>\n",
       "      <th>223</th>\n",
       "      <td>0.0</td>\n",
       "      <td>0.0</td>\n",
       "    </tr>\n",
       "  </tbody>\n",
       "</table>\n",
       "<p>224 rows × 2 columns</p>\n",
       "</div>"
      ],
      "text/plain": [
       "     Prediction  Actual\n",
       "0           0.0     0.0\n",
       "1           0.0     0.0\n",
       "2           0.0     0.0\n",
       "3           0.0     1.0\n",
       "4           0.0     0.0\n",
       "..          ...     ...\n",
       "219         0.0     0.0\n",
       "220         0.0     0.0\n",
       "221         0.0     0.0\n",
       "222         0.0     1.0\n",
       "223         0.0     0.0\n",
       "\n",
       "[224 rows x 2 columns]"
      ]
     },
     "execution_count": 19,
     "metadata": {},
     "output_type": "execute_result"
    }
   ],
   "source": [
    "pd.DataFrame({\"Prediction\": predictions3, \"Actual\": y3_test}).reset_index(drop=True)"
   ]
  },
  {
   "cell_type": "markdown",
   "id": "3c5e0fde",
   "metadata": {},
   "source": [
    "<h3 style=\"color:green\">Model 4</h3>\n",
    "<strong>Features: </strong> CombinedNeonicLB"
   ]
  },
  {
   "cell_type": "code",
   "execution_count": 22,
   "id": "4eed1db2",
   "metadata": {},
   "outputs": [
    {
     "name": "stdout",
     "output_type": "stream",
     "text": [
      "(894, 1) (894,)\n"
     ]
    }
   ],
   "source": [
    "X4 = raw_data[[\"CombinedNeonicLB\"]]\n",
    "y4 = raw_data[\"GrowthOutcome\"]\n",
    "# X4.head()\n",
    "# y4.head()\n",
    "print(X4.shape, y4.shape)"
   ]
  },
  {
   "cell_type": "code",
   "execution_count": 23,
   "id": "4f966814",
   "metadata": {},
   "outputs": [
    {
     "name": "stdout",
     "output_type": "stream",
     "text": [
      "Training Data Score: 0.6417910447761194\n",
      "Testing Data Score: 0.6651785714285714\n"
     ]
    }
   ],
   "source": [
    "X4_train, X4_test, y4_train, y4_test = train_test_split(X4, y4, random_state=1)\n",
    "classifier.fit(X4_train, y4_train)\n",
    "print(f\"Training Data Score: {classifier.score(X4_train, y4_train)}\")\n",
    "print(f\"Testing Data Score: {classifier.score(X4_test, y4_test)}\")"
   ]
  },
  {
   "cell_type": "code",
   "execution_count": 24,
   "id": "6eb872bb",
   "metadata": {},
   "outputs": [
    {
     "name": "stdout",
     "output_type": "stream",
     "text": [
      "First 10 Predictions:   [0. 0. 0. 0. 0. 0. 0. 0. 0. 0.]\n",
      "First 10 Actual labels: [0.0, 0.0, 0.0, 1.0, 0.0, 0.0, 1.0, 1.0, 0.0, 0.0]\n"
     ]
    }
   ],
   "source": [
    "predictions4 = classifier.predict(X4_test)\n",
    "print(f\"First 10 Predictions:   {predictions4[:10]}\")\n",
    "print(f\"First 10 Actual labels: {y4_test[:10].tolist()}\")"
   ]
  },
  {
   "cell_type": "code",
   "execution_count": 25,
   "id": "b7b22a37",
   "metadata": {},
   "outputs": [
    {
     "data": {
      "text/html": [
       "<div>\n",
       "<style scoped>\n",
       "    .dataframe tbody tr th:only-of-type {\n",
       "        vertical-align: middle;\n",
       "    }\n",
       "\n",
       "    .dataframe tbody tr th {\n",
       "        vertical-align: top;\n",
       "    }\n",
       "\n",
       "    .dataframe thead th {\n",
       "        text-align: right;\n",
       "    }\n",
       "</style>\n",
       "<table border=\"1\" class=\"dataframe\">\n",
       "  <thead>\n",
       "    <tr style=\"text-align: right;\">\n",
       "      <th></th>\n",
       "      <th>Prediction</th>\n",
       "      <th>Actual</th>\n",
       "    </tr>\n",
       "  </thead>\n",
       "  <tbody>\n",
       "    <tr>\n",
       "      <th>0</th>\n",
       "      <td>0.0</td>\n",
       "      <td>0.0</td>\n",
       "    </tr>\n",
       "    <tr>\n",
       "      <th>1</th>\n",
       "      <td>0.0</td>\n",
       "      <td>0.0</td>\n",
       "    </tr>\n",
       "    <tr>\n",
       "      <th>2</th>\n",
       "      <td>0.0</td>\n",
       "      <td>0.0</td>\n",
       "    </tr>\n",
       "    <tr>\n",
       "      <th>3</th>\n",
       "      <td>0.0</td>\n",
       "      <td>1.0</td>\n",
       "    </tr>\n",
       "    <tr>\n",
       "      <th>4</th>\n",
       "      <td>0.0</td>\n",
       "      <td>0.0</td>\n",
       "    </tr>\n",
       "    <tr>\n",
       "      <th>...</th>\n",
       "      <td>...</td>\n",
       "      <td>...</td>\n",
       "    </tr>\n",
       "    <tr>\n",
       "      <th>219</th>\n",
       "      <td>0.0</td>\n",
       "      <td>0.0</td>\n",
       "    </tr>\n",
       "    <tr>\n",
       "      <th>220</th>\n",
       "      <td>0.0</td>\n",
       "      <td>0.0</td>\n",
       "    </tr>\n",
       "    <tr>\n",
       "      <th>221</th>\n",
       "      <td>0.0</td>\n",
       "      <td>0.0</td>\n",
       "    </tr>\n",
       "    <tr>\n",
       "      <th>222</th>\n",
       "      <td>0.0</td>\n",
       "      <td>1.0</td>\n",
       "    </tr>\n",
       "    <tr>\n",
       "      <th>223</th>\n",
       "      <td>0.0</td>\n",
       "      <td>0.0</td>\n",
       "    </tr>\n",
       "  </tbody>\n",
       "</table>\n",
       "<p>224 rows × 2 columns</p>\n",
       "</div>"
      ],
      "text/plain": [
       "     Prediction  Actual\n",
       "0           0.0     0.0\n",
       "1           0.0     0.0\n",
       "2           0.0     0.0\n",
       "3           0.0     1.0\n",
       "4           0.0     0.0\n",
       "..          ...     ...\n",
       "219         0.0     0.0\n",
       "220         0.0     0.0\n",
       "221         0.0     0.0\n",
       "222         0.0     1.0\n",
       "223         0.0     0.0\n",
       "\n",
       "[224 rows x 2 columns]"
      ]
     },
     "execution_count": 25,
     "metadata": {},
     "output_type": "execute_result"
    }
   ],
   "source": [
    "pd.DataFrame({\"Prediction\": predictions4, \"Actual\": y4_test}).reset_index(drop=True)"
   ]
  },
  {
   "cell_type": "markdown",
   "id": "f7dbdbe6",
   "metadata": {},
   "source": [
    "<h3 style=\"color:green\">Model 5</h3>\n",
    "<strong>Features: </strong> ColonyCount, TotalProduction, YieldPerColony, PricePerLB, ProductionValue, Stocks\n",
    "<br> (excludes all neonic pesticide data)"
   ]
  },
  {
   "cell_type": "code",
   "execution_count": 27,
   "id": "49eaa998",
   "metadata": {},
   "outputs": [
    {
     "name": "stdout",
     "output_type": "stream",
     "text": [
      "(894, 6) (894,)\n"
     ]
    }
   ],
   "source": [
    "X5 = raw_data[['ColonyCount', 'TotalProduction', 'YieldPerColony', 'PricePerLB', 'ProductionValue', 'Stocks']]\n",
    "y5 = raw_data[\"GrowthOutcome\"]\n",
    "# X5.head()\n",
    "# y5.head()\n",
    "print(X5.shape, y5.shape)"
   ]
  },
  {
   "cell_type": "code",
   "execution_count": 28,
   "id": "04f0efb7",
   "metadata": {},
   "outputs": [
    {
     "name": "stdout",
     "output_type": "stream",
     "text": [
      "Training Data Score: 0.5850746268656717\n",
      "Testing Data Score: 0.5758928571428571\n"
     ]
    }
   ],
   "source": [
    "X5_train, X5_test, y5_train, y5_test = train_test_split(X5, y5, random_state=1)\n",
    "classifier.fit(X5_train, y5_train)\n",
    "print(f\"Training Data Score: {classifier.score(X5_train, y5_train)}\")\n",
    "print(f\"Testing Data Score: {classifier.score(X5_test, y5_test)}\")"
   ]
  },
  {
   "cell_type": "code",
   "execution_count": 29,
   "id": "101a7606",
   "metadata": {},
   "outputs": [
    {
     "name": "stdout",
     "output_type": "stream",
     "text": [
      "First 10 Predictions:   [0. 0. 0. 0. 0. 1. 0. 0. 1. 0.]\n",
      "First 10 Actual labels: [0.0, 0.0, 0.0, 1.0, 0.0, 0.0, 1.0, 1.0, 0.0, 0.0]\n"
     ]
    }
   ],
   "source": [
    "predictions5 = classifier.predict(X5_test)\n",
    "print(f\"First 10 Predictions:   {predictions5[:10]}\")\n",
    "print(f\"First 10 Actual labels: {y5_test[:10].tolist()}\")"
   ]
  },
  {
   "cell_type": "code",
   "execution_count": 30,
   "id": "f0e3c74d",
   "metadata": {},
   "outputs": [
    {
     "data": {
      "text/html": [
       "<div>\n",
       "<style scoped>\n",
       "    .dataframe tbody tr th:only-of-type {\n",
       "        vertical-align: middle;\n",
       "    }\n",
       "\n",
       "    .dataframe tbody tr th {\n",
       "        vertical-align: top;\n",
       "    }\n",
       "\n",
       "    .dataframe thead th {\n",
       "        text-align: right;\n",
       "    }\n",
       "</style>\n",
       "<table border=\"1\" class=\"dataframe\">\n",
       "  <thead>\n",
       "    <tr style=\"text-align: right;\">\n",
       "      <th></th>\n",
       "      <th>Prediction</th>\n",
       "      <th>Actual</th>\n",
       "    </tr>\n",
       "  </thead>\n",
       "  <tbody>\n",
       "    <tr>\n",
       "      <th>0</th>\n",
       "      <td>0.0</td>\n",
       "      <td>0.0</td>\n",
       "    </tr>\n",
       "    <tr>\n",
       "      <th>1</th>\n",
       "      <td>0.0</td>\n",
       "      <td>0.0</td>\n",
       "    </tr>\n",
       "    <tr>\n",
       "      <th>2</th>\n",
       "      <td>0.0</td>\n",
       "      <td>0.0</td>\n",
       "    </tr>\n",
       "    <tr>\n",
       "      <th>3</th>\n",
       "      <td>0.0</td>\n",
       "      <td>1.0</td>\n",
       "    </tr>\n",
       "    <tr>\n",
       "      <th>4</th>\n",
       "      <td>0.0</td>\n",
       "      <td>0.0</td>\n",
       "    </tr>\n",
       "    <tr>\n",
       "      <th>...</th>\n",
       "      <td>...</td>\n",
       "      <td>...</td>\n",
       "    </tr>\n",
       "    <tr>\n",
       "      <th>219</th>\n",
       "      <td>0.0</td>\n",
       "      <td>0.0</td>\n",
       "    </tr>\n",
       "    <tr>\n",
       "      <th>220</th>\n",
       "      <td>1.0</td>\n",
       "      <td>0.0</td>\n",
       "    </tr>\n",
       "    <tr>\n",
       "      <th>221</th>\n",
       "      <td>0.0</td>\n",
       "      <td>0.0</td>\n",
       "    </tr>\n",
       "    <tr>\n",
       "      <th>222</th>\n",
       "      <td>1.0</td>\n",
       "      <td>1.0</td>\n",
       "    </tr>\n",
       "    <tr>\n",
       "      <th>223</th>\n",
       "      <td>1.0</td>\n",
       "      <td>0.0</td>\n",
       "    </tr>\n",
       "  </tbody>\n",
       "</table>\n",
       "<p>224 rows × 2 columns</p>\n",
       "</div>"
      ],
      "text/plain": [
       "     Prediction  Actual\n",
       "0           0.0     0.0\n",
       "1           0.0     0.0\n",
       "2           0.0     0.0\n",
       "3           0.0     1.0\n",
       "4           0.0     0.0\n",
       "..          ...     ...\n",
       "219         0.0     0.0\n",
       "220         1.0     0.0\n",
       "221         0.0     0.0\n",
       "222         1.0     1.0\n",
       "223         1.0     0.0\n",
       "\n",
       "[224 rows x 2 columns]"
      ]
     },
     "execution_count": 30,
     "metadata": {},
     "output_type": "execute_result"
    }
   ],
   "source": [
    "pd.DataFrame({\"Prediction\": predictions5, \"Actual\": y5_test}).reset_index(drop=True)"
   ]
  },
  {
   "cell_type": "markdown",
   "id": "73a20eb3",
   "metadata": {},
   "source": [
    "<h2 style= \"color:green\">Model Review</h2>\n",
    "<strong>Model 1:</strong><br>\n",
    "<ul> Training Data Score: 0.6044776119402985</ul>\n",
    "<ul>Testing Data Score: 0.6071428571428571</ul>\n",
    "<strong>Model 2</strong>\n",
    "<ul> Training Data Score: 0.5970149253731343</ul>\n",
    "<ul>Testing Data Score: 0.5580357142857143</ul>\n",
    "<strong>Model 3</strong>\n",
    "<ul> Training Data Score: 0.6447761194029851</ul>\n",
    "<ul>Testing Data Score: 0.6517857142857143</ul>\n",
    "<strong>Model 4</strong>\n",
    "<ul> Training Data Score: 0.6417910447761194</ul>\n",
    "<ul>Testing Data Score: 0.6651785714285714</ul>\n",
    "<strong>Model 5</strong>\n",
    "<ul> Training Data Score: 0.5850746268656717</ul>\n",
    "<ul>Testing Data Score: 0.5758928571428571</ul>"
   ]
  },
  {
   "cell_type": "code",
   "execution_count": null,
   "id": "da819197",
   "metadata": {},
   "outputs": [],
   "source": []
  }
 ],
 "metadata": {
  "kernelspec": {
   "display_name": "Python [conda env:PythonAdv] *",
   "language": "python",
   "name": "conda-env-PythonAdv-py"
  },
  "language_info": {
   "codemirror_mode": {
    "name": "ipython",
    "version": 3
   },
   "file_extension": ".py",
   "mimetype": "text/x-python",
   "name": "python",
   "nbconvert_exporter": "python",
   "pygments_lexer": "ipython3",
   "version": "3.6.13"
  }
 },
 "nbformat": 4,
 "nbformat_minor": 5
}
