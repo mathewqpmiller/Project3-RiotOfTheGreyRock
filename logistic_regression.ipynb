{
 "cells": [
  {
   "cell_type": "code",
   "execution_count": 1,
   "id": "6f40518f",
   "metadata": {},
   "outputs": [],
   "source": [
    "import pandas as pd\n",
    "from sklearn.model_selection import train_test_split\n",
    "from sklearn.linear_model import LogisticRegression\n",
    "import os"
   ]
  },
  {
   "cell_type": "code",
   "execution_count": 2,
   "id": "93faeeb1",
   "metadata": {
    "scrolled": true
   },
   "outputs": [
    {
     "data": {
      "text/html": [
       "<div>\n",
       "<style scoped>\n",
       "    .dataframe tbody tr th:only-of-type {\n",
       "        vertical-align: middle;\n",
       "    }\n",
       "\n",
       "    .dataframe tbody tr th {\n",
       "        vertical-align: top;\n",
       "    }\n",
       "\n",
       "    .dataframe thead th {\n",
       "        text-align: right;\n",
       "    }\n",
       "</style>\n",
       "<table border=\"1\" class=\"dataframe\">\n",
       "  <thead>\n",
       "    <tr style=\"text-align: right;\">\n",
       "      <th></th>\n",
       "      <th>ColonyCount</th>\n",
       "      <th>TotalProduction</th>\n",
       "      <th>YieldPerColony</th>\n",
       "      <th>PricePerLB</th>\n",
       "      <th>ProductionValue</th>\n",
       "      <th>Stocks</th>\n",
       "      <th>Clothianidin</th>\n",
       "      <th>Imidacloprid</th>\n",
       "      <th>Thiamethoxam</th>\n",
       "      <th>Acetamiprid</th>\n",
       "      <th>Thiacloprid</th>\n",
       "      <th>CombinedNeonic</th>\n",
       "      <th>GrowthOutcome</th>\n",
       "    </tr>\n",
       "  </thead>\n",
       "  <tbody>\n",
       "    <tr>\n",
       "      <th>0</th>\n",
       "      <td>16000.0</td>\n",
       "      <td>928000.0</td>\n",
       "      <td>58</td>\n",
       "      <td>0.69</td>\n",
       "      <td>640000.0</td>\n",
       "      <td>28000.0</td>\n",
       "      <td>0.0</td>\n",
       "      <td>716.5</td>\n",
       "      <td>0.0</td>\n",
       "      <td>0.0</td>\n",
       "      <td>0.0</td>\n",
       "      <td>716.5</td>\n",
       "      <td>0</td>\n",
       "    </tr>\n",
       "    <tr>\n",
       "      <th>1</th>\n",
       "      <td>15000.0</td>\n",
       "      <td>960000.0</td>\n",
       "      <td>64</td>\n",
       "      <td>0.87</td>\n",
       "      <td>835000.0</td>\n",
       "      <td>96000.0</td>\n",
       "      <td>0.0</td>\n",
       "      <td>371.6</td>\n",
       "      <td>0.0</td>\n",
       "      <td>0.0</td>\n",
       "      <td>0.0</td>\n",
       "      <td>371.6</td>\n",
       "      <td>0</td>\n",
       "    </tr>\n",
       "    <tr>\n",
       "      <th>2</th>\n",
       "      <td>14000.0</td>\n",
       "      <td>924000.0</td>\n",
       "      <td>66</td>\n",
       "      <td>0.81</td>\n",
       "      <td>748000.0</td>\n",
       "      <td>92000.0</td>\n",
       "      <td>0.0</td>\n",
       "      <td>6704.8</td>\n",
       "      <td>0.0</td>\n",
       "      <td>0.0</td>\n",
       "      <td>0.0</td>\n",
       "      <td>6704.8</td>\n",
       "      <td>0</td>\n",
       "    </tr>\n",
       "    <tr>\n",
       "      <th>3</th>\n",
       "      <td>16000.0</td>\n",
       "      <td>1136000.0</td>\n",
       "      <td>71</td>\n",
       "      <td>0.72</td>\n",
       "      <td>818000.0</td>\n",
       "      <td>159000.0</td>\n",
       "      <td>0.0</td>\n",
       "      <td>1836.3</td>\n",
       "      <td>0.0</td>\n",
       "      <td>0.0</td>\n",
       "      <td>0.0</td>\n",
       "      <td>1836.3</td>\n",
       "      <td>1</td>\n",
       "    </tr>\n",
       "    <tr>\n",
       "      <th>4</th>\n",
       "      <td>17000.0</td>\n",
       "      <td>1156000.0</td>\n",
       "      <td>68</td>\n",
       "      <td>0.56</td>\n",
       "      <td>647000.0</td>\n",
       "      <td>185000.0</td>\n",
       "      <td>0.0</td>\n",
       "      <td>1251.2</td>\n",
       "      <td>0.0</td>\n",
       "      <td>0.0</td>\n",
       "      <td>0.0</td>\n",
       "      <td>1251.2</td>\n",
       "      <td>1</td>\n",
       "    </tr>\n",
       "    <tr>\n",
       "      <th>...</th>\n",
       "      <td>...</td>\n",
       "      <td>...</td>\n",
       "      <td>...</td>\n",
       "      <td>...</td>\n",
       "      <td>...</td>\n",
       "      <td>...</td>\n",
       "      <td>...</td>\n",
       "      <td>...</td>\n",
       "      <td>...</td>\n",
       "      <td>...</td>\n",
       "      <td>...</td>\n",
       "      <td>...</td>\n",
       "      <td>...</td>\n",
       "    </tr>\n",
       "    <tr>\n",
       "      <th>890</th>\n",
       "      <td>50000.0</td>\n",
       "      <td>2550000.0</td>\n",
       "      <td>51</td>\n",
       "      <td>1.87</td>\n",
       "      <td>4769000.0</td>\n",
       "      <td>459000.0</td>\n",
       "      <td>1174.9</td>\n",
       "      <td>277.0</td>\n",
       "      <td>423.3</td>\n",
       "      <td>0.0</td>\n",
       "      <td>0.0</td>\n",
       "      <td>1875.2</td>\n",
       "      <td>1</td>\n",
       "    </tr>\n",
       "    <tr>\n",
       "      <th>891</th>\n",
       "      <td>47000.0</td>\n",
       "      <td>3102000.0</td>\n",
       "      <td>66</td>\n",
       "      <td>2.11</td>\n",
       "      <td>6545000.0</td>\n",
       "      <td>558000.0</td>\n",
       "      <td>840.9</td>\n",
       "      <td>155.9</td>\n",
       "      <td>526.2</td>\n",
       "      <td>0.0</td>\n",
       "      <td>0.0</td>\n",
       "      <td>1523.0</td>\n",
       "      <td>0</td>\n",
       "    </tr>\n",
       "    <tr>\n",
       "      <th>892</th>\n",
       "      <td>38000.0</td>\n",
       "      <td>2318000.0</td>\n",
       "      <td>61</td>\n",
       "      <td>2.08</td>\n",
       "      <td>4821000.0</td>\n",
       "      <td>255000.0</td>\n",
       "      <td>1262.0</td>\n",
       "      <td>258.2</td>\n",
       "      <td>566.1</td>\n",
       "      <td>0.0</td>\n",
       "      <td>0.0</td>\n",
       "      <td>2086.3</td>\n",
       "      <td>0</td>\n",
       "    </tr>\n",
       "    <tr>\n",
       "      <th>893</th>\n",
       "      <td>38000.0</td>\n",
       "      <td>2926000.0</td>\n",
       "      <td>77</td>\n",
       "      <td>1.90</td>\n",
       "      <td>5559000.0</td>\n",
       "      <td>146000.0</td>\n",
       "      <td>0.0</td>\n",
       "      <td>114.4</td>\n",
       "      <td>19.0</td>\n",
       "      <td>0.0</td>\n",
       "      <td>0.0</td>\n",
       "      <td>133.4</td>\n",
       "      <td>0</td>\n",
       "    </tr>\n",
       "    <tr>\n",
       "      <th>894</th>\n",
       "      <td>40000.0</td>\n",
       "      <td>2720000.0</td>\n",
       "      <td>68</td>\n",
       "      <td>1.78</td>\n",
       "      <td>4842000.0</td>\n",
       "      <td>190000.0</td>\n",
       "      <td>0.0</td>\n",
       "      <td>27.5</td>\n",
       "      <td>9.4</td>\n",
       "      <td>0.0</td>\n",
       "      <td>0.0</td>\n",
       "      <td>36.9</td>\n",
       "      <td>1</td>\n",
       "    </tr>\n",
       "  </tbody>\n",
       "</table>\n",
       "<p>895 rows × 13 columns</p>\n",
       "</div>"
      ],
      "text/plain": [
       "     ColonyCount  TotalProduction  YieldPerColony  PricePerLB  \\\n",
       "0        16000.0         928000.0              58        0.69   \n",
       "1        15000.0         960000.0              64        0.87   \n",
       "2        14000.0         924000.0              66        0.81   \n",
       "3        16000.0        1136000.0              71        0.72   \n",
       "4        17000.0        1156000.0              68        0.56   \n",
       "..           ...              ...             ...         ...   \n",
       "890      50000.0        2550000.0              51        1.87   \n",
       "891      47000.0        3102000.0              66        2.11   \n",
       "892      38000.0        2318000.0              61        2.08   \n",
       "893      38000.0        2926000.0              77        1.90   \n",
       "894      40000.0        2720000.0              68        1.78   \n",
       "\n",
       "     ProductionValue    Stocks  Clothianidin  Imidacloprid  Thiamethoxam  \\\n",
       "0           640000.0   28000.0           0.0         716.5           0.0   \n",
       "1           835000.0   96000.0           0.0         371.6           0.0   \n",
       "2           748000.0   92000.0           0.0        6704.8           0.0   \n",
       "3           818000.0  159000.0           0.0        1836.3           0.0   \n",
       "4           647000.0  185000.0           0.0        1251.2           0.0   \n",
       "..               ...       ...           ...           ...           ...   \n",
       "890        4769000.0  459000.0        1174.9         277.0         423.3   \n",
       "891        6545000.0  558000.0         840.9         155.9         526.2   \n",
       "892        4821000.0  255000.0        1262.0         258.2         566.1   \n",
       "893        5559000.0  146000.0           0.0         114.4          19.0   \n",
       "894        4842000.0  190000.0           0.0          27.5           9.4   \n",
       "\n",
       "     Acetamiprid  Thiacloprid  CombinedNeonic  GrowthOutcome  \n",
       "0            0.0          0.0           716.5              0  \n",
       "1            0.0          0.0           371.6              0  \n",
       "2            0.0          0.0          6704.8              0  \n",
       "3            0.0          0.0          1836.3              1  \n",
       "4            0.0          0.0          1251.2              1  \n",
       "..           ...          ...             ...            ...  \n",
       "890          0.0          0.0          1875.2              1  \n",
       "891          0.0          0.0          1523.0              0  \n",
       "892          0.0          0.0          2086.3              0  \n",
       "893          0.0          0.0           133.4              0  \n",
       "894          0.0          0.0            36.9              1  \n",
       "\n",
       "[895 rows x 13 columns]"
      ]
     },
     "execution_count": 2,
     "metadata": {},
     "output_type": "execute_result"
    }
   ],
   "source": [
    "raw_data = pd.read_csv(os.path.join(\"Resources\", \"Data\", \"growth_designation.csv\"))\n",
    "raw_data"
   ]
  },
  {
   "cell_type": "code",
   "execution_count": 3,
   "id": "6ee6c6fd",
   "metadata": {},
   "outputs": [
    {
     "data": {
      "text/plain": [
       "LogisticRegression(max_iter=500)"
      ]
     },
     "execution_count": 3,
     "metadata": {},
     "output_type": "execute_result"
    }
   ],
   "source": [
    "classifier = LogisticRegression(max_iter=500)\n",
    "classifier"
   ]
  },
  {
   "cell_type": "markdown",
   "id": "5f6e91fd",
   "metadata": {},
   "source": [
    "<h3 style=\"color:green\">Model 1</h3>\n",
    "<strong>Features: </strong>All columns"
   ]
  },
  {
   "cell_type": "code",
   "execution_count": 4,
   "id": "ff1adbd7",
   "metadata": {},
   "outputs": [
    {
     "name": "stdout",
     "output_type": "stream",
     "text": [
      "(895, 12) (895,)\n"
     ]
    }
   ],
   "source": [
    "X1 = raw_data.drop(columns=['GrowthOutcome'])\n",
    "y1 = raw_data[\"GrowthOutcome\"]\n",
    "print(X1.shape, y1.shape)"
   ]
  },
  {
   "cell_type": "code",
   "execution_count": 5,
   "id": "6b376f3d",
   "metadata": {},
   "outputs": [],
   "source": [
    "X1_train, X1_test, y1_train, y1_test = train_test_split(X1, y1, random_state=1)"
   ]
  },
  {
   "cell_type": "code",
   "execution_count": 6,
   "id": "33f9a263",
   "metadata": {},
   "outputs": [
    {
     "data": {
      "text/plain": [
       "LogisticRegression(max_iter=500)"
      ]
     },
     "execution_count": 6,
     "metadata": {},
     "output_type": "execute_result"
    }
   ],
   "source": [
    "classifier.fit(X1_train, y1_train)"
   ]
  },
  {
   "cell_type": "code",
   "execution_count": 7,
   "id": "c86bdb99",
   "metadata": {},
   "outputs": [
    {
     "name": "stdout",
     "output_type": "stream",
     "text": [
      "Training Data Score: 0.6065573770491803\n",
      "Testing Data Score: 0.5892857142857143\n"
     ]
    }
   ],
   "source": [
    "print(f\"Training Data Score: {classifier.score(X1_train, y1_train)}\")\n",
    "print(f\"Testing Data Score: {classifier.score(X1_test, y1_test)}\")"
   ]
  },
  {
   "cell_type": "code",
   "execution_count": 8,
   "id": "59ffa39b",
   "metadata": {},
   "outputs": [
    {
     "name": "stdout",
     "output_type": "stream",
     "text": [
      "First 10 Predictions:   [0 0 0 0 0 0 1 0 0 0]\n",
      "First 10 Actual labels: [0, 0, 1, 0, 0, 1, 0, 0, 1, 1]\n"
     ]
    }
   ],
   "source": [
    "predictions1 = classifier.predict(X1_test)\n",
    "print(f\"First 10 Predictions:   {predictions1[:10]}\")\n",
    "print(f\"First 10 Actual labels: {y1_test[:10].tolist()}\")"
   ]
  },
  {
   "cell_type": "code",
   "execution_count": 9,
   "id": "f4e2a943",
   "metadata": {},
   "outputs": [
    {
     "data": {
      "text/html": [
       "<div>\n",
       "<style scoped>\n",
       "    .dataframe tbody tr th:only-of-type {\n",
       "        vertical-align: middle;\n",
       "    }\n",
       "\n",
       "    .dataframe tbody tr th {\n",
       "        vertical-align: top;\n",
       "    }\n",
       "\n",
       "    .dataframe thead th {\n",
       "        text-align: right;\n",
       "    }\n",
       "</style>\n",
       "<table border=\"1\" class=\"dataframe\">\n",
       "  <thead>\n",
       "    <tr style=\"text-align: right;\">\n",
       "      <th></th>\n",
       "      <th>Prediction</th>\n",
       "      <th>Actual</th>\n",
       "    </tr>\n",
       "  </thead>\n",
       "  <tbody>\n",
       "    <tr>\n",
       "      <th>0</th>\n",
       "      <td>0</td>\n",
       "      <td>0</td>\n",
       "    </tr>\n",
       "    <tr>\n",
       "      <th>1</th>\n",
       "      <td>0</td>\n",
       "      <td>0</td>\n",
       "    </tr>\n",
       "    <tr>\n",
       "      <th>2</th>\n",
       "      <td>0</td>\n",
       "      <td>1</td>\n",
       "    </tr>\n",
       "    <tr>\n",
       "      <th>3</th>\n",
       "      <td>0</td>\n",
       "      <td>0</td>\n",
       "    </tr>\n",
       "    <tr>\n",
       "      <th>4</th>\n",
       "      <td>0</td>\n",
       "      <td>0</td>\n",
       "    </tr>\n",
       "    <tr>\n",
       "      <th>...</th>\n",
       "      <td>...</td>\n",
       "      <td>...</td>\n",
       "    </tr>\n",
       "    <tr>\n",
       "      <th>219</th>\n",
       "      <td>1</td>\n",
       "      <td>0</td>\n",
       "    </tr>\n",
       "    <tr>\n",
       "      <th>220</th>\n",
       "      <td>0</td>\n",
       "      <td>1</td>\n",
       "    </tr>\n",
       "    <tr>\n",
       "      <th>221</th>\n",
       "      <td>0</td>\n",
       "      <td>0</td>\n",
       "    </tr>\n",
       "    <tr>\n",
       "      <th>222</th>\n",
       "      <td>0</td>\n",
       "      <td>0</td>\n",
       "    </tr>\n",
       "    <tr>\n",
       "      <th>223</th>\n",
       "      <td>0</td>\n",
       "      <td>0</td>\n",
       "    </tr>\n",
       "  </tbody>\n",
       "</table>\n",
       "<p>224 rows × 2 columns</p>\n",
       "</div>"
      ],
      "text/plain": [
       "     Prediction  Actual\n",
       "0             0       0\n",
       "1             0       0\n",
       "2             0       1\n",
       "3             0       0\n",
       "4             0       0\n",
       "..          ...     ...\n",
       "219           1       0\n",
       "220           0       1\n",
       "221           0       0\n",
       "222           0       0\n",
       "223           0       0\n",
       "\n",
       "[224 rows x 2 columns]"
      ]
     },
     "execution_count": 9,
     "metadata": {},
     "output_type": "execute_result"
    }
   ],
   "source": [
    "pd.DataFrame({\"Prediction\": predictions1, \"Actual\": y1_test}).reset_index(drop=True)"
   ]
  },
  {
   "cell_type": "markdown",
   "id": "8aeaafe6",
   "metadata": {},
   "source": [
    "<h3 style=\"color:green\">Model 2</h3>\n",
    "<strong>Features: </strong>ProductionValue, TotalProduction, ImidaclopridLB, Stocks, PricePerLB\n",
    "<br>(top five from random forest model)"
   ]
  },
  {
   "cell_type": "code",
   "execution_count": 10,
   "id": "2d36ad8d",
   "metadata": {},
   "outputs": [
    {
     "name": "stdout",
     "output_type": "stream",
     "text": [
      "(895, 5) (895,)\n"
     ]
    }
   ],
   "source": [
    "X2 = raw_data[['ProductionValue', 'TotalProduction', 'Imidacloprid','Stocks','PricePerLB']]\n",
    "y2 = raw_data[\"GrowthOutcome\"]\n",
    "# X2.head()\n",
    "# y2.head()\n",
    "print(X2.shape, y2.shape)"
   ]
  },
  {
   "cell_type": "code",
   "execution_count": 11,
   "id": "7b59c784",
   "metadata": {},
   "outputs": [],
   "source": [
    "X2_train, X2_test, y2_train, y2_test = train_test_split(X2, y2, random_state=1)"
   ]
  },
  {
   "cell_type": "code",
   "execution_count": 12,
   "id": "e747e6a5",
   "metadata": {},
   "outputs": [
    {
     "name": "stdout",
     "output_type": "stream",
     "text": [
      "Training Data Score: 0.6229508196721312\n",
      "Testing Data Score: 0.5803571428571429\n"
     ]
    }
   ],
   "source": [
    "classifier.fit(X2_train, y2_train)\n",
    "print(f\"Training Data Score: {classifier.score(X2_train, y2_train)}\")\n",
    "print(f\"Testing Data Score: {classifier.score(X2_test, y2_test)}\")"
   ]
  },
  {
   "cell_type": "code",
   "execution_count": 13,
   "id": "88a5daf9",
   "metadata": {},
   "outputs": [
    {
     "name": "stdout",
     "output_type": "stream",
     "text": [
      "First 10 Predictions:   [0 0 0 0 0 0 0 0 0 0]\n",
      "First 10 Actual labels: [0, 0, 1, 0, 0, 1, 0, 0, 1, 1]\n"
     ]
    }
   ],
   "source": [
    "predictions2 = classifier.predict(X2_test)\n",
    "print(f\"First 10 Predictions:   {predictions2[:10]}\")\n",
    "print(f\"First 10 Actual labels: {y2_test[:10].tolist()}\")"
   ]
  },
  {
   "cell_type": "code",
   "execution_count": 14,
   "id": "767cdec8",
   "metadata": {},
   "outputs": [
    {
     "data": {
      "text/html": [
       "<div>\n",
       "<style scoped>\n",
       "    .dataframe tbody tr th:only-of-type {\n",
       "        vertical-align: middle;\n",
       "    }\n",
       "\n",
       "    .dataframe tbody tr th {\n",
       "        vertical-align: top;\n",
       "    }\n",
       "\n",
       "    .dataframe thead th {\n",
       "        text-align: right;\n",
       "    }\n",
       "</style>\n",
       "<table border=\"1\" class=\"dataframe\">\n",
       "  <thead>\n",
       "    <tr style=\"text-align: right;\">\n",
       "      <th></th>\n",
       "      <th>Prediction</th>\n",
       "      <th>Actual</th>\n",
       "    </tr>\n",
       "  </thead>\n",
       "  <tbody>\n",
       "    <tr>\n",
       "      <th>0</th>\n",
       "      <td>0</td>\n",
       "      <td>0</td>\n",
       "    </tr>\n",
       "    <tr>\n",
       "      <th>1</th>\n",
       "      <td>0</td>\n",
       "      <td>0</td>\n",
       "    </tr>\n",
       "    <tr>\n",
       "      <th>2</th>\n",
       "      <td>0</td>\n",
       "      <td>1</td>\n",
       "    </tr>\n",
       "    <tr>\n",
       "      <th>3</th>\n",
       "      <td>0</td>\n",
       "      <td>0</td>\n",
       "    </tr>\n",
       "    <tr>\n",
       "      <th>4</th>\n",
       "      <td>0</td>\n",
       "      <td>0</td>\n",
       "    </tr>\n",
       "    <tr>\n",
       "      <th>...</th>\n",
       "      <td>...</td>\n",
       "      <td>...</td>\n",
       "    </tr>\n",
       "    <tr>\n",
       "      <th>219</th>\n",
       "      <td>0</td>\n",
       "      <td>0</td>\n",
       "    </tr>\n",
       "    <tr>\n",
       "      <th>220</th>\n",
       "      <td>0</td>\n",
       "      <td>1</td>\n",
       "    </tr>\n",
       "    <tr>\n",
       "      <th>221</th>\n",
       "      <td>0</td>\n",
       "      <td>0</td>\n",
       "    </tr>\n",
       "    <tr>\n",
       "      <th>222</th>\n",
       "      <td>1</td>\n",
       "      <td>0</td>\n",
       "    </tr>\n",
       "    <tr>\n",
       "      <th>223</th>\n",
       "      <td>0</td>\n",
       "      <td>0</td>\n",
       "    </tr>\n",
       "  </tbody>\n",
       "</table>\n",
       "<p>224 rows × 2 columns</p>\n",
       "</div>"
      ],
      "text/plain": [
       "     Prediction  Actual\n",
       "0             0       0\n",
       "1             0       0\n",
       "2             0       1\n",
       "3             0       0\n",
       "4             0       0\n",
       "..          ...     ...\n",
       "219           0       0\n",
       "220           0       1\n",
       "221           0       0\n",
       "222           1       0\n",
       "223           0       0\n",
       "\n",
       "[224 rows x 2 columns]"
      ]
     },
     "execution_count": 14,
     "metadata": {},
     "output_type": "execute_result"
    }
   ],
   "source": [
    "pd.DataFrame({\"Prediction\": predictions2, \"Actual\": y2_test}).reset_index(drop=True)"
   ]
  },
  {
   "cell_type": "markdown",
   "id": "b178ea30",
   "metadata": {},
   "source": [
    "<h3 style=\"color:green\">Model 3</h3>\n",
    "<strong>Features: </strong> ClothianidinLB, ImidaclopridLB, ThiamethoxamLB, AcetamipridLB, ThiaclopridLB\n",
    "<br>(each neonic pesticide)"
   ]
  },
  {
   "cell_type": "code",
   "execution_count": 15,
   "id": "37c94eff",
   "metadata": {},
   "outputs": [
    {
     "name": "stdout",
     "output_type": "stream",
     "text": [
      "(895, 5) (895,)\n"
     ]
    }
   ],
   "source": [
    "X3 = raw_data[['Clothianidin', 'Imidacloprid', 'Thiamethoxam','Acetamiprid','Thiacloprid']]\n",
    "y3 = raw_data[\"GrowthOutcome\"]\n",
    "# X3.head()\n",
    "# y3.head()\n",
    "print(X3.shape, y3.shape)"
   ]
  },
  {
   "cell_type": "code",
   "execution_count": 16,
   "id": "2690a648",
   "metadata": {},
   "outputs": [
    {
     "name": "stdout",
     "output_type": "stream",
     "text": [
      "Training Data Score: 0.6602086438152012\n",
      "Testing Data Score: 0.6116071428571429\n"
     ]
    }
   ],
   "source": [
    "X3_train, X3_test, y3_train, y3_test = train_test_split(X3, y3, random_state=1)\n",
    "classifier.fit(X3_train, y3_train)\n",
    "print(f\"Training Data Score: {classifier.score(X3_train, y3_train)}\")\n",
    "print(f\"Testing Data Score: {classifier.score(X3_test, y3_test)}\")"
   ]
  },
  {
   "cell_type": "code",
   "execution_count": 17,
   "id": "6656f34f",
   "metadata": {},
   "outputs": [
    {
     "name": "stdout",
     "output_type": "stream",
     "text": [
      "First 10 Predictions:   [0 0 0 1 0 0 0 0 0 0]\n",
      "First 10 Actual labels: [0, 0, 1, 0, 0, 1, 0, 0, 1, 1]\n"
     ]
    }
   ],
   "source": [
    "predictions3 = classifier.predict(X3_test)\n",
    "print(f\"First 10 Predictions:   {predictions3[:10]}\")\n",
    "print(f\"First 10 Actual labels: {y3_test[:10].tolist()}\")"
   ]
  },
  {
   "cell_type": "code",
   "execution_count": 18,
   "id": "9ad61a4f",
   "metadata": {},
   "outputs": [
    {
     "data": {
      "text/html": [
       "<div>\n",
       "<style scoped>\n",
       "    .dataframe tbody tr th:only-of-type {\n",
       "        vertical-align: middle;\n",
       "    }\n",
       "\n",
       "    .dataframe tbody tr th {\n",
       "        vertical-align: top;\n",
       "    }\n",
       "\n",
       "    .dataframe thead th {\n",
       "        text-align: right;\n",
       "    }\n",
       "</style>\n",
       "<table border=\"1\" class=\"dataframe\">\n",
       "  <thead>\n",
       "    <tr style=\"text-align: right;\">\n",
       "      <th></th>\n",
       "      <th>Prediction</th>\n",
       "      <th>Actual</th>\n",
       "    </tr>\n",
       "  </thead>\n",
       "  <tbody>\n",
       "    <tr>\n",
       "      <th>0</th>\n",
       "      <td>0</td>\n",
       "      <td>0</td>\n",
       "    </tr>\n",
       "    <tr>\n",
       "      <th>1</th>\n",
       "      <td>0</td>\n",
       "      <td>0</td>\n",
       "    </tr>\n",
       "    <tr>\n",
       "      <th>2</th>\n",
       "      <td>0</td>\n",
       "      <td>1</td>\n",
       "    </tr>\n",
       "    <tr>\n",
       "      <th>3</th>\n",
       "      <td>1</td>\n",
       "      <td>0</td>\n",
       "    </tr>\n",
       "    <tr>\n",
       "      <th>4</th>\n",
       "      <td>0</td>\n",
       "      <td>0</td>\n",
       "    </tr>\n",
       "    <tr>\n",
       "      <th>...</th>\n",
       "      <td>...</td>\n",
       "      <td>...</td>\n",
       "    </tr>\n",
       "    <tr>\n",
       "      <th>219</th>\n",
       "      <td>0</td>\n",
       "      <td>0</td>\n",
       "    </tr>\n",
       "    <tr>\n",
       "      <th>220</th>\n",
       "      <td>1</td>\n",
       "      <td>1</td>\n",
       "    </tr>\n",
       "    <tr>\n",
       "      <th>221</th>\n",
       "      <td>0</td>\n",
       "      <td>0</td>\n",
       "    </tr>\n",
       "    <tr>\n",
       "      <th>222</th>\n",
       "      <td>0</td>\n",
       "      <td>0</td>\n",
       "    </tr>\n",
       "    <tr>\n",
       "      <th>223</th>\n",
       "      <td>0</td>\n",
       "      <td>0</td>\n",
       "    </tr>\n",
       "  </tbody>\n",
       "</table>\n",
       "<p>224 rows × 2 columns</p>\n",
       "</div>"
      ],
      "text/plain": [
       "     Prediction  Actual\n",
       "0             0       0\n",
       "1             0       0\n",
       "2             0       1\n",
       "3             1       0\n",
       "4             0       0\n",
       "..          ...     ...\n",
       "219           0       0\n",
       "220           1       1\n",
       "221           0       0\n",
       "222           0       0\n",
       "223           0       0\n",
       "\n",
       "[224 rows x 2 columns]"
      ]
     },
     "execution_count": 18,
     "metadata": {},
     "output_type": "execute_result"
    }
   ],
   "source": [
    "pd.DataFrame({\"Prediction\": predictions3, \"Actual\": y3_test}).reset_index(drop=True)"
   ]
  },
  {
   "cell_type": "markdown",
   "id": "c16f08b5",
   "metadata": {},
   "source": [
    "<h3 style=\"color:green\">Model 4</h3>\n",
    "<strong>Features: </strong> CombinedNeonic"
   ]
  },
  {
   "cell_type": "code",
   "execution_count": 19,
   "id": "4eed1db2",
   "metadata": {},
   "outputs": [
    {
     "name": "stdout",
     "output_type": "stream",
     "text": [
      "(895, 1) (895,)\n"
     ]
    }
   ],
   "source": [
    "X4 = raw_data[[\"CombinedNeonic\"]]\n",
    "y4 = raw_data[\"GrowthOutcome\"]\n",
    "# X4.head()\n",
    "# y4.head()\n",
    "print(X4.shape, y4.shape)"
   ]
  },
  {
   "cell_type": "code",
   "execution_count": 20,
   "id": "4f966814",
   "metadata": {},
   "outputs": [
    {
     "name": "stdout",
     "output_type": "stream",
     "text": [
      "Training Data Score: 0.6497764530551415\n",
      "Testing Data Score: 0.6205357142857143\n"
     ]
    }
   ],
   "source": [
    "X4_train, X4_test, y4_train, y4_test = train_test_split(X4, y4, random_state=1)\n",
    "classifier.fit(X4_train, y4_train)\n",
    "print(f\"Training Data Score: {classifier.score(X4_train, y4_train)}\")\n",
    "print(f\"Testing Data Score: {classifier.score(X4_test, y4_test)}\")"
   ]
  },
  {
   "cell_type": "code",
   "execution_count": 21,
   "id": "6eb872bb",
   "metadata": {},
   "outputs": [
    {
     "name": "stdout",
     "output_type": "stream",
     "text": [
      "First 10 Predictions:   [0 0 0 0 0 0 0 0 0 0]\n",
      "First 10 Actual labels: [0, 0, 1, 0, 0, 1, 0, 0, 1, 1]\n"
     ]
    }
   ],
   "source": [
    "predictions4 = classifier.predict(X4_test)\n",
    "print(f\"First 10 Predictions:   {predictions4[:10]}\")\n",
    "print(f\"First 10 Actual labels: {y4_test[:10].tolist()}\")"
   ]
  },
  {
   "cell_type": "code",
   "execution_count": 22,
   "id": "b7b22a37",
   "metadata": {},
   "outputs": [
    {
     "data": {
      "text/html": [
       "<div>\n",
       "<style scoped>\n",
       "    .dataframe tbody tr th:only-of-type {\n",
       "        vertical-align: middle;\n",
       "    }\n",
       "\n",
       "    .dataframe tbody tr th {\n",
       "        vertical-align: top;\n",
       "    }\n",
       "\n",
       "    .dataframe thead th {\n",
       "        text-align: right;\n",
       "    }\n",
       "</style>\n",
       "<table border=\"1\" class=\"dataframe\">\n",
       "  <thead>\n",
       "    <tr style=\"text-align: right;\">\n",
       "      <th></th>\n",
       "      <th>Prediction</th>\n",
       "      <th>Actual</th>\n",
       "    </tr>\n",
       "  </thead>\n",
       "  <tbody>\n",
       "    <tr>\n",
       "      <th>0</th>\n",
       "      <td>0</td>\n",
       "      <td>0</td>\n",
       "    </tr>\n",
       "    <tr>\n",
       "      <th>1</th>\n",
       "      <td>0</td>\n",
       "      <td>0</td>\n",
       "    </tr>\n",
       "    <tr>\n",
       "      <th>2</th>\n",
       "      <td>0</td>\n",
       "      <td>1</td>\n",
       "    </tr>\n",
       "    <tr>\n",
       "      <th>3</th>\n",
       "      <td>0</td>\n",
       "      <td>0</td>\n",
       "    </tr>\n",
       "    <tr>\n",
       "      <th>4</th>\n",
       "      <td>0</td>\n",
       "      <td>0</td>\n",
       "    </tr>\n",
       "    <tr>\n",
       "      <th>...</th>\n",
       "      <td>...</td>\n",
       "      <td>...</td>\n",
       "    </tr>\n",
       "    <tr>\n",
       "      <th>219</th>\n",
       "      <td>0</td>\n",
       "      <td>0</td>\n",
       "    </tr>\n",
       "    <tr>\n",
       "      <th>220</th>\n",
       "      <td>0</td>\n",
       "      <td>1</td>\n",
       "    </tr>\n",
       "    <tr>\n",
       "      <th>221</th>\n",
       "      <td>0</td>\n",
       "      <td>0</td>\n",
       "    </tr>\n",
       "    <tr>\n",
       "      <th>222</th>\n",
       "      <td>0</td>\n",
       "      <td>0</td>\n",
       "    </tr>\n",
       "    <tr>\n",
       "      <th>223</th>\n",
       "      <td>0</td>\n",
       "      <td>0</td>\n",
       "    </tr>\n",
       "  </tbody>\n",
       "</table>\n",
       "<p>224 rows × 2 columns</p>\n",
       "</div>"
      ],
      "text/plain": [
       "     Prediction  Actual\n",
       "0             0       0\n",
       "1             0       0\n",
       "2             0       1\n",
       "3             0       0\n",
       "4             0       0\n",
       "..          ...     ...\n",
       "219           0       0\n",
       "220           0       1\n",
       "221           0       0\n",
       "222           0       0\n",
       "223           0       0\n",
       "\n",
       "[224 rows x 2 columns]"
      ]
     },
     "execution_count": 22,
     "metadata": {},
     "output_type": "execute_result"
    }
   ],
   "source": [
    "pd.DataFrame({\"Prediction\": predictions4, \"Actual\": y4_test}).reset_index(drop=True)"
   ]
  },
  {
   "cell_type": "markdown",
   "id": "e484feed",
   "metadata": {},
   "source": [
    "<h3 style=\"color:green\">Model 5</h3>\n",
    "<strong>Features: </strong> ColonyCount, TotalProduction, YieldPerColony, PricePerLB, ProductionValue, Stocks\n",
    "<br> (excludes all neonic pesticide data)"
   ]
  },
  {
   "cell_type": "code",
   "execution_count": 23,
   "id": "49eaa998",
   "metadata": {},
   "outputs": [
    {
     "name": "stdout",
     "output_type": "stream",
     "text": [
      "(895, 7) (895,)\n"
     ]
    }
   ],
   "source": [
    "X5 = raw_data.drop(columns=['Clothianidin', 'Imidacloprid', 'Thiamethoxam','Acetamiprid','Thiacloprid', 'CombinedNeonic'])\n",
    "y5 = raw_data[\"GrowthOutcome\"]\n",
    "# X5.head()\n",
    "# y5.head()\n",
    "print(X5.shape, y5.shape)"
   ]
  },
  {
   "cell_type": "code",
   "execution_count": 24,
   "id": "04f0efb7",
   "metadata": {},
   "outputs": [
    {
     "name": "stdout",
     "output_type": "stream",
     "text": [
      "Training Data Score: 0.6080476900149031\n",
      "Testing Data Score: 0.6160714285714286\n"
     ]
    }
   ],
   "source": [
    "X5_train, X5_test, y5_train, y5_test = train_test_split(X5, y5, random_state=1)\n",
    "classifier.fit(X5_train, y5_train)\n",
    "print(f\"Training Data Score: {classifier.score(X5_train, y5_train)}\")\n",
    "print(f\"Testing Data Score: {classifier.score(X5_test, y5_test)}\")"
   ]
  },
  {
   "cell_type": "code",
   "execution_count": 25,
   "id": "101a7606",
   "metadata": {},
   "outputs": [
    {
     "name": "stdout",
     "output_type": "stream",
     "text": [
      "First 10 Predictions:   [0 0 0 0 0 0 1 0 0 0]\n",
      "First 10 Actual labels: [0, 0, 1, 0, 0, 1, 0, 0, 1, 1]\n"
     ]
    }
   ],
   "source": [
    "predictions5 = classifier.predict(X5_test)\n",
    "print(f\"First 10 Predictions:   {predictions5[:10]}\")\n",
    "print(f\"First 10 Actual labels: {y5_test[:10].tolist()}\")"
   ]
  },
  {
   "cell_type": "code",
   "execution_count": 26,
   "id": "f0e3c74d",
   "metadata": {},
   "outputs": [
    {
     "data": {
      "text/html": [
       "<div>\n",
       "<style scoped>\n",
       "    .dataframe tbody tr th:only-of-type {\n",
       "        vertical-align: middle;\n",
       "    }\n",
       "\n",
       "    .dataframe tbody tr th {\n",
       "        vertical-align: top;\n",
       "    }\n",
       "\n",
       "    .dataframe thead th {\n",
       "        text-align: right;\n",
       "    }\n",
       "</style>\n",
       "<table border=\"1\" class=\"dataframe\">\n",
       "  <thead>\n",
       "    <tr style=\"text-align: right;\">\n",
       "      <th></th>\n",
       "      <th>Prediction</th>\n",
       "      <th>Actual</th>\n",
       "    </tr>\n",
       "  </thead>\n",
       "  <tbody>\n",
       "    <tr>\n",
       "      <th>0</th>\n",
       "      <td>0</td>\n",
       "      <td>0</td>\n",
       "    </tr>\n",
       "    <tr>\n",
       "      <th>1</th>\n",
       "      <td>0</td>\n",
       "      <td>0</td>\n",
       "    </tr>\n",
       "    <tr>\n",
       "      <th>2</th>\n",
       "      <td>0</td>\n",
       "      <td>1</td>\n",
       "    </tr>\n",
       "    <tr>\n",
       "      <th>3</th>\n",
       "      <td>0</td>\n",
       "      <td>0</td>\n",
       "    </tr>\n",
       "    <tr>\n",
       "      <th>4</th>\n",
       "      <td>0</td>\n",
       "      <td>0</td>\n",
       "    </tr>\n",
       "    <tr>\n",
       "      <th>...</th>\n",
       "      <td>...</td>\n",
       "      <td>...</td>\n",
       "    </tr>\n",
       "    <tr>\n",
       "      <th>219</th>\n",
       "      <td>0</td>\n",
       "      <td>0</td>\n",
       "    </tr>\n",
       "    <tr>\n",
       "      <th>220</th>\n",
       "      <td>1</td>\n",
       "      <td>1</td>\n",
       "    </tr>\n",
       "    <tr>\n",
       "      <th>221</th>\n",
       "      <td>0</td>\n",
       "      <td>0</td>\n",
       "    </tr>\n",
       "    <tr>\n",
       "      <th>222</th>\n",
       "      <td>0</td>\n",
       "      <td>0</td>\n",
       "    </tr>\n",
       "    <tr>\n",
       "      <th>223</th>\n",
       "      <td>0</td>\n",
       "      <td>0</td>\n",
       "    </tr>\n",
       "  </tbody>\n",
       "</table>\n",
       "<p>224 rows × 2 columns</p>\n",
       "</div>"
      ],
      "text/plain": [
       "     Prediction  Actual\n",
       "0             0       0\n",
       "1             0       0\n",
       "2             0       1\n",
       "3             0       0\n",
       "4             0       0\n",
       "..          ...     ...\n",
       "219           0       0\n",
       "220           1       1\n",
       "221           0       0\n",
       "222           0       0\n",
       "223           0       0\n",
       "\n",
       "[224 rows x 2 columns]"
      ]
     },
     "execution_count": 26,
     "metadata": {},
     "output_type": "execute_result"
    }
   ],
   "source": [
    "pd.DataFrame({\"Prediction\": predictions5, \"Actual\": y5_test}).reset_index(drop=True)"
   ]
  },
  {
   "cell_type": "markdown",
   "id": "1c77da89",
   "metadata": {},
   "source": [
    "<h2 style= \"color:green\">Model Review</h2>\n",
    "<strong>Model 1:</strong><br>\n",
    "<ul> Training Data Score: 0.6104477611940299</ul>\n",
    "<ul>Testing Data Score: 0.6116071428571429</ul>\n",
    "<strong>Model 2</strong>\n",
    "<ul> Training Data Score: 0.5970149253731343</ul>\n",
    "<ul>Testing Data Score: 0.5580357142857143</ul>\n",
    "<strong>Model 3</strong>\n",
    "<ul> Training Data Score: 0.6447761194029851</ul>\n",
    "<ul>Testing Data Score: 0.6517857142857143</ul>\n",
    "<strong>Model 4</strong>\n",
    "<ul> Training Data Score: 0.6417910447761194</ul>\n",
    "<ul>Testing Data Score: 0.6651785714285714</ul>\n",
    "<strong>Model 5</strong>\n",
    "<ul> Training Data Score: 0.5850746268656717</ul>\n",
    "<ul>Testing Data Score: 0.5758928571428571</ul>"
   ]
  },
  {
   "cell_type": "code",
   "execution_count": null,
   "id": "db16b90e",
   "metadata": {},
   "outputs": [],
   "source": []
  }
 ],
 "metadata": {
  "kernelspec": {
   "display_name": "Python [conda env:root]",
   "language": "python",
   "name": "conda-root-py"
  },
  "language_info": {
   "codemirror_mode": {
    "name": "ipython",
    "version": 3
   },
   "file_extension": ".py",
   "mimetype": "text/x-python",
   "name": "python",
   "nbconvert_exporter": "python",
   "pygments_lexer": "ipython3",
   "version": "3.8.3"
  }
 },
 "nbformat": 4,
 "nbformat_minor": 5
}
